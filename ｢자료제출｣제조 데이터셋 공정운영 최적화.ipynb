{
 "cells": [
  {
   "cell_type": "markdown",
   "metadata": {},
   "source": [
    "판다스 EDA 및 seaborn 차트"
   ]
  },
  {
   "cell_type": "code",
   "execution_count": 84,
   "metadata": {},
   "outputs": [
    {
     "name": "stdout",
     "output_type": "stream",
     "text": [
      "Requirement already satisfied: pydot in c:\\users\\user\\miniconda3\\envs\\openai\\lib\\site-packages (2.0.0)\n",
      "Requirement already satisfied: pyparsing>=3 in c:\\users\\user\\miniconda3\\envs\\openai\\lib\\site-packages (from pydot) (3.1.1)\n",
      "Requirement already satisfied: graphviz in c:\\users\\user\\miniconda3\\envs\\openai\\lib\\site-packages (0.20.1)\n",
      "Requirement already satisfied: datetime in c:\\users\\user\\miniconda3\\envs\\openai\\lib\\site-packages (5.4)\n",
      "Requirement already satisfied: zope.interface in c:\\users\\user\\miniconda3\\envs\\openai\\lib\\site-packages (from datetime) (6.1)\n",
      "Requirement already satisfied: pytz in c:\\users\\user\\miniconda3\\envs\\openai\\lib\\site-packages (from datetime) (2023.3.post1)\n",
      "Requirement already satisfied: setuptools in c:\\users\\user\\miniconda3\\envs\\openai\\lib\\site-packages (from zope.interface->datetime) (68.2.2)\n",
      "Requirement already satisfied: scikit-learn in c:\\users\\user\\miniconda3\\envs\\openai\\lib\\site-packages (1.3.2)\n",
      "Requirement already satisfied: numpy<2.0,>=1.17.3 in c:\\users\\user\\miniconda3\\envs\\openai\\lib\\site-packages (from scikit-learn) (1.26.2)\n",
      "Requirement already satisfied: scipy>=1.5.0 in c:\\users\\user\\miniconda3\\envs\\openai\\lib\\site-packages (from scikit-learn) (1.11.4)\n",
      "Requirement already satisfied: joblib>=1.1.1 in c:\\users\\user\\miniconda3\\envs\\openai\\lib\\site-packages (from scikit-learn) (1.3.2)\n",
      "Requirement already satisfied: threadpoolctl>=2.0.0 in c:\\users\\user\\miniconda3\\envs\\openai\\lib\\site-packages (from scikit-learn) (3.2.0)\n"
     ]
    }
   ],
   "source": [
    "!pip install pydot\n",
    "!pip install graphviz\n",
    "!pip install datetime\n",
    "!pip install scikit-learn"
   ]
  },
  {
   "cell_type": "code",
   "execution_count": 85,
   "metadata": {},
   "outputs": [],
   "source": [
    "import os\n",
    "import pandas as pd\n",
    "import numpy as np\n",
    "import matplotlib.pyplot as plt\n",
    "import datetime\n",
    "from sklearn import tree\n",
    "from sklearn.svm import SVC\n",
    "import seaborn as sns\n",
    "from sklearn.metrics import mean_squared_error\n",
    "from sklearn.model_selection import train_test_split\n",
    "from math import sqrt\n",
    "from sklearn.metrics import confusion_matrix\n",
    "from sklearn.metrics import accuracy_score\n",
    "from sklearn.metrics import precision_score\n",
    "from sklearn.metrics import recall_score\n",
    "from sklearn.metrics import f1_score\n",
    "from sklearn.metrics import roc_curve\n",
    "from sklearn.metrics import classification_report"
   ]
  },
  {
   "cell_type": "markdown",
   "metadata": {},
   "source": [
    "데이터 불러오기\n",
    "root_dir로 지정한 디렉토리에서 listdir 함수를 통해 해당 디렉토리내 모든 파일 리스트를 가져온다."
   ]
  },
  {
   "cell_type": "code",
   "execution_count": 86,
   "metadata": {},
   "outputs": [
    {
     "name": "stdout",
     "output_type": "stream",
     "text": [
      "File Lists :  ['.ipynb_checkpoints', 'increase.ipynb', 'kemp-abh-sensor-2021.09.06.csv', 'kemp-abh-sensor-2021.09.07.csv', 'kemp-abh-sensor-2021.09.08.csv', 'kemp-abh-sensor-2021.09.09.csv', 'kemp-abh-sensor-2021.09.10.csv', 'kemp-abh-sensor-2021.09.13.csv', 'kemp-abh-sensor-2021.09.14.csv', 'kemp-abh-sensor-2021.09.15.csv', 'kemp-abh-sensor-2021.09.16.csv', 'kemp-abh-sensor-2021.09.17.csv', 'kemp-abh-sensor-2021.09.23.csv', 'kemp-abh-sensor-2021.09.24.csv', 'kemp-abh-sensor-2021.09.27.csv', 'kemp-abh-sensor-2021.09.28.csv', 'kemp-abh-sensor-2021.09.29.csv', 'kemp-abh-sensor-2021.09.30.csv', 'kemp-abh-sensor-2021.10.01.csv', 'kemp-abh-sensor-2021.10.05.csv', 'kemp-abh-sensor-2021.10.06.csv', 'kemp-abh-sensor-2021.10.07.csv', 'kemp-abh-sensor-2021.10.08.csv', 'kemp-abh-sensor-2021.10.12.csv', 'kemp-abh-sensor-2021.10.13.csv', 'kemp-abh-sensor-2021.10.14.csv', 'kemp-abh-sensor-2021.10.15.csv', 'kemp-abh-sensor-2021.10.18.csv', 'kemp-abh-sensor-2021.10.19.csv', 'kemp-abh-sensor-2021.10.20.csv', 'kemp-abh-sensor-2021.10.21.csv', 'kemp-abh-sensor-2021.10.22.csv', 'kemp-abh-sensor-2021.10.25.csv', 'kemp-abh-sensor-2021.10.26.csv', 'kemp-abh-sensor-2021.10.27.csv', 'kemp-process-rate.csv', 'Optimization of process operation.ipynb', 'Optimization of process operation_품질지수(부록4).ipynb']\n"
     ]
    }
   ],
   "source": [
    "root_dir=os.getcwd()\n",
    "f_lists=os.listdir(root_dir)\n",
    "print(\"File Lists : \", f_lists)"
   ]
  },
  {
   "cell_type": "markdown",
   "metadata": {},
   "source": [
    "- 모든 파일 리스트가 담긴 리스트에서 요소를 하나 꺼내와서 f로 칭하며, f가 '.csv'로 끝나면 새로운 리스트로 구성한다.\n",
    "- 데이터를 불러오는 코드와 비교시, 기존 f_lists에는 모든 파일이 들어가 있던 반면, new_file_lists는 파일 형식이 csv인 파일만 리스트에 남는다"
   ]
  },
  {
   "cell_type": "code",
   "execution_count": 87,
   "metadata": {},
   "outputs": [
    {
     "name": "stdout",
     "output_type": "stream",
     "text": [
      "File Lists :  ['kemp-abh-sensor-2021.09.06.csv', 'kemp-abh-sensor-2021.09.07.csv', 'kemp-abh-sensor-2021.09.08.csv', 'kemp-abh-sensor-2021.09.09.csv', 'kemp-abh-sensor-2021.09.10.csv', 'kemp-abh-sensor-2021.09.13.csv', 'kemp-abh-sensor-2021.09.14.csv', 'kemp-abh-sensor-2021.09.15.csv', 'kemp-abh-sensor-2021.09.16.csv', 'kemp-abh-sensor-2021.09.17.csv', 'kemp-abh-sensor-2021.09.23.csv', 'kemp-abh-sensor-2021.09.24.csv', 'kemp-abh-sensor-2021.09.27.csv', 'kemp-abh-sensor-2021.09.28.csv', 'kemp-abh-sensor-2021.09.29.csv', 'kemp-abh-sensor-2021.09.30.csv', 'kemp-abh-sensor-2021.10.01.csv', 'kemp-abh-sensor-2021.10.05.csv', 'kemp-abh-sensor-2021.10.06.csv', 'kemp-abh-sensor-2021.10.07.csv', 'kemp-abh-sensor-2021.10.08.csv', 'kemp-abh-sensor-2021.10.12.csv', 'kemp-abh-sensor-2021.10.13.csv', 'kemp-abh-sensor-2021.10.14.csv', 'kemp-abh-sensor-2021.10.15.csv', 'kemp-abh-sensor-2021.10.18.csv', 'kemp-abh-sensor-2021.10.19.csv', 'kemp-abh-sensor-2021.10.20.csv', 'kemp-abh-sensor-2021.10.21.csv', 'kemp-abh-sensor-2021.10.22.csv', 'kemp-abh-sensor-2021.10.25.csv', 'kemp-abh-sensor-2021.10.26.csv', 'kemp-abh-sensor-2021.10.27.csv', 'kemp-process-rate.csv']\n"
     ]
    }
   ],
   "source": [
    "new_file_lists = [f for f in f_lists if f.endswith('.csv')]\n",
    "print(\"File Lists : \", new_file_lists)"
   ]
  },
  {
   "cell_type": "markdown",
   "metadata": {},
   "source": [
    "- error_list = new_file_lists[-1] -> 이 코드의 마지막 요소가 오류 데이터 리스트\n",
    "- data_lists = new_file_lists[:-1] -> error_list를 제외한 나머지 부분이 정상 데이터 리스트"
   ]
  },
  {
   "cell_type": "code",
   "execution_count": 88,
   "metadata": {},
   "outputs": [
    {
     "name": "stdout",
     "output_type": "stream",
     "text": [
      "Data Lists :  ['kemp-abh-sensor-2021.09.06.csv', 'kemp-abh-sensor-2021.09.07.csv', 'kemp-abh-sensor-2021.09.08.csv', 'kemp-abh-sensor-2021.09.09.csv', 'kemp-abh-sensor-2021.09.10.csv', 'kemp-abh-sensor-2021.09.13.csv', 'kemp-abh-sensor-2021.09.14.csv', 'kemp-abh-sensor-2021.09.15.csv', 'kemp-abh-sensor-2021.09.16.csv', 'kemp-abh-sensor-2021.09.17.csv', 'kemp-abh-sensor-2021.09.23.csv', 'kemp-abh-sensor-2021.09.24.csv', 'kemp-abh-sensor-2021.09.27.csv', 'kemp-abh-sensor-2021.09.28.csv', 'kemp-abh-sensor-2021.09.29.csv', 'kemp-abh-sensor-2021.09.30.csv', 'kemp-abh-sensor-2021.10.01.csv', 'kemp-abh-sensor-2021.10.05.csv', 'kemp-abh-sensor-2021.10.06.csv', 'kemp-abh-sensor-2021.10.07.csv', 'kemp-abh-sensor-2021.10.08.csv', 'kemp-abh-sensor-2021.10.12.csv', 'kemp-abh-sensor-2021.10.13.csv', 'kemp-abh-sensor-2021.10.14.csv', 'kemp-abh-sensor-2021.10.15.csv', 'kemp-abh-sensor-2021.10.18.csv', 'kemp-abh-sensor-2021.10.19.csv', 'kemp-abh-sensor-2021.10.20.csv', 'kemp-abh-sensor-2021.10.21.csv', 'kemp-abh-sensor-2021.10.22.csv', 'kemp-abh-sensor-2021.10.25.csv', 'kemp-abh-sensor-2021.10.26.csv', 'kemp-abh-sensor-2021.10.27.csv']\n",
      "Error Data List :  kemp-process-rate.csv\n"
     ]
    }
   ],
   "source": [
    "data_lists = new_file_lists[:-1]\n",
    "error_list = new_file_lists[-1]\n",
    "print(\"Data Lists : \", data_lists)\n",
    "print(\"Error Data List : \", error_list)"
   ]
  },
  {
   "cell_type": "markdown",
   "metadata": {},
   "source": [
    "파일에서 데이터를 읽어와 시간 정보 처리 함수 정의\n",
    "\n",
    "새로운 DTime 및 갱신된 Time 열을 생성한 후 이를 포함하는 각 csv파일의 DataFrame을 반환"
   ]
  },
  {
   "cell_type": "code",
   "execution_count": 89,
   "metadata": {},
   "outputs": [],
   "source": [
    "def csv_read_(data_dir, data_list):\n",
    "    tmp = pd.read_csv(os.path.join(data_dir, data_list), sep=',', encoding='utf-8')\n",
    "    y, m, d = map(int, data_list.split('-')[-1].split('.')[:-1])\n",
    "    time = tmp['Time']\n",
    "    tmp['DTime'] = '-'.join(data_list.split('-')[-1].split('.')[:-1])\n",
    "    ctime = time.apply(lambda _ : _.replace(u'오후', 'PM').replace(u'오전', 'AM'))\n",
    "    n_time = ctime.apply(lambda _ : datetime.datetime.strptime(_, \"%p %I:%M:%S\"))\n",
    "    newtime = n_time.apply(lambda _ : _.replace(year=y, month=m, day=d))\n",
    "    tmp['Time'] = newtime\n",
    "    return tmp"
   ]
  },
  {
   "cell_type": "markdown",
   "metadata": {},
   "source": [
    "생성한 변환 함수를 활용하여 data_lists에 있는 모든 데이터셋에 대해 실행하고 merge한다.\n",
    "(Make Dedicated DataFrame)"
   ]
  },
  {
   "cell_type": "code",
   "execution_count": 90,
   "metadata": {},
   "outputs": [
    {
     "data": {
      "text/html": [
       "<div>\n",
       "<style scoped>\n",
       "    .dataframe tbody tr th:only-of-type {\n",
       "        vertical-align: middle;\n",
       "    }\n",
       "\n",
       "    .dataframe tbody tr th {\n",
       "        vertical-align: top;\n",
       "    }\n",
       "\n",
       "    .dataframe thead th {\n",
       "        text-align: right;\n",
       "    }\n",
       "</style>\n",
       "<table border=\"1\" class=\"dataframe\">\n",
       "  <thead>\n",
       "    <tr style=\"text-align: right;\">\n",
       "      <th></th>\n",
       "      <th>Index</th>\n",
       "      <th>LoT</th>\n",
       "      <th>Time</th>\n",
       "      <th>pH</th>\n",
       "      <th>Temp</th>\n",
       "      <th>DTime</th>\n",
       "    </tr>\n",
       "  </thead>\n",
       "  <tbody>\n",
       "    <tr>\n",
       "      <th>0</th>\n",
       "      <td>1</td>\n",
       "      <td>1</td>\n",
       "      <td>2021-09-06 09:01:18</td>\n",
       "      <td>1.02</td>\n",
       "      <td>47.18</td>\n",
       "      <td>2021-09-06</td>\n",
       "    </tr>\n",
       "    <tr>\n",
       "      <th>1</th>\n",
       "      <td>2</td>\n",
       "      <td>1</td>\n",
       "      <td>2021-09-06 09:01:23</td>\n",
       "      <td>1.05</td>\n",
       "      <td>47.34</td>\n",
       "      <td>2021-09-06</td>\n",
       "    </tr>\n",
       "    <tr>\n",
       "      <th>2</th>\n",
       "      <td>3</td>\n",
       "      <td>1</td>\n",
       "      <td>2021-09-06 09:01:28</td>\n",
       "      <td>1.09</td>\n",
       "      <td>48.45</td>\n",
       "      <td>2021-09-06</td>\n",
       "    </tr>\n",
       "    <tr>\n",
       "      <th>3</th>\n",
       "      <td>4</td>\n",
       "      <td>1</td>\n",
       "      <td>2021-09-06 09:01:33</td>\n",
       "      <td>1.12</td>\n",
       "      <td>48.46</td>\n",
       "      <td>2021-09-06</td>\n",
       "    </tr>\n",
       "    <tr>\n",
       "      <th>4</th>\n",
       "      <td>5</td>\n",
       "      <td>1</td>\n",
       "      <td>2021-09-06 09:01:38</td>\n",
       "      <td>1.15</td>\n",
       "      <td>48.47</td>\n",
       "      <td>2021-09-06</td>\n",
       "    </tr>\n",
       "    <tr>\n",
       "      <th>...</th>\n",
       "      <td>...</td>\n",
       "      <td>...</td>\n",
       "      <td>...</td>\n",
       "      <td>...</td>\n",
       "      <td>...</td>\n",
       "      <td>...</td>\n",
       "    </tr>\n",
       "    <tr>\n",
       "      <th>50089</th>\n",
       "      <td>1514</td>\n",
       "      <td>22</td>\n",
       "      <td>2021-10-27 11:14:41</td>\n",
       "      <td>2.79</td>\n",
       "      <td>51.83</td>\n",
       "      <td>2021-10-27</td>\n",
       "    </tr>\n",
       "    <tr>\n",
       "      <th>50090</th>\n",
       "      <td>1515</td>\n",
       "      <td>22</td>\n",
       "      <td>2021-10-27 11:14:46</td>\n",
       "      <td>3.62</td>\n",
       "      <td>42.20</td>\n",
       "      <td>2021-10-27</td>\n",
       "    </tr>\n",
       "    <tr>\n",
       "      <th>50091</th>\n",
       "      <td>1516</td>\n",
       "      <td>22</td>\n",
       "      <td>2021-10-27 11:14:51</td>\n",
       "      <td>3.40</td>\n",
       "      <td>41.88</td>\n",
       "      <td>2021-10-27</td>\n",
       "    </tr>\n",
       "    <tr>\n",
       "      <th>50092</th>\n",
       "      <td>1517</td>\n",
       "      <td>22</td>\n",
       "      <td>2021-10-27 11:14:56</td>\n",
       "      <td>3.59</td>\n",
       "      <td>40.62</td>\n",
       "      <td>2021-10-27</td>\n",
       "    </tr>\n",
       "    <tr>\n",
       "      <th>50093</th>\n",
       "      <td>1518</td>\n",
       "      <td>22</td>\n",
       "      <td>2021-10-27 11:15:01</td>\n",
       "      <td>3.82</td>\n",
       "      <td>42.08</td>\n",
       "      <td>2021-10-27</td>\n",
       "    </tr>\n",
       "  </tbody>\n",
       "</table>\n",
       "<p>50094 rows × 6 columns</p>\n",
       "</div>"
      ],
      "text/plain": [
       "       Index  LoT                Time    pH   Temp       DTime\n",
       "0          1    1 2021-09-06 09:01:18  1.02  47.18  2021-09-06\n",
       "1          2    1 2021-09-06 09:01:23  1.05  47.34  2021-09-06\n",
       "2          3    1 2021-09-06 09:01:28  1.09  48.45  2021-09-06\n",
       "3          4    1 2021-09-06 09:01:33  1.12  48.46  2021-09-06\n",
       "4          5    1 2021-09-06 09:01:38  1.15  48.47  2021-09-06\n",
       "...      ...  ...                 ...   ...    ...         ...\n",
       "50089   1514   22 2021-10-27 11:14:41  2.79  51.83  2021-10-27\n",
       "50090   1515   22 2021-10-27 11:14:46  3.62  42.20  2021-10-27\n",
       "50091   1516   22 2021-10-27 11:14:51  3.40  41.88  2021-10-27\n",
       "50092   1517   22 2021-10-27 11:14:56  3.59  40.62  2021-10-27\n",
       "50093   1518   22 2021-10-27 11:15:01  3.82  42.08  2021-10-27\n",
       "\n",
       "[50094 rows x 6 columns]"
      ]
     },
     "execution_count": 90,
     "metadata": {},
     "output_type": "execute_result"
    }
   ],
   "source": [
    "dd = csv_read_(root_dir, data_lists[0])\n",
    "for i in range(1, len(data_lists)):\n",
    "    dd = pd.merge(dd, csv_read_(root_dir, data_lists[i]), how='outer')\n",
    "dd"
   ]
  },
  {
   "cell_type": "markdown",
   "metadata": {},
   "source": [
    "dd의 기술통계량을 요약하여 보여주는 함수"
   ]
  },
  {
   "cell_type": "code",
   "execution_count": 91,
   "metadata": {},
   "outputs": [
    {
     "data": {
      "text/html": [
       "<div>\n",
       "<style scoped>\n",
       "    .dataframe tbody tr th:only-of-type {\n",
       "        vertical-align: middle;\n",
       "    }\n",
       "\n",
       "    .dataframe tbody tr th {\n",
       "        vertical-align: top;\n",
       "    }\n",
       "\n",
       "    .dataframe thead th {\n",
       "        text-align: right;\n",
       "    }\n",
       "</style>\n",
       "<table border=\"1\" class=\"dataframe\">\n",
       "  <thead>\n",
       "    <tr style=\"text-align: right;\">\n",
       "      <th></th>\n",
       "      <th>Index</th>\n",
       "      <th>LoT</th>\n",
       "      <th>Time</th>\n",
       "      <th>pH</th>\n",
       "      <th>Temp</th>\n",
       "    </tr>\n",
       "  </thead>\n",
       "  <tbody>\n",
       "    <tr>\n",
       "      <th>count</th>\n",
       "      <td>50094.000000</td>\n",
       "      <td>50094.000000</td>\n",
       "      <td>50094</td>\n",
       "      <td>50094.000000</td>\n",
       "      <td>50094.000000</td>\n",
       "    </tr>\n",
       "    <tr>\n",
       "      <th>mean</th>\n",
       "      <td>759.500000</td>\n",
       "      <td>11.500000</td>\n",
       "      <td>2021-10-02 02:08:09.206511616</td>\n",
       "      <td>2.006488</td>\n",
       "      <td>49.876127</td>\n",
       "    </tr>\n",
       "    <tr>\n",
       "      <th>min</th>\n",
       "      <td>1.000000</td>\n",
       "      <td>1.000000</td>\n",
       "      <td>2021-09-06 09:01:18</td>\n",
       "      <td>1.010000</td>\n",
       "      <td>38.020000</td>\n",
       "    </tr>\n",
       "    <tr>\n",
       "      <th>25%</th>\n",
       "      <td>380.000000</td>\n",
       "      <td>6.000000</td>\n",
       "      <td>2021-09-16 09:34:29.249999872</td>\n",
       "      <td>1.560000</td>\n",
       "      <td>49.280000</td>\n",
       "    </tr>\n",
       "    <tr>\n",
       "      <th>50%</th>\n",
       "      <td>759.500000</td>\n",
       "      <td>11.500000</td>\n",
       "      <td>2021-10-01 10:07:48.500000</td>\n",
       "      <td>2.000000</td>\n",
       "      <td>49.970000</td>\n",
       "    </tr>\n",
       "    <tr>\n",
       "      <th>75%</th>\n",
       "      <td>1139.000000</td>\n",
       "      <td>17.000000</td>\n",
       "      <td>2021-10-15 10:41:49.750000128</td>\n",
       "      <td>2.440000</td>\n",
       "      <td>50.630000</td>\n",
       "    </tr>\n",
       "    <tr>\n",
       "      <th>max</th>\n",
       "      <td>1518.000000</td>\n",
       "      <td>22.000000</td>\n",
       "      <td>2021-10-27 11:15:01</td>\n",
       "      <td>3.990000</td>\n",
       "      <td>54.190000</td>\n",
       "    </tr>\n",
       "    <tr>\n",
       "      <th>std</th>\n",
       "      <td>438.213133</td>\n",
       "      <td>6.344352</td>\n",
       "      <td>NaN</td>\n",
       "      <td>0.551698</td>\n",
       "      <td>1.345322</td>\n",
       "    </tr>\n",
       "  </tbody>\n",
       "</table>\n",
       "</div>"
      ],
      "text/plain": [
       "              Index           LoT                           Time  \\\n",
       "count  50094.000000  50094.000000                          50094   \n",
       "mean     759.500000     11.500000  2021-10-02 02:08:09.206511616   \n",
       "min        1.000000      1.000000            2021-09-06 09:01:18   \n",
       "25%      380.000000      6.000000  2021-09-16 09:34:29.249999872   \n",
       "50%      759.500000     11.500000     2021-10-01 10:07:48.500000   \n",
       "75%     1139.000000     17.000000  2021-10-15 10:41:49.750000128   \n",
       "max     1518.000000     22.000000            2021-10-27 11:15:01   \n",
       "std      438.213133      6.344352                            NaN   \n",
       "\n",
       "                 pH          Temp  \n",
       "count  50094.000000  50094.000000  \n",
       "mean       2.006488     49.876127  \n",
       "min        1.010000     38.020000  \n",
       "25%        1.560000     49.280000  \n",
       "50%        2.000000     49.970000  \n",
       "75%        2.440000     50.630000  \n",
       "max        3.990000     54.190000  \n",
       "std        0.551698      1.345322  "
      ]
     },
     "execution_count": 91,
     "metadata": {},
     "output_type": "execute_result"
    }
   ],
   "source": [
    "dd.describe()"
   ]
  },
  {
   "cell_type": "markdown",
   "metadata": {},
   "source": [
    " 'dd' DataFrame에서 'Index' 열을 삭제한 새로운 DataFrame을 반환\n",
    " \n",
    "  만약 'Index' 열이 없다면 dd가 그대로 반환"
   ]
  },
  {
   "cell_type": "code",
   "execution_count": 92,
   "metadata": {},
   "outputs": [
    {
     "data": {
      "text/html": [
       "<div>\n",
       "<style scoped>\n",
       "    .dataframe tbody tr th:only-of-type {\n",
       "        vertical-align: middle;\n",
       "    }\n",
       "\n",
       "    .dataframe tbody tr th {\n",
       "        vertical-align: top;\n",
       "    }\n",
       "\n",
       "    .dataframe thead th {\n",
       "        text-align: right;\n",
       "    }\n",
       "</style>\n",
       "<table border=\"1\" class=\"dataframe\">\n",
       "  <thead>\n",
       "    <tr style=\"text-align: right;\">\n",
       "      <th></th>\n",
       "      <th>LoT</th>\n",
       "      <th>Time</th>\n",
       "      <th>pH</th>\n",
       "      <th>Temp</th>\n",
       "      <th>DTime</th>\n",
       "    </tr>\n",
       "  </thead>\n",
       "  <tbody>\n",
       "    <tr>\n",
       "      <th>0</th>\n",
       "      <td>1</td>\n",
       "      <td>2021-09-06 09:01:18</td>\n",
       "      <td>1.02</td>\n",
       "      <td>47.18</td>\n",
       "      <td>2021-09-06</td>\n",
       "    </tr>\n",
       "    <tr>\n",
       "      <th>1</th>\n",
       "      <td>1</td>\n",
       "      <td>2021-09-06 09:01:23</td>\n",
       "      <td>1.05</td>\n",
       "      <td>47.34</td>\n",
       "      <td>2021-09-06</td>\n",
       "    </tr>\n",
       "    <tr>\n",
       "      <th>2</th>\n",
       "      <td>1</td>\n",
       "      <td>2021-09-06 09:01:28</td>\n",
       "      <td>1.09</td>\n",
       "      <td>48.45</td>\n",
       "      <td>2021-09-06</td>\n",
       "    </tr>\n",
       "    <tr>\n",
       "      <th>3</th>\n",
       "      <td>1</td>\n",
       "      <td>2021-09-06 09:01:33</td>\n",
       "      <td>1.12</td>\n",
       "      <td>48.46</td>\n",
       "      <td>2021-09-06</td>\n",
       "    </tr>\n",
       "    <tr>\n",
       "      <th>4</th>\n",
       "      <td>1</td>\n",
       "      <td>2021-09-06 09:01:38</td>\n",
       "      <td>1.15</td>\n",
       "      <td>48.47</td>\n",
       "      <td>2021-09-06</td>\n",
       "    </tr>\n",
       "    <tr>\n",
       "      <th>...</th>\n",
       "      <td>...</td>\n",
       "      <td>...</td>\n",
       "      <td>...</td>\n",
       "      <td>...</td>\n",
       "      <td>...</td>\n",
       "    </tr>\n",
       "    <tr>\n",
       "      <th>50089</th>\n",
       "      <td>22</td>\n",
       "      <td>2021-10-27 11:14:41</td>\n",
       "      <td>2.79</td>\n",
       "      <td>51.83</td>\n",
       "      <td>2021-10-27</td>\n",
       "    </tr>\n",
       "    <tr>\n",
       "      <th>50090</th>\n",
       "      <td>22</td>\n",
       "      <td>2021-10-27 11:14:46</td>\n",
       "      <td>3.62</td>\n",
       "      <td>42.20</td>\n",
       "      <td>2021-10-27</td>\n",
       "    </tr>\n",
       "    <tr>\n",
       "      <th>50091</th>\n",
       "      <td>22</td>\n",
       "      <td>2021-10-27 11:14:51</td>\n",
       "      <td>3.40</td>\n",
       "      <td>41.88</td>\n",
       "      <td>2021-10-27</td>\n",
       "    </tr>\n",
       "    <tr>\n",
       "      <th>50092</th>\n",
       "      <td>22</td>\n",
       "      <td>2021-10-27 11:14:56</td>\n",
       "      <td>3.59</td>\n",
       "      <td>40.62</td>\n",
       "      <td>2021-10-27</td>\n",
       "    </tr>\n",
       "    <tr>\n",
       "      <th>50093</th>\n",
       "      <td>22</td>\n",
       "      <td>2021-10-27 11:15:01</td>\n",
       "      <td>3.82</td>\n",
       "      <td>42.08</td>\n",
       "      <td>2021-10-27</td>\n",
       "    </tr>\n",
       "  </tbody>\n",
       "</table>\n",
       "<p>50094 rows × 5 columns</p>\n",
       "</div>"
      ],
      "text/plain": [
       "       LoT                Time    pH   Temp       DTime\n",
       "0        1 2021-09-06 09:01:18  1.02  47.18  2021-09-06\n",
       "1        1 2021-09-06 09:01:23  1.05  47.34  2021-09-06\n",
       "2        1 2021-09-06 09:01:28  1.09  48.45  2021-09-06\n",
       "3        1 2021-09-06 09:01:33  1.12  48.46  2021-09-06\n",
       "4        1 2021-09-06 09:01:38  1.15  48.47  2021-09-06\n",
       "...    ...                 ...   ...    ...         ...\n",
       "50089   22 2021-10-27 11:14:41  2.79  51.83  2021-10-27\n",
       "50090   22 2021-10-27 11:14:46  3.62  42.20  2021-10-27\n",
       "50091   22 2021-10-27 11:14:51  3.40  41.88  2021-10-27\n",
       "50092   22 2021-10-27 11:14:56  3.59  40.62  2021-10-27\n",
       "50093   22 2021-10-27 11:15:01  3.82  42.08  2021-10-27\n",
       "\n",
       "[50094 rows x 5 columns]"
      ]
     },
     "execution_count": 92,
     "metadata": {},
     "output_type": "execute_result"
    }
   ],
   "source": [
    "dd=dd.drop('Index', axis=1)\n",
    "dd"
   ]
  },
  {
   "cell_type": "markdown",
   "metadata": {},
   "source": [
    "'dd' DataFrame에서 'Time' 열을 새로운 인덱스로 설정한 새로운 DataFrame을 반환 \n",
    "\n",
    "'Time' 열은 이제 DataFrame의 인덱스로 사용되며, DataFrame의 내용은 변경되지 않는다."
   ]
  },
  {
   "cell_type": "code",
   "execution_count": 93,
   "metadata": {},
   "outputs": [
    {
     "data": {
      "text/html": [
       "<div>\n",
       "<style scoped>\n",
       "    .dataframe tbody tr th:only-of-type {\n",
       "        vertical-align: middle;\n",
       "    }\n",
       "\n",
       "    .dataframe tbody tr th {\n",
       "        vertical-align: top;\n",
       "    }\n",
       "\n",
       "    .dataframe thead th {\n",
       "        text-align: right;\n",
       "    }\n",
       "</style>\n",
       "<table border=\"1\" class=\"dataframe\">\n",
       "  <thead>\n",
       "    <tr style=\"text-align: right;\">\n",
       "      <th></th>\n",
       "      <th>LoT</th>\n",
       "      <th>pH</th>\n",
       "      <th>Temp</th>\n",
       "      <th>DTime</th>\n",
       "    </tr>\n",
       "    <tr>\n",
       "      <th>Time</th>\n",
       "      <th></th>\n",
       "      <th></th>\n",
       "      <th></th>\n",
       "      <th></th>\n",
       "    </tr>\n",
       "  </thead>\n",
       "  <tbody>\n",
       "    <tr>\n",
       "      <th>2021-09-06 09:01:18</th>\n",
       "      <td>1</td>\n",
       "      <td>1.02</td>\n",
       "      <td>47.18</td>\n",
       "      <td>2021-09-06</td>\n",
       "    </tr>\n",
       "    <tr>\n",
       "      <th>2021-09-06 09:01:23</th>\n",
       "      <td>1</td>\n",
       "      <td>1.05</td>\n",
       "      <td>47.34</td>\n",
       "      <td>2021-09-06</td>\n",
       "    </tr>\n",
       "    <tr>\n",
       "      <th>2021-09-06 09:01:28</th>\n",
       "      <td>1</td>\n",
       "      <td>1.09</td>\n",
       "      <td>48.45</td>\n",
       "      <td>2021-09-06</td>\n",
       "    </tr>\n",
       "    <tr>\n",
       "      <th>2021-09-06 09:01:33</th>\n",
       "      <td>1</td>\n",
       "      <td>1.12</td>\n",
       "      <td>48.46</td>\n",
       "      <td>2021-09-06</td>\n",
       "    </tr>\n",
       "    <tr>\n",
       "      <th>2021-09-06 09:01:38</th>\n",
       "      <td>1</td>\n",
       "      <td>1.15</td>\n",
       "      <td>48.47</td>\n",
       "      <td>2021-09-06</td>\n",
       "    </tr>\n",
       "    <tr>\n",
       "      <th>...</th>\n",
       "      <td>...</td>\n",
       "      <td>...</td>\n",
       "      <td>...</td>\n",
       "      <td>...</td>\n",
       "    </tr>\n",
       "    <tr>\n",
       "      <th>2021-10-27 11:14:41</th>\n",
       "      <td>22</td>\n",
       "      <td>2.79</td>\n",
       "      <td>51.83</td>\n",
       "      <td>2021-10-27</td>\n",
       "    </tr>\n",
       "    <tr>\n",
       "      <th>2021-10-27 11:14:46</th>\n",
       "      <td>22</td>\n",
       "      <td>3.62</td>\n",
       "      <td>42.20</td>\n",
       "      <td>2021-10-27</td>\n",
       "    </tr>\n",
       "    <tr>\n",
       "      <th>2021-10-27 11:14:51</th>\n",
       "      <td>22</td>\n",
       "      <td>3.40</td>\n",
       "      <td>41.88</td>\n",
       "      <td>2021-10-27</td>\n",
       "    </tr>\n",
       "    <tr>\n",
       "      <th>2021-10-27 11:14:56</th>\n",
       "      <td>22</td>\n",
       "      <td>3.59</td>\n",
       "      <td>40.62</td>\n",
       "      <td>2021-10-27</td>\n",
       "    </tr>\n",
       "    <tr>\n",
       "      <th>2021-10-27 11:15:01</th>\n",
       "      <td>22</td>\n",
       "      <td>3.82</td>\n",
       "      <td>42.08</td>\n",
       "      <td>2021-10-27</td>\n",
       "    </tr>\n",
       "  </tbody>\n",
       "</table>\n",
       "<p>50094 rows × 4 columns</p>\n",
       "</div>"
      ],
      "text/plain": [
       "                     LoT    pH   Temp       DTime\n",
       "Time                                             \n",
       "2021-09-06 09:01:18    1  1.02  47.18  2021-09-06\n",
       "2021-09-06 09:01:23    1  1.05  47.34  2021-09-06\n",
       "2021-09-06 09:01:28    1  1.09  48.45  2021-09-06\n",
       "2021-09-06 09:01:33    1  1.12  48.46  2021-09-06\n",
       "2021-09-06 09:01:38    1  1.15  48.47  2021-09-06\n",
       "...                  ...   ...    ...         ...\n",
       "2021-10-27 11:14:41   22  2.79  51.83  2021-10-27\n",
       "2021-10-27 11:14:46   22  3.62  42.20  2021-10-27\n",
       "2021-10-27 11:14:51   22  3.40  41.88  2021-10-27\n",
       "2021-10-27 11:14:56   22  3.59  40.62  2021-10-27\n",
       "2021-10-27 11:15:01   22  3.82  42.08  2021-10-27\n",
       "\n",
       "[50094 rows x 4 columns]"
      ]
     },
     "execution_count": 93,
     "metadata": {},
     "output_type": "execute_result"
    }
   ],
   "source": [
    "dd=dd.set_index('Time')\n",
    "dd"
   ]
  },
  {
   "cell_type": "markdown",
   "metadata": {},
   "source": [
    "원본 데이터를 보존하고자 DataFrame인 dd를 복사하여 새로운 DataFrame을 생성\n",
    "\n",
    "dedicated_data는 dd의 복사본이므로 dedicated_data를 조작해도 dd에는 영향을 미치지 않는다."
   ]
  },
  {
   "cell_type": "code",
   "execution_count": 94,
   "metadata": {},
   "outputs": [
    {
     "data": {
      "text/html": [
       "<div>\n",
       "<style scoped>\n",
       "    .dataframe tbody tr th:only-of-type {\n",
       "        vertical-align: middle;\n",
       "    }\n",
       "\n",
       "    .dataframe tbody tr th {\n",
       "        vertical-align: top;\n",
       "    }\n",
       "\n",
       "    .dataframe thead th {\n",
       "        text-align: right;\n",
       "    }\n",
       "</style>\n",
       "<table border=\"1\" class=\"dataframe\">\n",
       "  <thead>\n",
       "    <tr style=\"text-align: right;\">\n",
       "      <th></th>\n",
       "      <th>LoT</th>\n",
       "      <th>pH</th>\n",
       "      <th>Temp</th>\n",
       "      <th>DTime</th>\n",
       "    </tr>\n",
       "    <tr>\n",
       "      <th>Time</th>\n",
       "      <th></th>\n",
       "      <th></th>\n",
       "      <th></th>\n",
       "      <th></th>\n",
       "    </tr>\n",
       "  </thead>\n",
       "  <tbody>\n",
       "    <tr>\n",
       "      <th>2021-09-06 09:01:18</th>\n",
       "      <td>1</td>\n",
       "      <td>1.02</td>\n",
       "      <td>47.18</td>\n",
       "      <td>2021-09-06</td>\n",
       "    </tr>\n",
       "    <tr>\n",
       "      <th>2021-09-06 09:01:23</th>\n",
       "      <td>1</td>\n",
       "      <td>1.05</td>\n",
       "      <td>47.34</td>\n",
       "      <td>2021-09-06</td>\n",
       "    </tr>\n",
       "    <tr>\n",
       "      <th>2021-09-06 09:01:28</th>\n",
       "      <td>1</td>\n",
       "      <td>1.09</td>\n",
       "      <td>48.45</td>\n",
       "      <td>2021-09-06</td>\n",
       "    </tr>\n",
       "    <tr>\n",
       "      <th>2021-09-06 09:01:33</th>\n",
       "      <td>1</td>\n",
       "      <td>1.12</td>\n",
       "      <td>48.46</td>\n",
       "      <td>2021-09-06</td>\n",
       "    </tr>\n",
       "    <tr>\n",
       "      <th>2021-09-06 09:01:38</th>\n",
       "      <td>1</td>\n",
       "      <td>1.15</td>\n",
       "      <td>48.47</td>\n",
       "      <td>2021-09-06</td>\n",
       "    </tr>\n",
       "    <tr>\n",
       "      <th>...</th>\n",
       "      <td>...</td>\n",
       "      <td>...</td>\n",
       "      <td>...</td>\n",
       "      <td>...</td>\n",
       "    </tr>\n",
       "    <tr>\n",
       "      <th>2021-10-27 11:14:41</th>\n",
       "      <td>22</td>\n",
       "      <td>2.79</td>\n",
       "      <td>51.83</td>\n",
       "      <td>2021-10-27</td>\n",
       "    </tr>\n",
       "    <tr>\n",
       "      <th>2021-10-27 11:14:46</th>\n",
       "      <td>22</td>\n",
       "      <td>3.62</td>\n",
       "      <td>42.20</td>\n",
       "      <td>2021-10-27</td>\n",
       "    </tr>\n",
       "    <tr>\n",
       "      <th>2021-10-27 11:14:51</th>\n",
       "      <td>22</td>\n",
       "      <td>3.40</td>\n",
       "      <td>41.88</td>\n",
       "      <td>2021-10-27</td>\n",
       "    </tr>\n",
       "    <tr>\n",
       "      <th>2021-10-27 11:14:56</th>\n",
       "      <td>22</td>\n",
       "      <td>3.59</td>\n",
       "      <td>40.62</td>\n",
       "      <td>2021-10-27</td>\n",
       "    </tr>\n",
       "    <tr>\n",
       "      <th>2021-10-27 11:15:01</th>\n",
       "      <td>22</td>\n",
       "      <td>3.82</td>\n",
       "      <td>42.08</td>\n",
       "      <td>2021-10-27</td>\n",
       "    </tr>\n",
       "  </tbody>\n",
       "</table>\n",
       "<p>50094 rows × 4 columns</p>\n",
       "</div>"
      ],
      "text/plain": [
       "                     LoT    pH   Temp       DTime\n",
       "Time                                             \n",
       "2021-09-06 09:01:18    1  1.02  47.18  2021-09-06\n",
       "2021-09-06 09:01:23    1  1.05  47.34  2021-09-06\n",
       "2021-09-06 09:01:28    1  1.09  48.45  2021-09-06\n",
       "2021-09-06 09:01:33    1  1.12  48.46  2021-09-06\n",
       "2021-09-06 09:01:38    1  1.15  48.47  2021-09-06\n",
       "...                  ...   ...    ...         ...\n",
       "2021-10-27 11:14:41   22  2.79  51.83  2021-10-27\n",
       "2021-10-27 11:14:46   22  3.62  42.20  2021-10-27\n",
       "2021-10-27 11:14:51   22  3.40  41.88  2021-10-27\n",
       "2021-10-27 11:14:56   22  3.59  40.62  2021-10-27\n",
       "2021-10-27 11:15:01   22  3.82  42.08  2021-10-27\n",
       "\n",
       "[50094 rows x 4 columns]"
      ]
     },
     "execution_count": 94,
     "metadata": {},
     "output_type": "execute_result"
    }
   ],
   "source": [
    "dedicated_data=dd.copy()\n",
    "dedicated_data"
   ]
  },
  {
   "cell_type": "markdown",
   "metadata": {},
   "source": [
    "dd의 복사본인 dedicated_data의 columns 확인"
   ]
  },
  {
   "cell_type": "code",
   "execution_count": 95,
   "metadata": {},
   "outputs": [
    {
     "data": {
      "text/plain": [
       "Index(['LoT', 'pH', 'Temp', 'DTime'], dtype='object')"
      ]
     },
     "execution_count": 95,
     "metadata": {},
     "output_type": "execute_result"
    }
   ],
   "source": [
    "dedicated_data.columns"
   ]
  },
  {
   "cell_type": "markdown",
   "metadata": {},
   "source": [
    "dedicated_data의 기술통계량을 요약하여 보여주는 함수"
   ]
  },
  {
   "cell_type": "code",
   "execution_count": 96,
   "metadata": {},
   "outputs": [
    {
     "data": {
      "text/html": [
       "<div>\n",
       "<style scoped>\n",
       "    .dataframe tbody tr th:only-of-type {\n",
       "        vertical-align: middle;\n",
       "    }\n",
       "\n",
       "    .dataframe tbody tr th {\n",
       "        vertical-align: top;\n",
       "    }\n",
       "\n",
       "    .dataframe thead th {\n",
       "        text-align: right;\n",
       "    }\n",
       "</style>\n",
       "<table border=\"1\" class=\"dataframe\">\n",
       "  <thead>\n",
       "    <tr style=\"text-align: right;\">\n",
       "      <th></th>\n",
       "      <th>LoT</th>\n",
       "      <th>pH</th>\n",
       "      <th>Temp</th>\n",
       "    </tr>\n",
       "  </thead>\n",
       "  <tbody>\n",
       "    <tr>\n",
       "      <th>count</th>\n",
       "      <td>50094.000000</td>\n",
       "      <td>50094.000000</td>\n",
       "      <td>50094.000000</td>\n",
       "    </tr>\n",
       "    <tr>\n",
       "      <th>mean</th>\n",
       "      <td>11.500000</td>\n",
       "      <td>2.006488</td>\n",
       "      <td>49.876127</td>\n",
       "    </tr>\n",
       "    <tr>\n",
       "      <th>std</th>\n",
       "      <td>6.344352</td>\n",
       "      <td>0.551698</td>\n",
       "      <td>1.345322</td>\n",
       "    </tr>\n",
       "    <tr>\n",
       "      <th>min</th>\n",
       "      <td>1.000000</td>\n",
       "      <td>1.010000</td>\n",
       "      <td>38.020000</td>\n",
       "    </tr>\n",
       "    <tr>\n",
       "      <th>25%</th>\n",
       "      <td>6.000000</td>\n",
       "      <td>1.560000</td>\n",
       "      <td>49.280000</td>\n",
       "    </tr>\n",
       "    <tr>\n",
       "      <th>50%</th>\n",
       "      <td>11.500000</td>\n",
       "      <td>2.000000</td>\n",
       "      <td>49.970000</td>\n",
       "    </tr>\n",
       "    <tr>\n",
       "      <th>75%</th>\n",
       "      <td>17.000000</td>\n",
       "      <td>2.440000</td>\n",
       "      <td>50.630000</td>\n",
       "    </tr>\n",
       "    <tr>\n",
       "      <th>max</th>\n",
       "      <td>22.000000</td>\n",
       "      <td>3.990000</td>\n",
       "      <td>54.190000</td>\n",
       "    </tr>\n",
       "  </tbody>\n",
       "</table>\n",
       "</div>"
      ],
      "text/plain": [
       "                LoT            pH          Temp\n",
       "count  50094.000000  50094.000000  50094.000000\n",
       "mean      11.500000      2.006488     49.876127\n",
       "std        6.344352      0.551698      1.345322\n",
       "min        1.000000      1.010000     38.020000\n",
       "25%        6.000000      1.560000     49.280000\n",
       "50%       11.500000      2.000000     49.970000\n",
       "75%       17.000000      2.440000     50.630000\n",
       "max       22.000000      3.990000     54.190000"
      ]
     },
     "execution_count": 96,
     "metadata": {},
     "output_type": "execute_result"
    }
   ],
   "source": [
    "dedicated_data.describe()"
   ]
  },
  {
   "cell_type": "markdown",
   "metadata": {},
   "source": [
    " 데이터프레임의 구조와 각 열의 데이터 타입, 비어있지 않은 값의 개수 등을 간단히 확인\n",
    "\n",
    " 필요한 데이터 전처리 작업을 결정하는 데 도움"
   ]
  },
  {
   "cell_type": "code",
   "execution_count": 97,
   "metadata": {},
   "outputs": [
    {
     "name": "stdout",
     "output_type": "stream",
     "text": [
      "<class 'pandas.core.frame.DataFrame'>\n",
      "DatetimeIndex: 50094 entries, 2021-09-06 09:01:18 to 2021-10-27 11:15:01\n",
      "Data columns (total 4 columns):\n",
      " #   Column  Non-Null Count  Dtype  \n",
      "---  ------  --------------  -----  \n",
      " 0   LoT     50094 non-null  int64  \n",
      " 1   pH      50094 non-null  float64\n",
      " 2   Temp    50094 non-null  float64\n",
      " 3   DTime   50094 non-null  object \n",
      "dtypes: float64(2), int64(1), object(1)\n",
      "memory usage: 1.9+ MB\n"
     ]
    }
   ],
   "source": [
    "dedicated_data.info()"
   ]
  },
  {
   "cell_type": "markdown",
   "metadata": {},
   "source": [
    "DataFrame의 크기를 확인할 수 있다."
   ]
  },
  {
   "cell_type": "code",
   "execution_count": 98,
   "metadata": {},
   "outputs": [
    {
     "data": {
      "text/plain": [
       "(50094, 4)"
      ]
     },
     "execution_count": 98,
     "metadata": {},
     "output_type": "execute_result"
    }
   ],
   "source": [
    "dedicated_data.shape"
   ]
  },
  {
   "cell_type": "markdown",
   "metadata": {},
   "source": [
    "DataFrame null(결측치) 값 개수 카운드"
   ]
  },
  {
   "cell_type": "code",
   "execution_count": 99,
   "metadata": {},
   "outputs": [
    {
     "data": {
      "text/plain": [
       "LoT      0\n",
       "pH       0\n",
       "Temp     0\n",
       "DTime    0\n",
       "dtype: int64"
      ]
     },
     "execution_count": 99,
     "metadata": {},
     "output_type": "execute_result"
    }
   ],
   "source": [
    "dedicated_data.isna().sum()"
   ]
  },
  {
   "cell_type": "markdown",
   "metadata": {},
   "source": [
    "hist()함수를 통해 DataFrame의 Column 별 histogram을 시각화하여 데이터 분포 확인"
   ]
  },
  {
   "cell_type": "code",
   "execution_count": 100,
   "metadata": {},
   "outputs": [
    {
     "data": {
      "text/plain": [
       "array([[<Axes: title={'center': 'LoT'}>, <Axes: title={'center': 'pH'}>],\n",
       "       [<Axes: title={'center': 'Temp'}>, <Axes: >]], dtype=object)"
      ]
     },
     "execution_count": 100,
     "metadata": {},
     "output_type": "execute_result"
    },
    {
     "data": {
      "image/png": "[encoded data removed]",
      "text/plain": [
       "<Figure size 1000x1000 with 4 Axes>"
      ]
     },
     "metadata": {},
     "output_type": "display_data"
    }
   ],
   "source": [
    "dedicated_data.hist(figsize=(10,10))"
   ]
  },
  {
   "cell_type": "markdown",
   "metadata": {},
   "source": [
    "데이터 상관관계 분석\n",
    "\n",
    "상관 계수는 보편적으로 사용되는 피어슨 상관 계수로서 -1과 1 사이의 값을 가진다. 상관 계수의 절대값이 1에 가까울수록 변수 간의 선형관계가 강하다고 볼 수 있으며, 값이 양수일 때는 양의 선형관계, 값이 음수일 때는 음의 선형관계를 가진다. "
   ]
  },
  {
   "cell_type": "code",
   "execution_count": 109,
   "metadata": {},
   "outputs": [
    {
     "data": {
      "text/html": [
       "<div>\n",
       "<style scoped>\n",
       "    .dataframe tbody tr th:only-of-type {\n",
       "        vertical-align: middle;\n",
       "    }\n",
       "\n",
       "    .dataframe tbody tr th {\n",
       "        vertical-align: top;\n",
       "    }\n",
       "\n",
       "    .dataframe thead th {\n",
       "        text-align: right;\n",
       "    }\n",
       "</style>\n",
       "<table border=\"1\" class=\"dataframe\">\n",
       "  <thead>\n",
       "    <tr style=\"text-align: right;\">\n",
       "      <th></th>\n",
       "      <th>LoT</th>\n",
       "      <th>pH</th>\n",
       "      <th>Temp</th>\n",
       "    </tr>\n",
       "  </thead>\n",
       "  <tbody>\n",
       "    <tr>\n",
       "      <th>LoT</th>\n",
       "      <td>1.000000</td>\n",
       "      <td>-0.001943</td>\n",
       "      <td>0.011561</td>\n",
       "    </tr>\n",
       "    <tr>\n",
       "      <th>pH</th>\n",
       "      <td>-0.001943</td>\n",
       "      <td>1.000000</td>\n",
       "      <td>0.474920</td>\n",
       "    </tr>\n",
       "    <tr>\n",
       "      <th>Temp</th>\n",
       "      <td>0.011561</td>\n",
       "      <td>0.474920</td>\n",
       "      <td>1.000000</td>\n",
       "    </tr>\n",
       "  </tbody>\n",
       "</table>\n",
       "</div>"
      ],
      "text/plain": [
       "           LoT        pH      Temp\n",
       "LoT   1.000000 -0.001943  0.011561\n",
       "pH   -0.001943  1.000000  0.474920\n",
       "Temp  0.011561  0.474920  1.000000"
      ]
     },
     "execution_count": 109,
     "metadata": {},
     "output_type": "execute_result"
    }
   ],
   "source": [
    "tmpData = dedicated_data.filter(items=['LoT', 'pH', 'Temp'])\n",
    "correlation = tmpData.corr()\n",
    "correlation"
   ]
  },
  {
   "cell_type": "markdown",
   "metadata": {},
   "source": [
    "데이터 상관관계 시각화\n",
    "\n",
    "seaborn 패키지 내 heatmap()함수를 통해 상관관계 결과를 시각화\n",
    "값이 클수록 상관관계가 있다고 판단하는 척도"
   ]
  },
  {
   "cell_type": "code",
   "execution_count": 115,
   "metadata": {},
   "outputs": [
    {
     "data": {
      "text/plain": [
       "<Axes: >"
      ]
     },
     "execution_count": 115,
     "metadata": {},
     "output_type": "execute_result"
    },
    {
     "data": {
      "image/png": "[encoded data removed]",
      "text/plain": [
       "<Figure size 640x480 with 2 Axes>"
      ]
     },
     "metadata": {},
     "output_type": "display_data"
    }
   ],
   "source": [
    "sns.heatmap(correlation, annot=True, fmt='.2f')"
   ]
  },
  {
   "cell_type": "markdown",
   "metadata": {},
   "source": [
    "데이터 정제(전처리)\n",
    "null 값 제거(결측치 제거)"
   ]
  },
  {
   "cell_type": "code",
   "execution_count": 117,
   "metadata": {},
   "outputs": [
    {
     "data": {
      "text/html": [
       "<div>\n",
       "<style scoped>\n",
       "    .dataframe tbody tr th:only-of-type {\n",
       "        vertical-align: middle;\n",
       "    }\n",
       "\n",
       "    .dataframe tbody tr th {\n",
       "        vertical-align: top;\n",
       "    }\n",
       "\n",
       "    .dataframe thead th {\n",
       "        text-align: right;\n",
       "    }\n",
       "</style>\n",
       "<table border=\"1\" class=\"dataframe\">\n",
       "  <thead>\n",
       "    <tr style=\"text-align: right;\">\n",
       "      <th></th>\n",
       "      <th>LoT</th>\n",
       "      <th>pH</th>\n",
       "      <th>Temp</th>\n",
       "      <th>DTime</th>\n",
       "    </tr>\n",
       "    <tr>\n",
       "      <th>Time</th>\n",
       "      <th></th>\n",
       "      <th></th>\n",
       "      <th></th>\n",
       "      <th></th>\n",
       "    </tr>\n",
       "  </thead>\n",
       "  <tbody>\n",
       "    <tr>\n",
       "      <th>2021-09-06 09:01:18</th>\n",
       "      <td>1</td>\n",
       "      <td>1.02</td>\n",
       "      <td>47.18</td>\n",
       "      <td>2021-09-06</td>\n",
       "    </tr>\n",
       "    <tr>\n",
       "      <th>2021-09-06 09:01:23</th>\n",
       "      <td>1</td>\n",
       "      <td>1.05</td>\n",
       "      <td>47.34</td>\n",
       "      <td>2021-09-06</td>\n",
       "    </tr>\n",
       "    <tr>\n",
       "      <th>2021-09-06 09:01:28</th>\n",
       "      <td>1</td>\n",
       "      <td>1.09</td>\n",
       "      <td>48.45</td>\n",
       "      <td>2021-09-06</td>\n",
       "    </tr>\n",
       "    <tr>\n",
       "      <th>2021-09-06 09:01:33</th>\n",
       "      <td>1</td>\n",
       "      <td>1.12</td>\n",
       "      <td>48.46</td>\n",
       "      <td>2021-09-06</td>\n",
       "    </tr>\n",
       "    <tr>\n",
       "      <th>2021-09-06 09:01:38</th>\n",
       "      <td>1</td>\n",
       "      <td>1.15</td>\n",
       "      <td>48.47</td>\n",
       "      <td>2021-09-06</td>\n",
       "    </tr>\n",
       "    <tr>\n",
       "      <th>...</th>\n",
       "      <td>...</td>\n",
       "      <td>...</td>\n",
       "      <td>...</td>\n",
       "      <td>...</td>\n",
       "    </tr>\n",
       "    <tr>\n",
       "      <th>2021-10-27 11:14:41</th>\n",
       "      <td>22</td>\n",
       "      <td>2.79</td>\n",
       "      <td>51.83</td>\n",
       "      <td>2021-10-27</td>\n",
       "    </tr>\n",
       "    <tr>\n",
       "      <th>2021-10-27 11:14:46</th>\n",
       "      <td>22</td>\n",
       "      <td>3.62</td>\n",
       "      <td>42.20</td>\n",
       "      <td>2021-10-27</td>\n",
       "    </tr>\n",
       "    <tr>\n",
       "      <th>2021-10-27 11:14:51</th>\n",
       "      <td>22</td>\n",
       "      <td>3.40</td>\n",
       "      <td>41.88</td>\n",
       "      <td>2021-10-27</td>\n",
       "    </tr>\n",
       "    <tr>\n",
       "      <th>2021-10-27 11:14:56</th>\n",
       "      <td>22</td>\n",
       "      <td>3.59</td>\n",
       "      <td>40.62</td>\n",
       "      <td>2021-10-27</td>\n",
       "    </tr>\n",
       "    <tr>\n",
       "      <th>2021-10-27 11:15:01</th>\n",
       "      <td>22</td>\n",
       "      <td>3.82</td>\n",
       "      <td>42.08</td>\n",
       "      <td>2021-10-27</td>\n",
       "    </tr>\n",
       "  </tbody>\n",
       "</table>\n",
       "<p>50094 rows × 4 columns</p>\n",
       "</div>"
      ],
      "text/plain": [
       "                     LoT    pH   Temp       DTime\n",
       "Time                                             \n",
       "2021-09-06 09:01:18    1  1.02  47.18  2021-09-06\n",
       "2021-09-06 09:01:23    1  1.05  47.34  2021-09-06\n",
       "2021-09-06 09:01:28    1  1.09  48.45  2021-09-06\n",
       "2021-09-06 09:01:33    1  1.12  48.46  2021-09-06\n",
       "2021-09-06 09:01:38    1  1.15  48.47  2021-09-06\n",
       "...                  ...   ...    ...         ...\n",
       "2021-10-27 11:14:41   22  2.79  51.83  2021-10-27\n",
       "2021-10-27 11:14:46   22  3.62  42.20  2021-10-27\n",
       "2021-10-27 11:14:51   22  3.40  41.88  2021-10-27\n",
       "2021-10-27 11:14:56   22  3.59  40.62  2021-10-27\n",
       "2021-10-27 11:15:01   22  3.82  42.08  2021-10-27\n",
       "\n",
       "[50094 rows x 4 columns]"
      ]
     },
     "execution_count": 117,
     "metadata": {},
     "output_type": "execute_result"
    }
   ],
   "source": [
    "dedicated_data= dedicate_data.dropna()\n",
    "dedicate_data"
   ]
  },
  {
   "cell_type": "markdown",
   "metadata": {},
   "source": [
    "LoT 열의 고유한 값들과 그 갯수를 확인"
   ]
  },
  {
   "cell_type": "code",
   "execution_count": 119,
   "metadata": {},
   "outputs": [
    {
     "name": "stdout",
     "output_type": "stream",
     "text": [
      "[ 1  2  3  4  5  6  7  8  9 10 11 12 13 14 15 16 17 18 19 20 21 22]\n",
      "22\n"
     ]
    }
   ],
   "source": [
    "lot_lists=dedicated_data['LoT'].unique()\n",
    "print(lot_lists)\n",
    "print(len(lot_lists))"
   ]
  },
  {
   "cell_type": "markdown",
   "metadata": {},
   "source": [
    "DTime 열의 고유한 값들과 그 갯수를 확인"
   ]
  },
  {
   "cell_type": "code",
   "execution_count": 120,
   "metadata": {},
   "outputs": [
    {
     "name": "stdout",
     "output_type": "stream",
     "text": [
      "['2021-09-06' '2021-09-07' '2021-09-08' '2021-09-09' '2021-09-10'\n",
      " '2021-09-13' '2021-09-14' '2021-09-15' '2021-09-16' '2021-09-17'\n",
      " '2021-09-23' '2021-09-24' '2021-09-27' '2021-09-28' '2021-09-29'\n",
      " '2021-09-30' '2021-10-01' '2021-10-05' '2021-10-06' '2021-10-07'\n",
      " '2021-10-08' '2021-10-12' '2021-10-13' '2021-10-14' '2021-10-15'\n",
      " '2021-10-18' '2021-10-19' '2021-10-20' '2021-10-21' '2021-10-22'\n",
      " '2021-10-25' '2021-10-26' '2021-10-27']\n",
      "33\n"
     ]
    }
   ],
   "source": [
    "d_lists=dedicate_data['DTime'].unique()\n",
    "print(d_lists)\n",
    "print(len(d_lists))"
   ]
  },
  {
   "cell_type": "markdown",
   "metadata": {},
   "source": [
    "join을 이용하여 디렉토리 경로인 root_dir과 파일이름인 error_list를 결합하는 역할\n",
    "\n",
    "process라는 DataFrame에 csv 파일 저장\n",
    "\n",
    "sep=','은 데이터의 구분자가 ,라는 것을 의미\n"
   ]
  },
  {
   "cell_type": "code",
   "execution_count": 121,
   "metadata": {},
   "outputs": [
    {
     "data": {
      "text/html": [
       "<div>\n",
       "<style scoped>\n",
       "    .dataframe tbody tr th:only-of-type {\n",
       "        vertical-align: middle;\n",
       "    }\n",
       "\n",
       "    .dataframe tbody tr th {\n",
       "        vertical-align: top;\n",
       "    }\n",
       "\n",
       "    .dataframe thead th {\n",
       "        text-align: right;\n",
       "    }\n",
       "</style>\n",
       "<table border=\"1\" class=\"dataframe\">\n",
       "  <thead>\n",
       "    <tr style=\"text-align: right;\">\n",
       "      <th></th>\n",
       "      <th>Date</th>\n",
       "      <th>LoT</th>\n",
       "      <th>Process Rate</th>\n",
       "    </tr>\n",
       "  </thead>\n",
       "  <tbody>\n",
       "    <tr>\n",
       "      <th>0</th>\n",
       "      <td>2021-09-06</td>\n",
       "      <td>1</td>\n",
       "      <td>96.38</td>\n",
       "    </tr>\n",
       "    <tr>\n",
       "      <th>1</th>\n",
       "      <td>2021-09-06</td>\n",
       "      <td>2</td>\n",
       "      <td>97.40</td>\n",
       "    </tr>\n",
       "    <tr>\n",
       "      <th>2</th>\n",
       "      <td>2021-09-06</td>\n",
       "      <td>3</td>\n",
       "      <td>95.40</td>\n",
       "    </tr>\n",
       "    <tr>\n",
       "      <th>3</th>\n",
       "      <td>2021-09-06</td>\n",
       "      <td>4</td>\n",
       "      <td>96.35</td>\n",
       "    </tr>\n",
       "    <tr>\n",
       "      <th>4</th>\n",
       "      <td>2021-09-06</td>\n",
       "      <td>5</td>\n",
       "      <td>94.77</td>\n",
       "    </tr>\n",
       "    <tr>\n",
       "      <th>...</th>\n",
       "      <td>...</td>\n",
       "      <td>...</td>\n",
       "      <td>...</td>\n",
       "    </tr>\n",
       "    <tr>\n",
       "      <th>721</th>\n",
       "      <td>2021-10-27</td>\n",
       "      <td>18</td>\n",
       "      <td>97.29</td>\n",
       "    </tr>\n",
       "    <tr>\n",
       "      <th>722</th>\n",
       "      <td>2021-10-27</td>\n",
       "      <td>19</td>\n",
       "      <td>97.21</td>\n",
       "    </tr>\n",
       "    <tr>\n",
       "      <th>723</th>\n",
       "      <td>2021-10-27</td>\n",
       "      <td>20</td>\n",
       "      <td>98.38</td>\n",
       "    </tr>\n",
       "    <tr>\n",
       "      <th>724</th>\n",
       "      <td>2021-10-27</td>\n",
       "      <td>21</td>\n",
       "      <td>98.36</td>\n",
       "    </tr>\n",
       "    <tr>\n",
       "      <th>725</th>\n",
       "      <td>2021-10-27</td>\n",
       "      <td>22</td>\n",
       "      <td>96.03</td>\n",
       "    </tr>\n",
       "  </tbody>\n",
       "</table>\n",
       "<p>726 rows × 3 columns</p>\n",
       "</div>"
      ],
      "text/plain": [
       "           Date  LoT  Process Rate\n",
       "0    2021-09-06    1         96.38\n",
       "1    2021-09-06    2         97.40\n",
       "2    2021-09-06    3         95.40\n",
       "3    2021-09-06    4         96.35\n",
       "4    2021-09-06    5         94.77\n",
       "..          ...  ...           ...\n",
       "721  2021-10-27   18         97.29\n",
       "722  2021-10-27   19         97.21\n",
       "723  2021-10-27   20         98.38\n",
       "724  2021-10-27   21         98.36\n",
       "725  2021-10-27   22         96.03\n",
       "\n",
       "[726 rows x 3 columns]"
      ]
     },
     "execution_count": 121,
     "metadata": {},
     "output_type": "execute_result"
    }
   ],
   "source": [
    "process=pd.read_csv(os.path.join(root_dir, error_list), sep=',', encoding='utf-8')\n",
    "process"
   ]
  },
  {
   "cell_type": "code",
   "execution_count": 122,
   "metadata": {},
   "outputs": [
    {
     "name": "stdout",
     "output_type": "stream",
     "text": [
      "Unique LoT List : [ 1  2  3  4  5  6  7  8  9 10 11 12 13 14 15 16 17 18 19 20 21 22]\n",
      "Unique Date List : ['2021-09-06' '2021-09-07' '2021-09-08' '2021-09-09' '2021-09-10'\n",
      " '2021-09-13' '2021-09-14' '2021-09-15' '2021-09-16' '2021-09-17'\n",
      " '2021-09-23' '2021-09-24' '2021-09-27' '2021-09-28' '2021-09-29'\n",
      " '2021-09-30' '2021-10-01' '2021-10-05' '2021-10-06' '2021-10-07'\n",
      " '2021-10-08' '2021-10-12' '2021-10-13' '2021-10-14' '2021-10-15'\n",
      " '2021-10-18' '2021-10-19' '2021-10-20' '2021-10-21' '2021-10-22'\n",
      " '2021-10-25' '2021-10-26' '2021-10-27']\n"
     ]
    }
   ],
   "source": [
    "lot_process_lists=process['LoT'].unique()\n",
    "d_process_lists=process['Date'].unique()\n",
    "print(\"Unique LoT List :\" , lot_process_lists)\n",
    "print(\"Unique Date List :\", d_process_lists)"
   ]
  },
  {
   "cell_type": "code",
   "execution_count": 127,
   "metadata": {},
   "outputs": [],
   "source": [
    "X_data = pd.DataFrame(columns=['pH', 'Temp', 'LoT', 'Process'])"
   ]
  },
  {
   "cell_type": "code",
   "execution_count": 131,
   "metadata": {},
   "outputs": [
    {
     "ename": "AttributeError",
     "evalue": "'DataFrame' object has no attribute 'append'",
     "output_type": "error",
     "traceback": [
      "\u001b[1;31m---------------------------------------------------------------------------\u001b[0m",
      "\u001b[1;31mAttributeError\u001b[0m                            Traceback (most recent call last)",
      "\u001b[1;32m~\\AppData\\Local\\Temp\\ipykernel_18624\\2410214090.py\u001b[0m in \u001b[0;36m?\u001b[1;34m()\u001b[0m\n\u001b[0;32m     12\u001b[0m         \u001b[0mtrr\u001b[0m \u001b[1;33m=\u001b[0m \u001b[0mnp\u001b[0m\u001b[1;33m.\u001b[0m\u001b[0mfull\u001b[0m\u001b[1;33m(\u001b[0m\u001b[1;33m(\u001b[0m\u001b[0mtmp\u001b[0m\u001b[1;33m[\u001b[0m\u001b[1;34m'pH'\u001b[0m\u001b[1;33m]\u001b[0m\u001b[1;33m.\u001b[0m\u001b[0mshape\u001b[0m\u001b[1;33m)\u001b[0m\u001b[1;33m,\u001b[0m \u001b[0mprocess_val\u001b[0m\u001b[1;33m)\u001b[0m\u001b[1;33m\u001b[0m\u001b[1;33m\u001b[0m\u001b[0m\n\u001b[0;32m     13\u001b[0m         \u001b[1;31m# Add 'Process' column to 'tmp' DataFrame and assign 'trr' to it\u001b[0m\u001b[1;33m\u001b[0m\u001b[1;33m\u001b[0m\u001b[0m\n\u001b[0;32m     14\u001b[0m         \u001b[0mtmp\u001b[0m\u001b[1;33m[\u001b[0m\u001b[1;34m'Process'\u001b[0m\u001b[1;33m]\u001b[0m \u001b[1;33m=\u001b[0m \u001b[0mtrr\u001b[0m\u001b[1;33m\u001b[0m\u001b[1;33m\u001b[0m\u001b[0m\n\u001b[0;32m     15\u001b[0m         \u001b[1;31m# Append 'tmp' DataFrame to 'X_data'\u001b[0m\u001b[1;33m\u001b[0m\u001b[1;33m\u001b[0m\u001b[0m\n\u001b[1;32m---> 16\u001b[1;33m         \u001b[0mX_data\u001b[0m \u001b[1;33m=\u001b[0m \u001b[0mX_data\u001b[0m\u001b[1;33m.\u001b[0m\u001b[0mappend\u001b[0m\u001b[1;33m(\u001b[0m\u001b[0mtmp\u001b[0m\u001b[1;33m)\u001b[0m\u001b[1;33m\u001b[0m\u001b[1;33m\u001b[0m\u001b[0m\n\u001b[0m\u001b[0;32m     17\u001b[0m \u001b[1;33m\u001b[0m\u001b[0m\n\u001b[0;32m     18\u001b[0m \u001b[1;31m# Convert all columns to numeric\u001b[0m\u001b[1;33m\u001b[0m\u001b[1;33m\u001b[0m\u001b[0m\n\u001b[0;32m     19\u001b[0m \u001b[0mX_data\u001b[0m \u001b[1;33m=\u001b[0m \u001b[0mX_data\u001b[0m\u001b[1;33m.\u001b[0m\u001b[0mapply\u001b[0m\u001b[1;33m(\u001b[0m\u001b[0mpd\u001b[0m\u001b[1;33m.\u001b[0m\u001b[0mto_numeric\u001b[0m\u001b[1;33m)\u001b[0m\u001b[1;33m\u001b[0m\u001b[1;33m\u001b[0m\u001b[0m\n",
      "\u001b[1;32mc:\\Users\\user\\miniconda3\\envs\\OpenAI\\Lib\\site-packages\\pandas\\core\\generic.py\u001b[0m in \u001b[0;36m?\u001b[1;34m(self, name)\u001b[0m\n\u001b[0;32m   6200\u001b[0m             \u001b[1;32mand\u001b[0m \u001b[0mname\u001b[0m \u001b[1;32mnot\u001b[0m \u001b[1;32min\u001b[0m \u001b[0mself\u001b[0m\u001b[1;33m.\u001b[0m\u001b[0m_accessors\u001b[0m\u001b[1;33m\u001b[0m\u001b[1;33m\u001b[0m\u001b[0m\n\u001b[0;32m   6201\u001b[0m             \u001b[1;32mand\u001b[0m \u001b[0mself\u001b[0m\u001b[1;33m.\u001b[0m\u001b[0m_info_axis\u001b[0m\u001b[1;33m.\u001b[0m\u001b[0m_can_hold_identifiers_and_holds_name\u001b[0m\u001b[1;33m(\u001b[0m\u001b[0mname\u001b[0m\u001b[1;33m)\u001b[0m\u001b[1;33m\u001b[0m\u001b[1;33m\u001b[0m\u001b[0m\n\u001b[0;32m   6202\u001b[0m         \u001b[1;33m)\u001b[0m\u001b[1;33m:\u001b[0m\u001b[1;33m\u001b[0m\u001b[1;33m\u001b[0m\u001b[0m\n\u001b[0;32m   6203\u001b[0m             \u001b[1;32mreturn\u001b[0m \u001b[0mself\u001b[0m\u001b[1;33m[\u001b[0m\u001b[0mname\u001b[0m\u001b[1;33m]\u001b[0m\u001b[1;33m\u001b[0m\u001b[1;33m\u001b[0m\u001b[0m\n\u001b[1;32m-> 6204\u001b[1;33m         \u001b[1;32mreturn\u001b[0m \u001b[0mobject\u001b[0m\u001b[1;33m.\u001b[0m\u001b[0m__getattribute__\u001b[0m\u001b[1;33m(\u001b[0m\u001b[0mself\u001b[0m\u001b[1;33m,\u001b[0m \u001b[0mname\u001b[0m\u001b[1;33m)\u001b[0m\u001b[1;33m\u001b[0m\u001b[1;33m\u001b[0m\u001b[0m\n\u001b[0m",
      "\u001b[1;31mAttributeError\u001b[0m: 'DataFrame' object has no attribute 'append'"
     ]
    }
   ],
   "source": [
    "X_data = pd.DataFrame(columns=['LoT', 'pH', 'Temp', 'Process'])\n",
    "\n",
    "for d in d_lists:\n",
    "    for lot in lot_lists:\n",
    "        # Filter dedicated_data based on matching 'DTime' and 'LoT'\n",
    "        tmp = dedicated_data[(dedicated_data['DTime'] == d) & (dedicated_data['LoT'] == lot)]\n",
    "        # Extract relevant columns\n",
    "        tmp = tmp[['pH', 'Temp', 'LoT']]\n",
    "        # Filter process based on matching 'Date' and 'LoT', then get 'Process Rate'\n",
    "        process_val = process[(process['Date'] == d) & (process['LoT'] == lot)]['Process Rate'].values\n",
    "        # Create a NumPy array 'trr' with the same shape as 'tmp['pH']' and fill it with 'process_val'\n",
    "        trr = np.full((tmp['pH'].shape), process_val)\n",
    "        # Add 'Process' column to 'tmp' DataFrame and assign 'trr' to it\n",
    "        tmp['Process'] = trr\n",
    "        # Append 'tmp' DataFrame to 'X_data'\n",
    "        X_data = X_data.append(tmp)\n",
    "\n",
    "# Convert all columns to numeric\n",
    "X_data = X_data.apply(pd.to_numeric)\n",
    "# Rearrange columns\n",
    "X_data = X_data[['LoT', 'pH', 'Temp', 'Process']]"
   ]
  }
 ],
 "metadata": {
  "kernelspec": {
   "display_name": "OpenAI",
   "language": "python",
   "name": "python3"
  },
  "language_info": {
   "codemirror_mode": {
    "name": "ipython",
    "version": 3
   },
   "file_extension": ".py",
   "mimetype": "text/x-python",
   "name": "python",
   "nbconvert_exporter": "python",
   "pygments_lexer": "ipython3",
   "version": "3.12.0"
  }
 },
 "nbformat": 4,
 "nbformat_minor": 2
}
