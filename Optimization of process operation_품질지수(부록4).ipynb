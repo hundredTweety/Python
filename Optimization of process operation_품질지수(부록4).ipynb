{
 "cells": [
  {
   "cell_type": "code",
   "execution_count": 1,
   "metadata": {},
   "outputs": [],
   "source": [
    "import os\n",
    "import pandas as pd\n",
    "import datetime"
   ]
  },
  {
   "cell_type": "markdown",
   "metadata": {},
   "source": [
    "# Data List"
   ]
  },
  {
   "cell_type": "code",
   "execution_count": 2,
   "metadata": {
    "scrolled": false
   },
   "outputs": [],
   "source": [
    "root_dir = os.getcwd()\n",
    "f_lists = os.listdir(root_dir)\n",
    "new_file_lists = [f for f in f_lists if f.endswith('.csv')]\n",
    "data_lists = new_file_lists[:-1]"
   ]
  },
  {
   "cell_type": "markdown",
   "metadata": {},
   "source": [
    "# Make Function"
   ]
  },
  {
   "cell_type": "code",
   "execution_count": 3,
   "metadata": {},
   "outputs": [],
   "source": [
    "def csv_read_(data_dir, data_list):\n",
    "    tmp = pd.read_csv(os.path.join(data_dir, data_list), sep=',', encoding='utf-8')\n",
    "    y, m, d = map(int, data_list.split('-')[-1].split('.')[:-1])\n",
    "    time = tmp['Time']\n",
    "    tmp['DTime'] = '-'.join(data_list.split('-')[-1].split('.')[:-1])\n",
    "    ctime = time.apply(lambda _ : _.replace(u'오후', 'PM').replace(u'오전', 'AM'))\n",
    "    n_time = ctime.apply(lambda _ : datetime.datetime.strptime(_, \"%p %I:%M:%S\"))\n",
    "    newtime = n_time.apply(lambda _ : _.replace(year=y, month=m, day=d))\n",
    "    tmp['Time'] = newtime\n",
    "    return tmp"
   ]
  },
  {
   "cell_type": "markdown",
   "metadata": {},
   "source": [
    "# Make Dedicated DataFrame"
   ]
  },
  {
   "cell_type": "code",
   "execution_count": 4,
   "metadata": {
    "scrolled": false
   },
   "outputs": [],
   "source": [
    "dd = csv_read_(root_dir, data_lists[0])\n",
    "for i in range(1, len(data_lists)):\n",
    "    dd = pd.merge(dd, csv_read_(root_dir, data_lists[i]), how='outer')"
   ]
  },
  {
   "cell_type": "code",
   "execution_count": 5,
   "metadata": {},
   "outputs": [],
   "source": [
    "dd = dd.drop('Index', axis=1)\n",
    "dd = dd.set_index('Time')"
   ]
  },
  {
   "cell_type": "code",
   "execution_count": 6,
   "metadata": {},
   "outputs": [
    {
     "data": {
      "text/html": [
       "<div>\n",
       "<style scoped>\n",
       "    .dataframe tbody tr th:only-of-type {\n",
       "        vertical-align: middle;\n",
       "    }\n",
       "\n",
       "    .dataframe tbody tr th {\n",
       "        vertical-align: top;\n",
       "    }\n",
       "\n",
       "    .dataframe thead th {\n",
       "        text-align: right;\n",
       "    }\n",
       "</style>\n",
       "<table border=\"1\" class=\"dataframe\">\n",
       "  <thead>\n",
       "    <tr style=\"text-align: right;\">\n",
       "      <th></th>\n",
       "      <th>LoT</th>\n",
       "      <th>pH</th>\n",
       "      <th>Temp</th>\n",
       "      <th>DTime</th>\n",
       "    </tr>\n",
       "    <tr>\n",
       "      <th>Time</th>\n",
       "      <th></th>\n",
       "      <th></th>\n",
       "      <th></th>\n",
       "      <th></th>\n",
       "    </tr>\n",
       "  </thead>\n",
       "  <tbody>\n",
       "    <tr>\n",
       "      <th>2021-09-06 09:01:18</th>\n",
       "      <td>1</td>\n",
       "      <td>1.02</td>\n",
       "      <td>47.18</td>\n",
       "      <td>2021-09-06</td>\n",
       "    </tr>\n",
       "    <tr>\n",
       "      <th>2021-09-06 09:01:23</th>\n",
       "      <td>1</td>\n",
       "      <td>1.05</td>\n",
       "      <td>47.34</td>\n",
       "      <td>2021-09-06</td>\n",
       "    </tr>\n",
       "    <tr>\n",
       "      <th>2021-09-06 09:01:28</th>\n",
       "      <td>1</td>\n",
       "      <td>1.09</td>\n",
       "      <td>48.45</td>\n",
       "      <td>2021-09-06</td>\n",
       "    </tr>\n",
       "    <tr>\n",
       "      <th>2021-09-06 09:01:33</th>\n",
       "      <td>1</td>\n",
       "      <td>1.12</td>\n",
       "      <td>48.46</td>\n",
       "      <td>2021-09-06</td>\n",
       "    </tr>\n",
       "    <tr>\n",
       "      <th>2021-09-06 09:01:38</th>\n",
       "      <td>1</td>\n",
       "      <td>1.15</td>\n",
       "      <td>48.47</td>\n",
       "      <td>2021-09-06</td>\n",
       "    </tr>\n",
       "    <tr>\n",
       "      <th>...</th>\n",
       "      <td>...</td>\n",
       "      <td>...</td>\n",
       "      <td>...</td>\n",
       "      <td>...</td>\n",
       "    </tr>\n",
       "    <tr>\n",
       "      <th>2021-10-27 11:14:41</th>\n",
       "      <td>22</td>\n",
       "      <td>2.79</td>\n",
       "      <td>51.83</td>\n",
       "      <td>2021-10-27</td>\n",
       "    </tr>\n",
       "    <tr>\n",
       "      <th>2021-10-27 11:14:46</th>\n",
       "      <td>22</td>\n",
       "      <td>3.62</td>\n",
       "      <td>42.20</td>\n",
       "      <td>2021-10-27</td>\n",
       "    </tr>\n",
       "    <tr>\n",
       "      <th>2021-10-27 11:14:51</th>\n",
       "      <td>22</td>\n",
       "      <td>3.40</td>\n",
       "      <td>41.88</td>\n",
       "      <td>2021-10-27</td>\n",
       "    </tr>\n",
       "    <tr>\n",
       "      <th>2021-10-27 11:14:56</th>\n",
       "      <td>22</td>\n",
       "      <td>3.59</td>\n",
       "      <td>40.62</td>\n",
       "      <td>2021-10-27</td>\n",
       "    </tr>\n",
       "    <tr>\n",
       "      <th>2021-10-27 11:15:01</th>\n",
       "      <td>22</td>\n",
       "      <td>3.82</td>\n",
       "      <td>42.08</td>\n",
       "      <td>2021-10-27</td>\n",
       "    </tr>\n",
       "  </tbody>\n",
       "</table>\n",
       "<p>50094 rows × 4 columns</p>\n",
       "</div>"
      ],
      "text/plain": [
       "                     LoT    pH   Temp       DTime\n",
       "Time                                             \n",
       "2021-09-06 09:01:18    1  1.02  47.18  2021-09-06\n",
       "2021-09-06 09:01:23    1  1.05  47.34  2021-09-06\n",
       "2021-09-06 09:01:28    1  1.09  48.45  2021-09-06\n",
       "2021-09-06 09:01:33    1  1.12  48.46  2021-09-06\n",
       "2021-09-06 09:01:38    1  1.15  48.47  2021-09-06\n",
       "...                  ...   ...    ...         ...\n",
       "2021-10-27 11:14:41   22  2.79  51.83  2021-10-27\n",
       "2021-10-27 11:14:46   22  3.62  42.20  2021-10-27\n",
       "2021-10-27 11:14:51   22  3.40  41.88  2021-10-27\n",
       "2021-10-27 11:14:56   22  3.59  40.62  2021-10-27\n",
       "2021-10-27 11:15:01   22  3.82  42.08  2021-10-27\n",
       "\n",
       "[50094 rows x 4 columns]"
      ]
     },
     "execution_count": 6,
     "metadata": {},
     "output_type": "execute_result"
    }
   ],
   "source": [
    "dedicated_data = dd.copy()\n",
    "dedicated_data = dedicated_data.dropna()\n",
    "dedicated_data"
   ]
  },
  {
   "cell_type": "code",
   "execution_count": 7,
   "metadata": {},
   "outputs": [
    {
     "name": "stdout",
     "output_type": "stream",
     "text": [
      "DataFrame name: pH\n",
      "[step 1-1]\n",
      "0.0\n",
      "[step 1-2]\n",
      "False\n",
      "[step 2-1]\n",
      "Time\n",
      "2021-09-06 09:01:18    False\n",
      "2021-09-06 09:01:23    False\n",
      "2021-09-06 09:01:28    False\n",
      "2021-09-06 09:01:33    False\n",
      "2021-09-06 09:01:38    False\n",
      "Name: pH, dtype: bool\n",
      "[step 2-2]\n",
      "0\n",
      "[step 2-3]\n",
      "0\n",
      "결측치 = 0개 \n",
      "완전성 지수 : 100.00% \n",
      "\n",
      "\n",
      "\n",
      "DataFrame name: Temp\n",
      "[step 1-1]\n",
      "0.0\n",
      "[step 1-2]\n",
      "False\n",
      "[step 2-1]\n",
      "Time\n",
      "2021-09-06 09:01:18    False\n",
      "2021-09-06 09:01:23    False\n",
      "2021-09-06 09:01:28    False\n",
      "2021-09-06 09:01:33    False\n",
      "2021-09-06 09:01:38    False\n",
      "Name: Temp, dtype: bool\n",
      "[step 2-2]\n",
      "0\n",
      "[step 2-3]\n",
      "0\n",
      "결측치 = 0개 \n",
      "완전성 지수 : 100.00% \n",
      "\n",
      "\n",
      "\n"
     ]
    }
   ],
   "source": [
    "perc =30\n",
    "data_columns = ['pH', 'Temp']\n",
    "for df_name in list(data_columns):\n",
    "    print(f'DataFrame name: {df_name}')\n",
    "    df = dedicated_data[df_name]\n",
    "    print('[step 1-1]')\n",
    "    print(round(df.isnull().sum()/len(df)*100,2))\n",
    "    print('[step 1-2]')\n",
    "    print(df.isnull().sum()/len(df)*100>perc)\n",
    "    print('[step 2-1]')\n",
    "    print(df.isnull().head())\n",
    "    print('[step 2-2]')\n",
    "    print(df.isnull().sum())\n",
    "    print('[step 2-3]')\n",
    "    cmpt_len =df.isnull().sum().sum()\n",
    "    print(cmpt_len)\n",
    "    print(\"결측치 = %d개 \\n완전성 지수 : %.2f%% \"%(cmpt_len,(1-cmpt_len/len(df))*100))\n",
    "    print('\\n\\n')"
   ]
  },
  {
   "cell_type": "code",
   "execution_count": 8,
   "metadata": {},
   "outputs": [
    {
     "name": "stdout",
     "output_type": "stream",
     "text": [
      "The percentage of uniqueness for pH<->Temp : 37.55\n",
      "유일성 지수 : 37.55% \n"
     ]
    }
   ],
   "source": [
    "check_unique =dedicated_data[\n",
    "    ['pH','Temp']\n",
    "    ].value_counts().reset_index()\n",
    "perc_check_unique_item_urgent_info =round(\n",
    "    (len(check_unique)-len(check_unique[check_unique[0]>1]))\n",
    "    /len(check_unique)*100,2)\n",
    "\n",
    "print(f'The percentage of uniqueness for pH<->Temp : {perc_check_unique_item_urgent_info}')\n",
    "print(\"유일성 지수 : %.2f%% \"%(perc_check_unique_item_urgent_info))"
   ]
  },
  {
   "cell_type": "code",
   "execution_count": 9,
   "metadata": {},
   "outputs": [
    {
     "name": "stdout",
     "output_type": "stream",
     "text": [
      "[Step 1] 데이터 범위를 벗어난 데이터 수: 0\n",
      "[Step 2] 수집된 날짜를 벗어나는 데이터 수: 0\n",
      "[Step 3] 데이터 형식을 벗어나는 데이터 수: 0\n",
      "유효성 지수 : 100.00% \n"
     ]
    },
    {
     "name": "stderr",
     "output_type": "stream",
     "text": [
      "C:\\Users\\Public\\Documents\\ESTsoft\\CreatorTemp/ipykernel_21956/2132131785.py:11: FutureWarning: Value based partial slicing on non-monotonic DatetimeIndexes with non-existing keys is deprecated and will raise a KeyError in a future Version.\n",
      "  vald_df =vald_df.loc[d0:d1]\n"
     ]
    }
   ],
   "source": [
    "df = dedicated_data\n",
    "pH_lb =df['pH']>=1\n",
    "pH_ub =df['pH']<=4\n",
    "temp_lb =df['Temp']>=35\n",
    "temp_ub =df['Temp']<=65\n",
    "vald_df =df[pH_lb &pH_ub &temp_lb &temp_ub]\n",
    "print(f'[Step 1] 데이터 범위를 벗어난 데이터 수: {len(df)-len(vald_df)}')\n",
    "\n",
    "d0 = '2021-09-06'\n",
    "d1 = '2021-10-27'\n",
    "vald_df =vald_df.loc[d0:d1]\n",
    "print(f'[Step 2] 수집된 날짜를 벗어나는 데이터 수: {len(df)-len(vald_df)}')\n",
    "\n",
    "vald_df['DTime']=vald_df['DTime'].apply(lambda x:isinstance(x,datetime.datetime))\n",
    "vald_df['pH']=vald_df['pH'].apply(lambda x:isinstance(x,float))\n",
    "vald_df['Temp']=vald_df['Temp'].apply(lambda x:isinstance(x,float))\n",
    "print(f'[Step 3] 데이터 형식을 벗어나는 데이터 수: {len(df)-len(vald_df)}')\n",
    "\n",
    "vald_df[\n",
    "    (vald_df['pH']==True)\n",
    "    &(vald_df['Temp']==True)\n",
    "    ]\n",
    "vald_len =len(vald_df)\n",
    "item_vald =vald_len/len(df)*100\n",
    "print(\"유효성 지수 : %.2f%% \"%(item_vald)) "
   ]
  }
 ],
 "metadata": {
  "kernelspec": {
   "display_name": "auto",
   "language": "python",
   "name": "auto"
  },
  "language_info": {
   "codemirror_mode": {
    "name": "ipython",
    "version": 3
   },
   "file_extension": ".py",
   "mimetype": "text/x-python",
   "name": "python",
   "nbconvert_exporter": "python",
   "pygments_lexer": "ipython3",
   "version": "3.8.12"
  }
 },
 "nbformat": 4,
 "nbformat_minor": 5
}
