{
 "cells": [
  {
   "cell_type": "markdown",
   "metadata": {},
   "source": [
    "# 공정운영 최적화 AI데이터셋 실습\n",
    "## KAMP에서 제공하는 전기 도금 공정 중 첫번째 단계인 산제 전처리 공정에 대한 실습 과정이다. 파주 도금 공정 품질 및 수율 향상을 위한 레퍼런스로 활용이 가능해보여 진행하고자 한다."
   ]
  },
  {
   "cell_type": "markdown",
   "metadata": {},
   "source": [
    "### [단계 ①] 데이터 준비\n",
    "#### ①-1. 라이브러리/패키지 설치\n",
    " - 분석에 필요한 Library 설치를 진행한다. 설치 시, 셀(Cell)의 경우 Code(코드)로 되어있는지 확인하고 진행하며, 메뉴에서 ▶| 버튼을 클릭하거나 ‘shift + enter’ 키보드를 눌러서 실행시킨다."
   ]
  },
  {
   "cell_type": "code",
   "execution_count": 1,
   "metadata": {},
   "outputs": [
    {
     "name": "stdout",
     "output_type": "stream",
     "text": [
      "Requirement already satisfied: pandas in c:\\users\\k10545\\anaconda3\\lib\\site-packages (1.3.5)\n",
      "Requirement already satisfied: numpy>=1.17.3; platform_machine != \"aarch64\" and platform_machine != \"arm64\" and python_version < \"3.10\" in c:\\users\\k10545\\anaconda3\\lib\\site-packages (from pandas) (1.19.2)\n",
      "Requirement already satisfied: pytz>=2017.3 in c:\\users\\k10545\\anaconda3\\lib\\site-packages (from pandas) (2020.1)\n",
      "Requirement already satisfied: python-dateutil>=2.7.3 in c:\\users\\k10545\\anaconda3\\lib\\site-packages (from pandas) (2.8.1)\n",
      "Requirement already satisfied: six>=1.5 in c:\\users\\k10545\\anaconda3\\lib\\site-packages (from python-dateutil>=2.7.3->pandas) (1.15.0)\n",
      "Requirement already satisfied: numpy in c:\\users\\k10545\\anaconda3\\lib\\site-packages (1.19.2)\n",
      "Requirement already satisfied: sklearn in c:\\users\\k10545\\anaconda3\\lib\\site-packages (0.0)\n",
      "Requirement already satisfied: scikit-learn in c:\\users\\k10545\\anaconda3\\lib\\site-packages (from sklearn) (0.22.1)\n",
      "Requirement already satisfied: joblib>=0.11 in c:\\users\\k10545\\anaconda3\\lib\\site-packages (from scikit-learn->sklearn) (0.17.0)\n",
      "Requirement already satisfied: numpy>=1.11.0 in c:\\users\\k10545\\anaconda3\\lib\\site-packages (from scikit-learn->sklearn) (1.19.2)\n",
      "Requirement already satisfied: scipy>=0.17.0 in c:\\users\\k10545\\anaconda3\\lib\\site-packages (from scikit-learn->sklearn) (1.5.2)\n",
      "Requirement already satisfied: seaborn in c:\\users\\k10545\\anaconda3\\lib\\site-packages (0.11.0)\n",
      "Requirement already satisfied: numpy>=1.15 in c:\\users\\k10545\\anaconda3\\lib\\site-packages (from seaborn) (1.19.2)\n",
      "Requirement already satisfied: matplotlib>=2.2 in c:\\users\\k10545\\anaconda3\\lib\\site-packages (from seaborn) (3.2.2)\n",
      "Requirement already satisfied: pandas>=0.23 in c:\\users\\k10545\\anaconda3\\lib\\site-packages (from seaborn) (1.3.5)\n",
      "Requirement already satisfied: scipy>=1.0 in c:\\users\\k10545\\anaconda3\\lib\\site-packages (from seaborn) (1.5.2)\n",
      "Requirement already satisfied: pyparsing!=2.0.4,!=2.1.2,!=2.1.6,>=2.0.1 in c:\\users\\k10545\\anaconda3\\lib\\site-packages (from matplotlib>=2.2->seaborn) (2.4.7)\n",
      "Requirement already satisfied: cycler>=0.10 in c:\\users\\k10545\\anaconda3\\lib\\site-packages (from matplotlib>=2.2->seaborn) (0.10.0)\n",
      "Requirement already satisfied: python-dateutil>=2.1 in c:\\users\\k10545\\anaconda3\\lib\\site-packages (from matplotlib>=2.2->seaborn) (2.8.1)\n",
      "Requirement already satisfied: kiwisolver>=1.0.1 in c:\\users\\k10545\\anaconda3\\lib\\site-packages (from matplotlib>=2.2->seaborn) (1.3.0)\n",
      "Requirement already satisfied: pytz>=2017.3 in c:\\users\\k10545\\anaconda3\\lib\\site-packages (from pandas>=0.23->seaborn) (2020.1)\n",
      "Requirement already satisfied: six in c:\\users\\k10545\\anaconda3\\lib\\site-packages (from cycler>=0.10->matplotlib>=2.2->seaborn) (1.15.0)\n",
      "Requirement already satisfied: datetime in c:\\users\\k10545\\anaconda3\\lib\\site-packages (4.3)\n",
      "Requirement already satisfied: pytz in c:\\users\\k10545\\anaconda3\\lib\\site-packages (from datetime) (2020.1)\n",
      "Requirement already satisfied: zope.interface in c:\\users\\k10545\\anaconda3\\lib\\site-packages (from datetime) (5.1.2)\n",
      "Requirement already satisfied: setuptools in c:\\users\\k10545\\anaconda3\\lib\\site-packages (from zope.interface->datetime) (50.3.1.post20201107)\n",
      "Requirement already satisfied: matplotlib in c:\\users\\k10545\\anaconda3\\lib\\site-packages (3.2.2)\n",
      "Requirement already satisfied: pyparsing!=2.0.4,!=2.1.2,!=2.1.6,>=2.0.1 in c:\\users\\k10545\\anaconda3\\lib\\site-packages (from matplotlib) (2.4.7)\n",
      "Requirement already satisfied: kiwisolver>=1.0.1 in c:\\users\\k10545\\anaconda3\\lib\\site-packages (from matplotlib) (1.3.0)\n",
      "Requirement already satisfied: python-dateutil>=2.1 in c:\\users\\k10545\\anaconda3\\lib\\site-packages (from matplotlib) (2.8.1)\n",
      "Requirement already satisfied: cycler>=0.10 in c:\\users\\k10545\\anaconda3\\lib\\site-packages (from matplotlib) (0.10.0)\n",
      "Requirement already satisfied: numpy>=1.11 in c:\\users\\k10545\\anaconda3\\lib\\site-packages (from matplotlib) (1.19.2)\n",
      "Requirement already satisfied: six>=1.5 in c:\\users\\k10545\\anaconda3\\lib\\site-packages (from python-dateutil>=2.1->matplotlib) (1.15.0)\n",
      "Requirement already satisfied: pydot in c:\\users\\k10545\\anaconda3\\lib\\site-packages (1.4.2)\n",
      "Requirement already satisfied: pyparsing>=2.1.4 in c:\\users\\k10545\\anaconda3\\lib\\site-packages (from pydot) (2.4.7)\n",
      "Requirement already satisfied: graphviz in c:\\users\\k10545\\anaconda3\\lib\\site-packages (0.8.4)\n"
     ]
    }
   ],
   "source": [
    "!pip install pandas\n",
    "!pip install numpy\n",
    "!pip install sklearn\n",
    "!pip install seaborn\n",
    "!pip install datetime\n",
    "!pip install matplotlib\n",
    "!pip install pydot\n",
    "!pip install graphviz"
   ]
  },
  {
   "cell_type": "markdown",
   "metadata": {},
   "source": [
    "### ①-2. 라이브러리/패키지 불러오기\n",
    "- 분석에 필요한 Library들을 Import 한다."
   ]
  },
  {
   "cell_type": "code",
   "execution_count": 54,
   "metadata": {},
   "outputs": [],
   "source": [
    "import os\n",
    "import pandas as pd\n",
    "import numpy as np\n",
    "import matplotlib.pyplot as plt\n",
    "import datetime\n",
    "from sklearn import tree\n",
    "from sklearn.svm import SVC\n",
    "import seaborn as sns\n",
    "from sklearn.metrics import mean_squared_error\n",
    "from sklearn.model_selection import train_test_split\n",
    "from math import sqrt\n",
    "from sklearn.metrics import confusion_matrix\n",
    "from sklearn.metrics import accuracy_score\n",
    "from sklearn.metrics import precision_score\n",
    "from sklearn.metrics import recall_score\n",
    "from sklearn.metrics import f1_score\n",
    "from sklearn.metrics import roc_curve\n",
    "from sklearn.metrics import classification_report"
   ]
  },
  {
   "cell_type": "markdown",
   "metadata": {},
   "source": [
    "### ①-3. 데이터 불러오기\n",
    " - 위 코드를 통해 root_dir로 지정한 디렉토리에서 listdir 함수를 통해 해당 디렉토리내 모든 파일 리스트를 가져온다. 모든 파일 리스트 출력 시 위와 같이 출력되는 것이 확인 가능하다."
   ]
  },
  {
   "cell_type": "code",
   "execution_count": 3,
   "metadata": {
    "scrolled": false
   },
   "outputs": [
    {
     "name": "stdout",
     "output_type": "stream",
     "text": [
      "File Lists :  ['.ipynb_checkpoints', 'kemp-abh-sensor-2021.09.06.csv', 'kemp-abh-sensor-2021.09.07.csv', 'kemp-abh-sensor-2021.09.08.csv', 'kemp-abh-sensor-2021.09.09.csv', 'kemp-abh-sensor-2021.09.10.csv', 'kemp-abh-sensor-2021.09.13.csv', 'kemp-abh-sensor-2021.09.14.csv', 'kemp-abh-sensor-2021.09.15.csv', 'kemp-abh-sensor-2021.09.16.csv', 'kemp-abh-sensor-2021.09.17.csv', 'kemp-abh-sensor-2021.09.23.csv', 'kemp-abh-sensor-2021.09.24.csv', 'kemp-abh-sensor-2021.09.27.csv', 'kemp-abh-sensor-2021.09.28.csv', 'kemp-abh-sensor-2021.09.29.csv', 'kemp-abh-sensor-2021.09.30.csv', 'kemp-abh-sensor-2021.10.01.csv', 'kemp-abh-sensor-2021.10.05.csv', 'kemp-abh-sensor-2021.10.06.csv', 'kemp-abh-sensor-2021.10.07.csv', 'kemp-abh-sensor-2021.10.08.csv', 'kemp-abh-sensor-2021.10.12.csv', 'kemp-abh-sensor-2021.10.13.csv', 'kemp-abh-sensor-2021.10.14.csv', 'kemp-abh-sensor-2021.10.15.csv', 'kemp-abh-sensor-2021.10.18.csv', 'kemp-abh-sensor-2021.10.19.csv', 'kemp-abh-sensor-2021.10.20.csv', 'kemp-abh-sensor-2021.10.21.csv', 'kemp-abh-sensor-2021.10.22.csv', 'kemp-abh-sensor-2021.10.25.csv', 'kemp-abh-sensor-2021.10.26.csv', 'kemp-abh-sensor-2021.10.27.csv', 'kemp-process-rate.csv', 'Optimization of process operation.ipynb', 'Optimization of process operation_품질지수(부록4).ipynb']\n"
     ]
    }
   ],
   "source": [
    "root_dir = os.getcwd()\n",
    "f_lists = os.listdir(root_dir)\n",
    "print(\"File Lists : \", f_lists)"
   ]
  },
  {
   "cell_type": "markdown",
   "metadata": {},
   "source": [
    "- 모든 파일 리스트가 담긴 리스트에서 요소를 하나 꺼내와서 f로 명명하며, f가 ‘.csv’로 끝나면 새로운 리스트로 구성한다.\n",
    "- 데이터를 불러오는 코드와 비교 시, 기존 f_lists에는 모든 파일이 들어가 있던 반면, new_file_lists는 파일 형식이 csv인 파일만 리스트에 남는다."
   ]
  },
  {
   "cell_type": "code",
   "execution_count": 4,
   "metadata": {},
   "outputs": [
    {
     "name": "stdout",
     "output_type": "stream",
     "text": [
      "File Lists :  ['kemp-abh-sensor-2021.09.06.csv', 'kemp-abh-sensor-2021.09.07.csv', 'kemp-abh-sensor-2021.09.08.csv', 'kemp-abh-sensor-2021.09.09.csv', 'kemp-abh-sensor-2021.09.10.csv', 'kemp-abh-sensor-2021.09.13.csv', 'kemp-abh-sensor-2021.09.14.csv', 'kemp-abh-sensor-2021.09.15.csv', 'kemp-abh-sensor-2021.09.16.csv', 'kemp-abh-sensor-2021.09.17.csv', 'kemp-abh-sensor-2021.09.23.csv', 'kemp-abh-sensor-2021.09.24.csv', 'kemp-abh-sensor-2021.09.27.csv', 'kemp-abh-sensor-2021.09.28.csv', 'kemp-abh-sensor-2021.09.29.csv', 'kemp-abh-sensor-2021.09.30.csv', 'kemp-abh-sensor-2021.10.01.csv', 'kemp-abh-sensor-2021.10.05.csv', 'kemp-abh-sensor-2021.10.06.csv', 'kemp-abh-sensor-2021.10.07.csv', 'kemp-abh-sensor-2021.10.08.csv', 'kemp-abh-sensor-2021.10.12.csv', 'kemp-abh-sensor-2021.10.13.csv', 'kemp-abh-sensor-2021.10.14.csv', 'kemp-abh-sensor-2021.10.15.csv', 'kemp-abh-sensor-2021.10.18.csv', 'kemp-abh-sensor-2021.10.19.csv', 'kemp-abh-sensor-2021.10.20.csv', 'kemp-abh-sensor-2021.10.21.csv', 'kemp-abh-sensor-2021.10.22.csv', 'kemp-abh-sensor-2021.10.25.csv', 'kemp-abh-sensor-2021.10.26.csv', 'kemp-abh-sensor-2021.10.27.csv', 'kemp-process-rate.csv']\n"
     ]
    }
   ],
   "source": [
    "new_file_lists = [f for f in f_lists if f.endswith('.csv')]\n",
    "print(\"File Lists : \", new_file_lists)"
   ]
  },
  {
   "cell_type": "markdown",
   "metadata": {},
   "source": [
    "- Input과 Output으로 사용될 데이터를 슬라이싱을 통해 지정한다. 'kemp-process-rate.csv'은 Output인 target 변수이다."
   ]
  },
  {
   "cell_type": "code",
   "execution_count": 5,
   "metadata": {},
   "outputs": [
    {
     "name": "stdout",
     "output_type": "stream",
     "text": [
      "Data Lists :  ['kemp-abh-sensor-2021.09.06.csv', 'kemp-abh-sensor-2021.09.07.csv', 'kemp-abh-sensor-2021.09.08.csv', 'kemp-abh-sensor-2021.09.09.csv', 'kemp-abh-sensor-2021.09.10.csv', 'kemp-abh-sensor-2021.09.13.csv', 'kemp-abh-sensor-2021.09.14.csv', 'kemp-abh-sensor-2021.09.15.csv', 'kemp-abh-sensor-2021.09.16.csv', 'kemp-abh-sensor-2021.09.17.csv', 'kemp-abh-sensor-2021.09.23.csv', 'kemp-abh-sensor-2021.09.24.csv', 'kemp-abh-sensor-2021.09.27.csv', 'kemp-abh-sensor-2021.09.28.csv', 'kemp-abh-sensor-2021.09.29.csv', 'kemp-abh-sensor-2021.09.30.csv', 'kemp-abh-sensor-2021.10.01.csv', 'kemp-abh-sensor-2021.10.05.csv', 'kemp-abh-sensor-2021.10.06.csv', 'kemp-abh-sensor-2021.10.07.csv', 'kemp-abh-sensor-2021.10.08.csv', 'kemp-abh-sensor-2021.10.12.csv', 'kemp-abh-sensor-2021.10.13.csv', 'kemp-abh-sensor-2021.10.14.csv', 'kemp-abh-sensor-2021.10.15.csv', 'kemp-abh-sensor-2021.10.18.csv', 'kemp-abh-sensor-2021.10.19.csv', 'kemp-abh-sensor-2021.10.20.csv', 'kemp-abh-sensor-2021.10.21.csv', 'kemp-abh-sensor-2021.10.22.csv', 'kemp-abh-sensor-2021.10.25.csv', 'kemp-abh-sensor-2021.10.26.csv', 'kemp-abh-sensor-2021.10.27.csv']\n",
      "Error Data List :  kemp-process-rate.csv\n"
     ]
    }
   ],
   "source": [
    "data_lists = new_file_lists[:-1]\n",
    "error_list = new_file_lists[-1]\n",
    "print(\"Data Lists : \", data_lists)\n",
    "print(\"Error Data List : \", error_list)"
   ]
  },
  {
   "cell_type": "markdown",
   "metadata": {},
   "source": [
    "- 데이터를 가져오기 위한 function을 정의한다.\n",
    "- 정의한 함수를 이용하여 data_lists를 이용하여 데이터를 불러온다.\n",
    "- 각 csv파일의 날짜형식을 변환한 데이터프레임을 생성한다."
   ]
  },
  {
   "cell_type": "code",
   "execution_count": 6,
   "metadata": {},
   "outputs": [],
   "source": [
    "def csv_read_(data_dir, data_list):\n",
    "    tmp = pd.read_csv(os.path.join(data_dir, data_list), sep=',', encoding='utf-8')\n",
    "    y, m, d = map(int, data_list.split('-')[-1].split('.')[:-1])\n",
    "    time = tmp['Time']\n",
    "    tmp['DTime'] = '-'.join(data_list.split('-')[-1].split('.')[:-1])\n",
    "    ctime = time.apply(lambda _ : _.replace(u'오후', 'PM').replace(u'오전', 'AM'))\n",
    "    n_time = ctime.apply(lambda _ : datetime.datetime.strptime(_, \"%p %I:%M:%S\"))\n",
    "    newtime = n_time.apply(lambda _ : _.replace(year=y, month=m, day=d))\n",
    "    tmp['Time'] = newtime\n",
    "    return tmp"
   ]
  },
  {
   "cell_type": "markdown",
   "metadata": {},
   "source": [
    " - 생성한 변환 함수를 활용하여 data_lists에 있는 모든 데이터셋에 대해 실행하고 merge한다.\n",
    " - (Make Dedicated DataFrame)"
   ]
  },
  {
   "cell_type": "code",
   "execution_count": 7,
   "metadata": {
    "scrolled": false
   },
   "outputs": [
    {
     "data": {
      "text/html": [
       "<div>\n",
       "<style scoped>\n",
       "    .dataframe tbody tr th:only-of-type {\n",
       "        vertical-align: middle;\n",
       "    }\n",
       "\n",
       "    .dataframe tbody tr th {\n",
       "        vertical-align: top;\n",
       "    }\n",
       "\n",
       "    .dataframe thead th {\n",
       "        text-align: right;\n",
       "    }\n",
       "</style>\n",
       "<table border=\"1\" class=\"dataframe\">\n",
       "  <thead>\n",
       "    <tr style=\"text-align: right;\">\n",
       "      <th></th>\n",
       "      <th>Index</th>\n",
       "      <th>LoT</th>\n",
       "      <th>Time</th>\n",
       "      <th>pH</th>\n",
       "      <th>Temp</th>\n",
       "      <th>DTime</th>\n",
       "    </tr>\n",
       "  </thead>\n",
       "  <tbody>\n",
       "    <tr>\n",
       "      <th>0</th>\n",
       "      <td>1</td>\n",
       "      <td>1</td>\n",
       "      <td>2021-09-06 09:01:18</td>\n",
       "      <td>1.02</td>\n",
       "      <td>47.18</td>\n",
       "      <td>2021-09-06</td>\n",
       "    </tr>\n",
       "    <tr>\n",
       "      <th>1</th>\n",
       "      <td>2</td>\n",
       "      <td>1</td>\n",
       "      <td>2021-09-06 09:01:23</td>\n",
       "      <td>1.05</td>\n",
       "      <td>47.34</td>\n",
       "      <td>2021-09-06</td>\n",
       "    </tr>\n",
       "    <tr>\n",
       "      <th>2</th>\n",
       "      <td>3</td>\n",
       "      <td>1</td>\n",
       "      <td>2021-09-06 09:01:28</td>\n",
       "      <td>1.09</td>\n",
       "      <td>48.45</td>\n",
       "      <td>2021-09-06</td>\n",
       "    </tr>\n",
       "    <tr>\n",
       "      <th>3</th>\n",
       "      <td>4</td>\n",
       "      <td>1</td>\n",
       "      <td>2021-09-06 09:01:33</td>\n",
       "      <td>1.12</td>\n",
       "      <td>48.46</td>\n",
       "      <td>2021-09-06</td>\n",
       "    </tr>\n",
       "    <tr>\n",
       "      <th>4</th>\n",
       "      <td>5</td>\n",
       "      <td>1</td>\n",
       "      <td>2021-09-06 09:01:38</td>\n",
       "      <td>1.15</td>\n",
       "      <td>48.47</td>\n",
       "      <td>2021-09-06</td>\n",
       "    </tr>\n",
       "    <tr>\n",
       "      <th>...</th>\n",
       "      <td>...</td>\n",
       "      <td>...</td>\n",
       "      <td>...</td>\n",
       "      <td>...</td>\n",
       "      <td>...</td>\n",
       "      <td>...</td>\n",
       "    </tr>\n",
       "    <tr>\n",
       "      <th>50089</th>\n",
       "      <td>1514</td>\n",
       "      <td>22</td>\n",
       "      <td>2021-10-27 11:14:41</td>\n",
       "      <td>2.79</td>\n",
       "      <td>51.83</td>\n",
       "      <td>2021-10-27</td>\n",
       "    </tr>\n",
       "    <tr>\n",
       "      <th>50090</th>\n",
       "      <td>1515</td>\n",
       "      <td>22</td>\n",
       "      <td>2021-10-27 11:14:46</td>\n",
       "      <td>3.62</td>\n",
       "      <td>42.20</td>\n",
       "      <td>2021-10-27</td>\n",
       "    </tr>\n",
       "    <tr>\n",
       "      <th>50091</th>\n",
       "      <td>1516</td>\n",
       "      <td>22</td>\n",
       "      <td>2021-10-27 11:14:51</td>\n",
       "      <td>3.40</td>\n",
       "      <td>41.88</td>\n",
       "      <td>2021-10-27</td>\n",
       "    </tr>\n",
       "    <tr>\n",
       "      <th>50092</th>\n",
       "      <td>1517</td>\n",
       "      <td>22</td>\n",
       "      <td>2021-10-27 11:14:56</td>\n",
       "      <td>3.59</td>\n",
       "      <td>40.62</td>\n",
       "      <td>2021-10-27</td>\n",
       "    </tr>\n",
       "    <tr>\n",
       "      <th>50093</th>\n",
       "      <td>1518</td>\n",
       "      <td>22</td>\n",
       "      <td>2021-10-27 11:15:01</td>\n",
       "      <td>3.82</td>\n",
       "      <td>42.08</td>\n",
       "      <td>2021-10-27</td>\n",
       "    </tr>\n",
       "  </tbody>\n",
       "</table>\n",
       "<p>50094 rows × 6 columns</p>\n",
       "</div>"
      ],
      "text/plain": [
       "       Index  LoT                Time    pH   Temp       DTime\n",
       "0          1    1 2021-09-06 09:01:18  1.02  47.18  2021-09-06\n",
       "1          2    1 2021-09-06 09:01:23  1.05  47.34  2021-09-06\n",
       "2          3    1 2021-09-06 09:01:28  1.09  48.45  2021-09-06\n",
       "3          4    1 2021-09-06 09:01:33  1.12  48.46  2021-09-06\n",
       "4          5    1 2021-09-06 09:01:38  1.15  48.47  2021-09-06\n",
       "...      ...  ...                 ...   ...    ...         ...\n",
       "50089   1514   22 2021-10-27 11:14:41  2.79  51.83  2021-10-27\n",
       "50090   1515   22 2021-10-27 11:14:46  3.62  42.20  2021-10-27\n",
       "50091   1516   22 2021-10-27 11:14:51  3.40  41.88  2021-10-27\n",
       "50092   1517   22 2021-10-27 11:14:56  3.59  40.62  2021-10-27\n",
       "50093   1518   22 2021-10-27 11:15:01  3.82  42.08  2021-10-27\n",
       "\n",
       "[50094 rows x 6 columns]"
      ]
     },
     "execution_count": 7,
     "metadata": {},
     "output_type": "execute_result"
    }
   ],
   "source": [
    "dd = csv_read_(root_dir, data_lists[0])\n",
    "for i in range(1, len(data_lists)):\n",
    "    dd = pd.merge(dd, csv_read_(root_dir, data_lists[i]), how='outer')\n",
    "dd"
   ]
  },
  {
   "cell_type": "code",
   "execution_count": 8,
   "metadata": {},
   "outputs": [
    {
     "data": {
      "text/html": [
       "<div>\n",
       "<style scoped>\n",
       "    .dataframe tbody tr th:only-of-type {\n",
       "        vertical-align: middle;\n",
       "    }\n",
       "\n",
       "    .dataframe tbody tr th {\n",
       "        vertical-align: top;\n",
       "    }\n",
       "\n",
       "    .dataframe thead th {\n",
       "        text-align: right;\n",
       "    }\n",
       "</style>\n",
       "<table border=\"1\" class=\"dataframe\">\n",
       "  <thead>\n",
       "    <tr style=\"text-align: right;\">\n",
       "      <th></th>\n",
       "      <th>Index</th>\n",
       "      <th>LoT</th>\n",
       "      <th>pH</th>\n",
       "      <th>Temp</th>\n",
       "    </tr>\n",
       "  </thead>\n",
       "  <tbody>\n",
       "    <tr>\n",
       "      <th>count</th>\n",
       "      <td>50094.000000</td>\n",
       "      <td>50094.000000</td>\n",
       "      <td>50094.000000</td>\n",
       "      <td>50094.000000</td>\n",
       "    </tr>\n",
       "    <tr>\n",
       "      <th>mean</th>\n",
       "      <td>759.500000</td>\n",
       "      <td>11.500000</td>\n",
       "      <td>2.006488</td>\n",
       "      <td>49.876127</td>\n",
       "    </tr>\n",
       "    <tr>\n",
       "      <th>std</th>\n",
       "      <td>438.213133</td>\n",
       "      <td>6.344352</td>\n",
       "      <td>0.551698</td>\n",
       "      <td>1.345322</td>\n",
       "    </tr>\n",
       "    <tr>\n",
       "      <th>min</th>\n",
       "      <td>1.000000</td>\n",
       "      <td>1.000000</td>\n",
       "      <td>1.010000</td>\n",
       "      <td>38.020000</td>\n",
       "    </tr>\n",
       "    <tr>\n",
       "      <th>25%</th>\n",
       "      <td>380.000000</td>\n",
       "      <td>6.000000</td>\n",
       "      <td>1.560000</td>\n",
       "      <td>49.280000</td>\n",
       "    </tr>\n",
       "    <tr>\n",
       "      <th>50%</th>\n",
       "      <td>759.500000</td>\n",
       "      <td>11.500000</td>\n",
       "      <td>2.000000</td>\n",
       "      <td>49.970000</td>\n",
       "    </tr>\n",
       "    <tr>\n",
       "      <th>75%</th>\n",
       "      <td>1139.000000</td>\n",
       "      <td>17.000000</td>\n",
       "      <td>2.440000</td>\n",
       "      <td>50.630000</td>\n",
       "    </tr>\n",
       "    <tr>\n",
       "      <th>max</th>\n",
       "      <td>1518.000000</td>\n",
       "      <td>22.000000</td>\n",
       "      <td>3.990000</td>\n",
       "      <td>54.190000</td>\n",
       "    </tr>\n",
       "  </tbody>\n",
       "</table>\n",
       "</div>"
      ],
      "text/plain": [
       "              Index           LoT            pH          Temp\n",
       "count  50094.000000  50094.000000  50094.000000  50094.000000\n",
       "mean     759.500000     11.500000      2.006488     49.876127\n",
       "std      438.213133      6.344352      0.551698      1.345322\n",
       "min        1.000000      1.000000      1.010000     38.020000\n",
       "25%      380.000000      6.000000      1.560000     49.280000\n",
       "50%      759.500000     11.500000      2.000000     49.970000\n",
       "75%     1139.000000     17.000000      2.440000     50.630000\n",
       "max     1518.000000     22.000000      3.990000     54.190000"
      ]
     },
     "execution_count": 8,
     "metadata": {},
     "output_type": "execute_result"
    }
   ],
   "source": [
    "dd.describe()"
   ]
  },
  {
   "cell_type": "markdown",
   "metadata": {},
   "source": [
    " - drop 함수로 사용하지 않는(데이터 수집 시 자동 생성 된) index 컬럼을 없앤다."
   ]
  },
  {
   "cell_type": "code",
   "execution_count": 9,
   "metadata": {},
   "outputs": [
    {
     "data": {
      "text/html": [
       "<div>\n",
       "<style scoped>\n",
       "    .dataframe tbody tr th:only-of-type {\n",
       "        vertical-align: middle;\n",
       "    }\n",
       "\n",
       "    .dataframe tbody tr th {\n",
       "        vertical-align: top;\n",
       "    }\n",
       "\n",
       "    .dataframe thead th {\n",
       "        text-align: right;\n",
       "    }\n",
       "</style>\n",
       "<table border=\"1\" class=\"dataframe\">\n",
       "  <thead>\n",
       "    <tr style=\"text-align: right;\">\n",
       "      <th></th>\n",
       "      <th>LoT</th>\n",
       "      <th>Time</th>\n",
       "      <th>pH</th>\n",
       "      <th>Temp</th>\n",
       "      <th>DTime</th>\n",
       "    </tr>\n",
       "  </thead>\n",
       "  <tbody>\n",
       "    <tr>\n",
       "      <th>0</th>\n",
       "      <td>1</td>\n",
       "      <td>2021-09-06 09:01:18</td>\n",
       "      <td>1.02</td>\n",
       "      <td>47.18</td>\n",
       "      <td>2021-09-06</td>\n",
       "    </tr>\n",
       "    <tr>\n",
       "      <th>1</th>\n",
       "      <td>1</td>\n",
       "      <td>2021-09-06 09:01:23</td>\n",
       "      <td>1.05</td>\n",
       "      <td>47.34</td>\n",
       "      <td>2021-09-06</td>\n",
       "    </tr>\n",
       "    <tr>\n",
       "      <th>2</th>\n",
       "      <td>1</td>\n",
       "      <td>2021-09-06 09:01:28</td>\n",
       "      <td>1.09</td>\n",
       "      <td>48.45</td>\n",
       "      <td>2021-09-06</td>\n",
       "    </tr>\n",
       "    <tr>\n",
       "      <th>3</th>\n",
       "      <td>1</td>\n",
       "      <td>2021-09-06 09:01:33</td>\n",
       "      <td>1.12</td>\n",
       "      <td>48.46</td>\n",
       "      <td>2021-09-06</td>\n",
       "    </tr>\n",
       "    <tr>\n",
       "      <th>4</th>\n",
       "      <td>1</td>\n",
       "      <td>2021-09-06 09:01:38</td>\n",
       "      <td>1.15</td>\n",
       "      <td>48.47</td>\n",
       "      <td>2021-09-06</td>\n",
       "    </tr>\n",
       "    <tr>\n",
       "      <th>...</th>\n",
       "      <td>...</td>\n",
       "      <td>...</td>\n",
       "      <td>...</td>\n",
       "      <td>...</td>\n",
       "      <td>...</td>\n",
       "    </tr>\n",
       "    <tr>\n",
       "      <th>50089</th>\n",
       "      <td>22</td>\n",
       "      <td>2021-10-27 11:14:41</td>\n",
       "      <td>2.79</td>\n",
       "      <td>51.83</td>\n",
       "      <td>2021-10-27</td>\n",
       "    </tr>\n",
       "    <tr>\n",
       "      <th>50090</th>\n",
       "      <td>22</td>\n",
       "      <td>2021-10-27 11:14:46</td>\n",
       "      <td>3.62</td>\n",
       "      <td>42.20</td>\n",
       "      <td>2021-10-27</td>\n",
       "    </tr>\n",
       "    <tr>\n",
       "      <th>50091</th>\n",
       "      <td>22</td>\n",
       "      <td>2021-10-27 11:14:51</td>\n",
       "      <td>3.40</td>\n",
       "      <td>41.88</td>\n",
       "      <td>2021-10-27</td>\n",
       "    </tr>\n",
       "    <tr>\n",
       "      <th>50092</th>\n",
       "      <td>22</td>\n",
       "      <td>2021-10-27 11:14:56</td>\n",
       "      <td>3.59</td>\n",
       "      <td>40.62</td>\n",
       "      <td>2021-10-27</td>\n",
       "    </tr>\n",
       "    <tr>\n",
       "      <th>50093</th>\n",
       "      <td>22</td>\n",
       "      <td>2021-10-27 11:15:01</td>\n",
       "      <td>3.82</td>\n",
       "      <td>42.08</td>\n",
       "      <td>2021-10-27</td>\n",
       "    </tr>\n",
       "  </tbody>\n",
       "</table>\n",
       "<p>50094 rows × 5 columns</p>\n",
       "</div>"
      ],
      "text/plain": [
       "       LoT                Time    pH   Temp       DTime\n",
       "0        1 2021-09-06 09:01:18  1.02  47.18  2021-09-06\n",
       "1        1 2021-09-06 09:01:23  1.05  47.34  2021-09-06\n",
       "2        1 2021-09-06 09:01:28  1.09  48.45  2021-09-06\n",
       "3        1 2021-09-06 09:01:33  1.12  48.46  2021-09-06\n",
       "4        1 2021-09-06 09:01:38  1.15  48.47  2021-09-06\n",
       "...    ...                 ...   ...    ...         ...\n",
       "50089   22 2021-10-27 11:14:41  2.79  51.83  2021-10-27\n",
       "50090   22 2021-10-27 11:14:46  3.62  42.20  2021-10-27\n",
       "50091   22 2021-10-27 11:14:51  3.40  41.88  2021-10-27\n",
       "50092   22 2021-10-27 11:14:56  3.59  40.62  2021-10-27\n",
       "50093   22 2021-10-27 11:15:01  3.82  42.08  2021-10-27\n",
       "\n",
       "[50094 rows x 5 columns]"
      ]
     },
     "execution_count": 9,
     "metadata": {},
     "output_type": "execute_result"
    }
   ],
   "source": [
    "dd = dd.drop('Index', axis=1)\n",
    "dd"
   ]
  },
  {
   "cell_type": "markdown",
   "metadata": {},
   "source": [
    "- set_index 함수를 통해 Time 컬럼을 인덱스로 설정한다."
   ]
  },
  {
   "cell_type": "code",
   "execution_count": 10,
   "metadata": {
    "scrolled": true
   },
   "outputs": [
    {
     "data": {
      "text/html": [
       "<div>\n",
       "<style scoped>\n",
       "    .dataframe tbody tr th:only-of-type {\n",
       "        vertical-align: middle;\n",
       "    }\n",
       "\n",
       "    .dataframe tbody tr th {\n",
       "        vertical-align: top;\n",
       "    }\n",
       "\n",
       "    .dataframe thead th {\n",
       "        text-align: right;\n",
       "    }\n",
       "</style>\n",
       "<table border=\"1\" class=\"dataframe\">\n",
       "  <thead>\n",
       "    <tr style=\"text-align: right;\">\n",
       "      <th></th>\n",
       "      <th>LoT</th>\n",
       "      <th>pH</th>\n",
       "      <th>Temp</th>\n",
       "      <th>DTime</th>\n",
       "    </tr>\n",
       "    <tr>\n",
       "      <th>Time</th>\n",
       "      <th></th>\n",
       "      <th></th>\n",
       "      <th></th>\n",
       "      <th></th>\n",
       "    </tr>\n",
       "  </thead>\n",
       "  <tbody>\n",
       "    <tr>\n",
       "      <th>2021-09-06 09:01:18</th>\n",
       "      <td>1</td>\n",
       "      <td>1.02</td>\n",
       "      <td>47.18</td>\n",
       "      <td>2021-09-06</td>\n",
       "    </tr>\n",
       "    <tr>\n",
       "      <th>2021-09-06 09:01:23</th>\n",
       "      <td>1</td>\n",
       "      <td>1.05</td>\n",
       "      <td>47.34</td>\n",
       "      <td>2021-09-06</td>\n",
       "    </tr>\n",
       "    <tr>\n",
       "      <th>2021-09-06 09:01:28</th>\n",
       "      <td>1</td>\n",
       "      <td>1.09</td>\n",
       "      <td>48.45</td>\n",
       "      <td>2021-09-06</td>\n",
       "    </tr>\n",
       "    <tr>\n",
       "      <th>2021-09-06 09:01:33</th>\n",
       "      <td>1</td>\n",
       "      <td>1.12</td>\n",
       "      <td>48.46</td>\n",
       "      <td>2021-09-06</td>\n",
       "    </tr>\n",
       "    <tr>\n",
       "      <th>2021-09-06 09:01:38</th>\n",
       "      <td>1</td>\n",
       "      <td>1.15</td>\n",
       "      <td>48.47</td>\n",
       "      <td>2021-09-06</td>\n",
       "    </tr>\n",
       "    <tr>\n",
       "      <th>...</th>\n",
       "      <td>...</td>\n",
       "      <td>...</td>\n",
       "      <td>...</td>\n",
       "      <td>...</td>\n",
       "    </tr>\n",
       "    <tr>\n",
       "      <th>2021-10-27 11:14:41</th>\n",
       "      <td>22</td>\n",
       "      <td>2.79</td>\n",
       "      <td>51.83</td>\n",
       "      <td>2021-10-27</td>\n",
       "    </tr>\n",
       "    <tr>\n",
       "      <th>2021-10-27 11:14:46</th>\n",
       "      <td>22</td>\n",
       "      <td>3.62</td>\n",
       "      <td>42.20</td>\n",
       "      <td>2021-10-27</td>\n",
       "    </tr>\n",
       "    <tr>\n",
       "      <th>2021-10-27 11:14:51</th>\n",
       "      <td>22</td>\n",
       "      <td>3.40</td>\n",
       "      <td>41.88</td>\n",
       "      <td>2021-10-27</td>\n",
       "    </tr>\n",
       "    <tr>\n",
       "      <th>2021-10-27 11:14:56</th>\n",
       "      <td>22</td>\n",
       "      <td>3.59</td>\n",
       "      <td>40.62</td>\n",
       "      <td>2021-10-27</td>\n",
       "    </tr>\n",
       "    <tr>\n",
       "      <th>2021-10-27 11:15:01</th>\n",
       "      <td>22</td>\n",
       "      <td>3.82</td>\n",
       "      <td>42.08</td>\n",
       "      <td>2021-10-27</td>\n",
       "    </tr>\n",
       "  </tbody>\n",
       "</table>\n",
       "<p>50094 rows × 4 columns</p>\n",
       "</div>"
      ],
      "text/plain": [
       "                     LoT    pH   Temp       DTime\n",
       "Time                                             \n",
       "2021-09-06 09:01:18    1  1.02  47.18  2021-09-06\n",
       "2021-09-06 09:01:23    1  1.05  47.34  2021-09-06\n",
       "2021-09-06 09:01:28    1  1.09  48.45  2021-09-06\n",
       "2021-09-06 09:01:33    1  1.12  48.46  2021-09-06\n",
       "2021-09-06 09:01:38    1  1.15  48.47  2021-09-06\n",
       "...                  ...   ...    ...         ...\n",
       "2021-10-27 11:14:41   22  2.79  51.83  2021-10-27\n",
       "2021-10-27 11:14:46   22  3.62  42.20  2021-10-27\n",
       "2021-10-27 11:14:51   22  3.40  41.88  2021-10-27\n",
       "2021-10-27 11:14:56   22  3.59  40.62  2021-10-27\n",
       "2021-10-27 11:15:01   22  3.82  42.08  2021-10-27\n",
       "\n",
       "[50094 rows x 4 columns]"
      ]
     },
     "execution_count": 10,
     "metadata": {},
     "output_type": "execute_result"
    }
   ],
   "source": [
    "dd = dd.set_index('Time')\n",
    "dd"
   ]
  },
  {
   "cell_type": "markdown",
   "metadata": {},
   "source": [
    "### [단계 ②] 데이터 탐색\n",
    "#### ②-1. 데이터 사본 생성"
   ]
  },
  {
   "cell_type": "markdown",
   "metadata": {},
   "source": [
    "- copy() 함수를 통해 데이터 사본을 생성한다."
   ]
  },
  {
   "cell_type": "code",
   "execution_count": 11,
   "metadata": {},
   "outputs": [
    {
     "data": {
      "text/html": [
       "<div>\n",
       "<style scoped>\n",
       "    .dataframe tbody tr th:only-of-type {\n",
       "        vertical-align: middle;\n",
       "    }\n",
       "\n",
       "    .dataframe tbody tr th {\n",
       "        vertical-align: top;\n",
       "    }\n",
       "\n",
       "    .dataframe thead th {\n",
       "        text-align: right;\n",
       "    }\n",
       "</style>\n",
       "<table border=\"1\" class=\"dataframe\">\n",
       "  <thead>\n",
       "    <tr style=\"text-align: right;\">\n",
       "      <th></th>\n",
       "      <th>LoT</th>\n",
       "      <th>pH</th>\n",
       "      <th>Temp</th>\n",
       "      <th>DTime</th>\n",
       "    </tr>\n",
       "    <tr>\n",
       "      <th>Time</th>\n",
       "      <th></th>\n",
       "      <th></th>\n",
       "      <th></th>\n",
       "      <th></th>\n",
       "    </tr>\n",
       "  </thead>\n",
       "  <tbody>\n",
       "    <tr>\n",
       "      <th>2021-09-06 09:01:18</th>\n",
       "      <td>1</td>\n",
       "      <td>1.02</td>\n",
       "      <td>47.18</td>\n",
       "      <td>2021-09-06</td>\n",
       "    </tr>\n",
       "    <tr>\n",
       "      <th>2021-09-06 09:01:23</th>\n",
       "      <td>1</td>\n",
       "      <td>1.05</td>\n",
       "      <td>47.34</td>\n",
       "      <td>2021-09-06</td>\n",
       "    </tr>\n",
       "    <tr>\n",
       "      <th>2021-09-06 09:01:28</th>\n",
       "      <td>1</td>\n",
       "      <td>1.09</td>\n",
       "      <td>48.45</td>\n",
       "      <td>2021-09-06</td>\n",
       "    </tr>\n",
       "    <tr>\n",
       "      <th>2021-09-06 09:01:33</th>\n",
       "      <td>1</td>\n",
       "      <td>1.12</td>\n",
       "      <td>48.46</td>\n",
       "      <td>2021-09-06</td>\n",
       "    </tr>\n",
       "    <tr>\n",
       "      <th>2021-09-06 09:01:38</th>\n",
       "      <td>1</td>\n",
       "      <td>1.15</td>\n",
       "      <td>48.47</td>\n",
       "      <td>2021-09-06</td>\n",
       "    </tr>\n",
       "    <tr>\n",
       "      <th>...</th>\n",
       "      <td>...</td>\n",
       "      <td>...</td>\n",
       "      <td>...</td>\n",
       "      <td>...</td>\n",
       "    </tr>\n",
       "    <tr>\n",
       "      <th>2021-10-27 11:14:41</th>\n",
       "      <td>22</td>\n",
       "      <td>2.79</td>\n",
       "      <td>51.83</td>\n",
       "      <td>2021-10-27</td>\n",
       "    </tr>\n",
       "    <tr>\n",
       "      <th>2021-10-27 11:14:46</th>\n",
       "      <td>22</td>\n",
       "      <td>3.62</td>\n",
       "      <td>42.20</td>\n",
       "      <td>2021-10-27</td>\n",
       "    </tr>\n",
       "    <tr>\n",
       "      <th>2021-10-27 11:14:51</th>\n",
       "      <td>22</td>\n",
       "      <td>3.40</td>\n",
       "      <td>41.88</td>\n",
       "      <td>2021-10-27</td>\n",
       "    </tr>\n",
       "    <tr>\n",
       "      <th>2021-10-27 11:14:56</th>\n",
       "      <td>22</td>\n",
       "      <td>3.59</td>\n",
       "      <td>40.62</td>\n",
       "      <td>2021-10-27</td>\n",
       "    </tr>\n",
       "    <tr>\n",
       "      <th>2021-10-27 11:15:01</th>\n",
       "      <td>22</td>\n",
       "      <td>3.82</td>\n",
       "      <td>42.08</td>\n",
       "      <td>2021-10-27</td>\n",
       "    </tr>\n",
       "  </tbody>\n",
       "</table>\n",
       "<p>50094 rows × 4 columns</p>\n",
       "</div>"
      ],
      "text/plain": [
       "                     LoT    pH   Temp       DTime\n",
       "Time                                             \n",
       "2021-09-06 09:01:18    1  1.02  47.18  2021-09-06\n",
       "2021-09-06 09:01:23    1  1.05  47.34  2021-09-06\n",
       "2021-09-06 09:01:28    1  1.09  48.45  2021-09-06\n",
       "2021-09-06 09:01:33    1  1.12  48.46  2021-09-06\n",
       "2021-09-06 09:01:38    1  1.15  48.47  2021-09-06\n",
       "...                  ...   ...    ...         ...\n",
       "2021-10-27 11:14:41   22  2.79  51.83  2021-10-27\n",
       "2021-10-27 11:14:46   22  3.62  42.20  2021-10-27\n",
       "2021-10-27 11:14:51   22  3.40  41.88  2021-10-27\n",
       "2021-10-27 11:14:56   22  3.59  40.62  2021-10-27\n",
       "2021-10-27 11:15:01   22  3.82  42.08  2021-10-27\n",
       "\n",
       "[50094 rows x 4 columns]"
      ]
     },
     "execution_count": 11,
     "metadata": {},
     "output_type": "execute_result"
    }
   ],
   "source": [
    "dedicated_data = dd.copy()\n",
    "dedicated_data"
   ]
  },
  {
   "cell_type": "markdown",
   "metadata": {},
   "source": [
    "#### ②-2. 데이터 컬럼 확인\n",
    "- columns를 통해 해당 DataFrame의 컬럼을 확인할 수 있다."
   ]
  },
  {
   "cell_type": "code",
   "execution_count": 12,
   "metadata": {},
   "outputs": [
    {
     "data": {
      "text/plain": [
       "Index(['LoT', 'pH', 'Temp', 'DTime'], dtype='object')"
      ]
     },
     "execution_count": 12,
     "metadata": {},
     "output_type": "execute_result"
    }
   ],
   "source": [
    "dedicated_data.columns"
   ]
  },
  {
   "cell_type": "markdown",
   "metadata": {},
   "source": [
    "#### ②-3. 데이터 프레임 요약\n",
    "- describe()를 통해 해당 DataFrame의 내용을 요약하여 확인할 수 있다."
   ]
  },
  {
   "cell_type": "code",
   "execution_count": 13,
   "metadata": {},
   "outputs": [
    {
     "data": {
      "text/html": [
       "<div>\n",
       "<style scoped>\n",
       "    .dataframe tbody tr th:only-of-type {\n",
       "        vertical-align: middle;\n",
       "    }\n",
       "\n",
       "    .dataframe tbody tr th {\n",
       "        vertical-align: top;\n",
       "    }\n",
       "\n",
       "    .dataframe thead th {\n",
       "        text-align: right;\n",
       "    }\n",
       "</style>\n",
       "<table border=\"1\" class=\"dataframe\">\n",
       "  <thead>\n",
       "    <tr style=\"text-align: right;\">\n",
       "      <th></th>\n",
       "      <th>LoT</th>\n",
       "      <th>pH</th>\n",
       "      <th>Temp</th>\n",
       "    </tr>\n",
       "  </thead>\n",
       "  <tbody>\n",
       "    <tr>\n",
       "      <th>count</th>\n",
       "      <td>50094.000000</td>\n",
       "      <td>50094.000000</td>\n",
       "      <td>50094.000000</td>\n",
       "    </tr>\n",
       "    <tr>\n",
       "      <th>mean</th>\n",
       "      <td>11.500000</td>\n",
       "      <td>2.006488</td>\n",
       "      <td>49.876127</td>\n",
       "    </tr>\n",
       "    <tr>\n",
       "      <th>std</th>\n",
       "      <td>6.344352</td>\n",
       "      <td>0.551698</td>\n",
       "      <td>1.345322</td>\n",
       "    </tr>\n",
       "    <tr>\n",
       "      <th>min</th>\n",
       "      <td>1.000000</td>\n",
       "      <td>1.010000</td>\n",
       "      <td>38.020000</td>\n",
       "    </tr>\n",
       "    <tr>\n",
       "      <th>25%</th>\n",
       "      <td>6.000000</td>\n",
       "      <td>1.560000</td>\n",
       "      <td>49.280000</td>\n",
       "    </tr>\n",
       "    <tr>\n",
       "      <th>50%</th>\n",
       "      <td>11.500000</td>\n",
       "      <td>2.000000</td>\n",
       "      <td>49.970000</td>\n",
       "    </tr>\n",
       "    <tr>\n",
       "      <th>75%</th>\n",
       "      <td>17.000000</td>\n",
       "      <td>2.440000</td>\n",
       "      <td>50.630000</td>\n",
       "    </tr>\n",
       "    <tr>\n",
       "      <th>max</th>\n",
       "      <td>22.000000</td>\n",
       "      <td>3.990000</td>\n",
       "      <td>54.190000</td>\n",
       "    </tr>\n",
       "  </tbody>\n",
       "</table>\n",
       "</div>"
      ],
      "text/plain": [
       "                LoT            pH          Temp\n",
       "count  50094.000000  50094.000000  50094.000000\n",
       "mean      11.500000      2.006488     49.876127\n",
       "std        6.344352      0.551698      1.345322\n",
       "min        1.000000      1.010000     38.020000\n",
       "25%        6.000000      1.560000     49.280000\n",
       "50%       11.500000      2.000000     49.970000\n",
       "75%       17.000000      2.440000     50.630000\n",
       "max       22.000000      3.990000     54.190000"
      ]
     },
     "execution_count": 13,
     "metadata": {},
     "output_type": "execute_result"
    }
   ],
   "source": [
    "dedicated_data.describe()"
   ]
  },
  {
   "cell_type": "markdown",
   "metadata": {},
   "source": [
    "#### ②-4. 데이터프레임 정보 확인\n",
    "- info()를 통해 해당 DataFrame의 정보를 확인할 수 있다."
   ]
  },
  {
   "cell_type": "code",
   "execution_count": 14,
   "metadata": {},
   "outputs": [
    {
     "name": "stdout",
     "output_type": "stream",
     "text": [
      "<class 'pandas.core.frame.DataFrame'>\n",
      "DatetimeIndex: 50094 entries, 2021-09-06 09:01:18 to 2021-10-27 11:15:01\n",
      "Data columns (total 4 columns):\n",
      " #   Column  Non-Null Count  Dtype  \n",
      "---  ------  --------------  -----  \n",
      " 0   LoT     50094 non-null  int64  \n",
      " 1   pH      50094 non-null  float64\n",
      " 2   Temp    50094 non-null  float64\n",
      " 3   DTime   50094 non-null  object \n",
      "dtypes: float64(2), int64(1), object(1)\n",
      "memory usage: 1.9+ MB\n"
     ]
    }
   ],
   "source": [
    "dedicated_data.info()"
   ]
  },
  {
   "cell_type": "markdown",
   "metadata": {},
   "source": [
    "#### ②-5. 데이터프레임 크기 확인\n",
    "- shape를 통해 해당 DataFrame의 크기를 확인 할 수 있다."
   ]
  },
  {
   "cell_type": "code",
   "execution_count": 15,
   "metadata": {},
   "outputs": [
    {
     "data": {
      "text/plain": [
       "(50094, 4)"
      ]
     },
     "execution_count": 15,
     "metadata": {},
     "output_type": "execute_result"
    }
   ],
   "source": [
    "dedicated_data.shape"
   ]
  },
  {
   "cell_type": "markdown",
   "metadata": {},
   "source": [
    "#### ②-6. 데이터프레임 null(결측치) 값 개수 카운트\n",
    "- isna() 함수와 sum() 함수를 함께 사용하여 null 개수를 카운트하여 각 컬럼마다 보여준다.\n",
    "- isna() 함수의 경우 Index마다 null 값이 있으면 True를 반환해주며, sum() 함수의 경우 True의 개수를 합하여 반환해준다."
   ]
  },
  {
   "cell_type": "code",
   "execution_count": 16,
   "metadata": {},
   "outputs": [
    {
     "data": {
      "text/plain": [
       "LoT      0\n",
       "pH       0\n",
       "Temp     0\n",
       "DTime    0\n",
       "dtype: int64"
      ]
     },
     "execution_count": 16,
     "metadata": {},
     "output_type": "execute_result"
    }
   ],
   "source": [
    "dedicated_data.isna().sum()"
   ]
  },
  {
   "cell_type": "markdown",
   "metadata": {},
   "source": [
    "#### ②-7. 데이터 시각화를 통한 histogram 확\n",
    "- hist() 함수를 통해 DataFrame의 Column 별 histogram을 시각화하여 위와 같이 출력되는 것이 확인 가능하다.\n",
    "- 히스토그램으로 데이터 분포를 확인할 수 있다.\n",
    "- pH의 경우 2.0을 기준으로 데이터가 분포한 것을 확인할 수 있으며, Temp의 경우 50.0을 기준으로 데이터가 분포한 것을 확인할 수 있다."
   ]
  },
  {
   "cell_type": "code",
   "execution_count": 17,
   "metadata": {},
   "outputs": [
    {
     "data": {
      "text/plain": [
       "array([[<matplotlib.axes._subplots.AxesSubplot object at 0x000002175098B8B0>,\n",
       "        <matplotlib.axes._subplots.AxesSubplot object at 0x0000021750A44FD0>],\n",
       "       [<matplotlib.axes._subplots.AxesSubplot object at 0x0000021750A6C460>,\n",
       "        <matplotlib.axes._subplots.AxesSubplot object at 0x0000021750A878E0>]],\n",
       "      dtype=object)"
      ]
     },
     "execution_count": 17,
     "metadata": {},
     "output_type": "execute_result"
    },
    {
     "data": {
      "image/png": "[encoded data removed]",
      "text/plain": [
       "<Figure size 720x720 with 4 Axes>"
      ]
     },
     "metadata": {
      "needs_background": "light"
     },
     "output_type": "display_data"
    }
   ],
   "source": [
    "dedicated_data.hist(figsize=(10,10))"
   ]
  },
  {
   "cell_type": "markdown",
   "metadata": {},
   "source": [
    "#### ②-8. 데이터 상관관계 분석"
   ]
  },
  {
   "cell_type": "code",
   "execution_count": 18,
   "metadata": {},
   "outputs": [
    {
     "data": {
      "text/html": [
       "<div>\n",
       "<style scoped>\n",
       "    .dataframe tbody tr th:only-of-type {\n",
       "        vertical-align: middle;\n",
       "    }\n",
       "\n",
       "    .dataframe tbody tr th {\n",
       "        vertical-align: top;\n",
       "    }\n",
       "\n",
       "    .dataframe thead th {\n",
       "        text-align: right;\n",
       "    }\n",
       "</style>\n",
       "<table border=\"1\" class=\"dataframe\">\n",
       "  <thead>\n",
       "    <tr style=\"text-align: right;\">\n",
       "      <th></th>\n",
       "      <th>LoT</th>\n",
       "      <th>pH</th>\n",
       "      <th>Temp</th>\n",
       "    </tr>\n",
       "  </thead>\n",
       "  <tbody>\n",
       "    <tr>\n",
       "      <th>LoT</th>\n",
       "      <td>1.000000</td>\n",
       "      <td>-0.001943</td>\n",
       "      <td>0.011561</td>\n",
       "    </tr>\n",
       "    <tr>\n",
       "      <th>pH</th>\n",
       "      <td>-0.001943</td>\n",
       "      <td>1.000000</td>\n",
       "      <td>0.474920</td>\n",
       "    </tr>\n",
       "    <tr>\n",
       "      <th>Temp</th>\n",
       "      <td>0.011561</td>\n",
       "      <td>0.474920</td>\n",
       "      <td>1.000000</td>\n",
       "    </tr>\n",
       "  </tbody>\n",
       "</table>\n",
       "</div>"
      ],
      "text/plain": [
       "           LoT        pH      Temp\n",
       "LoT   1.000000 -0.001943  0.011561\n",
       "pH   -0.001943  1.000000  0.474920\n",
       "Temp  0.011561  0.474920  1.000000"
      ]
     },
     "execution_count": 18,
     "metadata": {},
     "output_type": "execute_result"
    }
   ],
   "source": [
    "correlation = dedicated_data.corr()\n",
    "correlation"
   ]
  },
  {
   "cell_type": "markdown",
   "metadata": {},
   "source": [
    "- 상관관계 분석을 통해 두 변수 간의 선형적인 관계 존재 여부를 확인할 수 있다. 분석에 사용된 상관 계수는 보편적으로 사용되는 피어슨 상관 계수로서 -1과 1 사이의 값을 가진다. 상관 계수의 절대값이 1에 가까울수록 변수 간의 선형관계가 강하다고 볼 수 있으며, 값이 양수일 때는 양의 선형관계, 값이 음수일 때는 음의 선형관계를 가진다. 상관관계 분석은 비선형적인 관계를 확인하기 어렵지만, 변수 간의 선형관계를 정량적으로 확인할 수 있다는 장점이 있다."
   ]
  },
  {
   "cell_type": "markdown",
   "metadata": {},
   "source": [
    "#### ②-9. 데이터 상관관계 시각화"
   ]
  },
  {
   "cell_type": "markdown",
   "metadata": {},
   "source": [
    "- seaborn 패키지 내 heatmap() 함수를 통해 상관관계 결과를 시각화하여 볼 수 있다.\n",
    "- 상관관계의 경우 값이 클수록 상관관계가 있다고 판단할 수 있는 척도가 되며, 결과를 통해서 알 수 있는 것은 pH와 Temp의 상관관계는 <b>0.47</b>로 낮은 상관관계를 보이는 것을 알 수 있다."
   ]
  },
  {
   "cell_type": "code",
   "execution_count": 19,
   "metadata": {},
   "outputs": [
    {
     "data": {
      "text/plain": [
       "<matplotlib.axes._subplots.AxesSubplot at 0x21750b010d0>"
      ]
     },
     "execution_count": 19,
     "metadata": {},
     "output_type": "execute_result"
    },
    {
     "data": {
      "image/png": "[encoded data removed]",
      "text/plain": [
       "<Figure size 432x288 with 2 Axes>"
      ]
     },
     "metadata": {
      "needs_background": "light"
     },
     "output_type": "display_data"
    }
   ],
   "source": [
    "sns.heatmap(correlation, annot=True, fmt='.2f')"
   ]
  },
  {
   "cell_type": "markdown",
   "metadata": {},
   "source": [
    "### [단계 ③] 데이터 정제(전처리)\n",
    "#### ③-1. null 값 제거(결측치 제거)\n",
    " - 사실 결측치를 핸들링하는 다양한 방법이 존재한다.\n",
    " - 이 데이터의 경우의는 결측치가 거의 없지만 많은 경우에는 다른 방법을 적용해야한다.(결측치가 없는 것으로 나타났는데 왜 있는지 모르겠다. 가이드 문서라 다른 데이터에 활용할때 사용하는 설명 목적인듯 하다.)"
   ]
  },
  {
   "cell_type": "code",
   "execution_count": 20,
   "metadata": {
    "scrolled": true
   },
   "outputs": [
    {
     "data": {
      "text/html": [
       "<div>\n",
       "<style scoped>\n",
       "    .dataframe tbody tr th:only-of-type {\n",
       "        vertical-align: middle;\n",
       "    }\n",
       "\n",
       "    .dataframe tbody tr th {\n",
       "        vertical-align: top;\n",
       "    }\n",
       "\n",
       "    .dataframe thead th {\n",
       "        text-align: right;\n",
       "    }\n",
       "</style>\n",
       "<table border=\"1\" class=\"dataframe\">\n",
       "  <thead>\n",
       "    <tr style=\"text-align: right;\">\n",
       "      <th></th>\n",
       "      <th>LoT</th>\n",
       "      <th>pH</th>\n",
       "      <th>Temp</th>\n",
       "      <th>DTime</th>\n",
       "    </tr>\n",
       "    <tr>\n",
       "      <th>Time</th>\n",
       "      <th></th>\n",
       "      <th></th>\n",
       "      <th></th>\n",
       "      <th></th>\n",
       "    </tr>\n",
       "  </thead>\n",
       "  <tbody>\n",
       "    <tr>\n",
       "      <th>2021-09-06 09:01:18</th>\n",
       "      <td>1</td>\n",
       "      <td>1.02</td>\n",
       "      <td>47.18</td>\n",
       "      <td>2021-09-06</td>\n",
       "    </tr>\n",
       "    <tr>\n",
       "      <th>2021-09-06 09:01:23</th>\n",
       "      <td>1</td>\n",
       "      <td>1.05</td>\n",
       "      <td>47.34</td>\n",
       "      <td>2021-09-06</td>\n",
       "    </tr>\n",
       "    <tr>\n",
       "      <th>2021-09-06 09:01:28</th>\n",
       "      <td>1</td>\n",
       "      <td>1.09</td>\n",
       "      <td>48.45</td>\n",
       "      <td>2021-09-06</td>\n",
       "    </tr>\n",
       "    <tr>\n",
       "      <th>2021-09-06 09:01:33</th>\n",
       "      <td>1</td>\n",
       "      <td>1.12</td>\n",
       "      <td>48.46</td>\n",
       "      <td>2021-09-06</td>\n",
       "    </tr>\n",
       "    <tr>\n",
       "      <th>2021-09-06 09:01:38</th>\n",
       "      <td>1</td>\n",
       "      <td>1.15</td>\n",
       "      <td>48.47</td>\n",
       "      <td>2021-09-06</td>\n",
       "    </tr>\n",
       "    <tr>\n",
       "      <th>...</th>\n",
       "      <td>...</td>\n",
       "      <td>...</td>\n",
       "      <td>...</td>\n",
       "      <td>...</td>\n",
       "    </tr>\n",
       "    <tr>\n",
       "      <th>2021-10-27 11:14:41</th>\n",
       "      <td>22</td>\n",
       "      <td>2.79</td>\n",
       "      <td>51.83</td>\n",
       "      <td>2021-10-27</td>\n",
       "    </tr>\n",
       "    <tr>\n",
       "      <th>2021-10-27 11:14:46</th>\n",
       "      <td>22</td>\n",
       "      <td>3.62</td>\n",
       "      <td>42.20</td>\n",
       "      <td>2021-10-27</td>\n",
       "    </tr>\n",
       "    <tr>\n",
       "      <th>2021-10-27 11:14:51</th>\n",
       "      <td>22</td>\n",
       "      <td>3.40</td>\n",
       "      <td>41.88</td>\n",
       "      <td>2021-10-27</td>\n",
       "    </tr>\n",
       "    <tr>\n",
       "      <th>2021-10-27 11:14:56</th>\n",
       "      <td>22</td>\n",
       "      <td>3.59</td>\n",
       "      <td>40.62</td>\n",
       "      <td>2021-10-27</td>\n",
       "    </tr>\n",
       "    <tr>\n",
       "      <th>2021-10-27 11:15:01</th>\n",
       "      <td>22</td>\n",
       "      <td>3.82</td>\n",
       "      <td>42.08</td>\n",
       "      <td>2021-10-27</td>\n",
       "    </tr>\n",
       "  </tbody>\n",
       "</table>\n",
       "<p>50094 rows × 4 columns</p>\n",
       "</div>"
      ],
      "text/plain": [
       "                     LoT    pH   Temp       DTime\n",
       "Time                                             \n",
       "2021-09-06 09:01:18    1  1.02  47.18  2021-09-06\n",
       "2021-09-06 09:01:23    1  1.05  47.34  2021-09-06\n",
       "2021-09-06 09:01:28    1  1.09  48.45  2021-09-06\n",
       "2021-09-06 09:01:33    1  1.12  48.46  2021-09-06\n",
       "2021-09-06 09:01:38    1  1.15  48.47  2021-09-06\n",
       "...                  ...   ...    ...         ...\n",
       "2021-10-27 11:14:41   22  2.79  51.83  2021-10-27\n",
       "2021-10-27 11:14:46   22  3.62  42.20  2021-10-27\n",
       "2021-10-27 11:14:51   22  3.40  41.88  2021-10-27\n",
       "2021-10-27 11:14:56   22  3.59  40.62  2021-10-27\n",
       "2021-10-27 11:15:01   22  3.82  42.08  2021-10-27\n",
       "\n",
       "[50094 rows x 4 columns]"
      ]
     },
     "execution_count": 20,
     "metadata": {},
     "output_type": "execute_result"
    }
   ],
   "source": [
    "dedicated_data = dedicated_data.dropna()\n",
    "dedicated_data"
   ]
  },
  {
   "cell_type": "markdown",
   "metadata": {},
   "source": [
    "### [단계 ④] 알고리즘 선택\n",
    "#### ④-1. sklearn 내 Decision Tree 머신러닝 모델\n",
    "- Decision Tree의 경우 머신러닝 모델로 가지치기 방식을 통해 현재 값을 통해 미래값을 예측할 때도 사용 가능한 모델이다. Decision Tree에 대한 자세한 내용은 가이드 문서 또는 구글링 활용한다.\n",
    "- SVM을 적용을 이어서 한다."
   ]
  },
  {
   "cell_type": "markdown",
   "metadata": {},
   "source": [
    "### [단계 ⑤] 학습, 평가 데이터 준비\n",
    "#### ⑤-1. Lot List 추출"
   ]
  },
  {
   "cell_type": "markdown",
   "metadata": {},
   "source": [
    "- DataFrame의 컬럼 명과 unique() 함수를 이용하면 해당 컬럼에 있는 값의 유일 값들을 뽑을 수 있다.\n",
    "- unique 값을 통해 list를 만들어 저장하였을 때, 해당 값을 print() 함수를 통해 출력시키고, list의 길이를 print(len(list)) 함수를 통해 출력시킨다."
   ]
  },
  {
   "cell_type": "code",
   "execution_count": 21,
   "metadata": {
    "scrolled": true
   },
   "outputs": [
    {
     "name": "stdout",
     "output_type": "stream",
     "text": [
      "[ 1  2  3  4  5  6  7  8  9 10 11 12 13 14 15 16 17 18 19 20 21 22]\n",
      "22\n"
     ]
    }
   ],
   "source": [
    "lot_lists = dedicated_data['LoT'].unique()\n",
    "print(lot_lists)\n",
    "print(len(lot_lists))"
   ]
  },
  {
   "cell_type": "markdown",
   "metadata": {},
   "source": [
    "#### ⑤-2. Date List 추출\n",
    "- DataFrame의 컬럼 명과 unique() 함수를 이용하면 해당 컬럼에 있는 값의 유일 값들을 뽑을 수 있다."
   ]
  },
  {
   "cell_type": "code",
   "execution_count": 22,
   "metadata": {
    "scrolled": true
   },
   "outputs": [
    {
     "name": "stdout",
     "output_type": "stream",
     "text": [
      "['2021-09-06' '2021-09-07' '2021-09-08' '2021-09-09' '2021-09-10'\n",
      " '2021-09-13' '2021-09-14' '2021-09-15' '2021-09-16' '2021-09-17'\n",
      " '2021-09-23' '2021-09-24' '2021-09-27' '2021-09-28' '2021-09-29'\n",
      " '2021-09-30' '2021-10-01' '2021-10-05' '2021-10-06' '2021-10-07'\n",
      " '2021-10-08' '2021-10-12' '2021-10-13' '2021-10-14' '2021-10-15'\n",
      " '2021-10-18' '2021-10-19' '2021-10-20' '2021-10-21' '2021-10-22'\n",
      " '2021-10-25' '2021-10-26' '2021-10-27']\n",
      "33\n"
     ]
    }
   ],
   "source": [
    "d_lists = dedicated_data['DTime'].unique()\n",
    "print(d_lists)\n",
    "print(len(d_lists))"
   ]
  },
  {
   "cell_type": "markdown",
   "metadata": {},
   "source": [
    "#### ⑤-3. Process Data Read\n",
    "- target(종속변수)로 사용될 Process Rate를 가져오기 위해 csv 파일로부터 데이터를읽는다."
   ]
  },
  {
   "cell_type": "code",
   "execution_count": 23,
   "metadata": {
    "scrolled": true
   },
   "outputs": [
    {
     "data": {
      "text/html": [
       "<div>\n",
       "<style scoped>\n",
       "    .dataframe tbody tr th:only-of-type {\n",
       "        vertical-align: middle;\n",
       "    }\n",
       "\n",
       "    .dataframe tbody tr th {\n",
       "        vertical-align: top;\n",
       "    }\n",
       "\n",
       "    .dataframe thead th {\n",
       "        text-align: right;\n",
       "    }\n",
       "</style>\n",
       "<table border=\"1\" class=\"dataframe\">\n",
       "  <thead>\n",
       "    <tr style=\"text-align: right;\">\n",
       "      <th></th>\n",
       "      <th>Date</th>\n",
       "      <th>LoT</th>\n",
       "      <th>Process Rate</th>\n",
       "    </tr>\n",
       "  </thead>\n",
       "  <tbody>\n",
       "    <tr>\n",
       "      <th>0</th>\n",
       "      <td>2021-09-06</td>\n",
       "      <td>1</td>\n",
       "      <td>96.38</td>\n",
       "    </tr>\n",
       "    <tr>\n",
       "      <th>1</th>\n",
       "      <td>2021-09-06</td>\n",
       "      <td>2</td>\n",
       "      <td>97.40</td>\n",
       "    </tr>\n",
       "    <tr>\n",
       "      <th>2</th>\n",
       "      <td>2021-09-06</td>\n",
       "      <td>3</td>\n",
       "      <td>95.40</td>\n",
       "    </tr>\n",
       "    <tr>\n",
       "      <th>3</th>\n",
       "      <td>2021-09-06</td>\n",
       "      <td>4</td>\n",
       "      <td>96.35</td>\n",
       "    </tr>\n",
       "    <tr>\n",
       "      <th>4</th>\n",
       "      <td>2021-09-06</td>\n",
       "      <td>5</td>\n",
       "      <td>94.77</td>\n",
       "    </tr>\n",
       "    <tr>\n",
       "      <th>...</th>\n",
       "      <td>...</td>\n",
       "      <td>...</td>\n",
       "      <td>...</td>\n",
       "    </tr>\n",
       "    <tr>\n",
       "      <th>721</th>\n",
       "      <td>2021-10-27</td>\n",
       "      <td>18</td>\n",
       "      <td>97.29</td>\n",
       "    </tr>\n",
       "    <tr>\n",
       "      <th>722</th>\n",
       "      <td>2021-10-27</td>\n",
       "      <td>19</td>\n",
       "      <td>97.21</td>\n",
       "    </tr>\n",
       "    <tr>\n",
       "      <th>723</th>\n",
       "      <td>2021-10-27</td>\n",
       "      <td>20</td>\n",
       "      <td>98.38</td>\n",
       "    </tr>\n",
       "    <tr>\n",
       "      <th>724</th>\n",
       "      <td>2021-10-27</td>\n",
       "      <td>21</td>\n",
       "      <td>98.36</td>\n",
       "    </tr>\n",
       "    <tr>\n",
       "      <th>725</th>\n",
       "      <td>2021-10-27</td>\n",
       "      <td>22</td>\n",
       "      <td>96.03</td>\n",
       "    </tr>\n",
       "  </tbody>\n",
       "</table>\n",
       "<p>726 rows × 3 columns</p>\n",
       "</div>"
      ],
      "text/plain": [
       "           Date  LoT  Process Rate\n",
       "0    2021-09-06    1         96.38\n",
       "1    2021-09-06    2         97.40\n",
       "2    2021-09-06    3         95.40\n",
       "3    2021-09-06    4         96.35\n",
       "4    2021-09-06    5         94.77\n",
       "..          ...  ...           ...\n",
       "721  2021-10-27   18         97.29\n",
       "722  2021-10-27   19         97.21\n",
       "723  2021-10-27   20         98.38\n",
       "724  2021-10-27   21         98.36\n",
       "725  2021-10-27   22         96.03\n",
       "\n",
       "[726 rows x 3 columns]"
      ]
     },
     "execution_count": 23,
     "metadata": {},
     "output_type": "execute_result"
    }
   ],
   "source": [
    "process = pd.read_csv(os.path.join(root_dir, error_list), sep=',', encoding='utf-8')\n",
    "process"
   ]
  },
  {
   "cell_type": "markdown",
   "metadata": {},
   "source": [
    "#### ⑤-4. Process Data List 추출\n",
    "- 학습 시 데이터를 맞추기 위해 ⑤-1, ⑤-2의 과정을 거친다.(LoT, Date list 추출)"
   ]
  },
  {
   "cell_type": "code",
   "execution_count": 24,
   "metadata": {},
   "outputs": [
    {
     "name": "stdout",
     "output_type": "stream",
     "text": [
      "Unique LoT List :  [ 1  2  3  4  5  6  7  8  9 10 11 12 13 14 15 16 17 18 19 20 21 22]\n",
      "Unique Date List :  ['2021-09-06' '2021-09-07' '2021-09-08' '2021-09-09' '2021-09-10'\n",
      " '2021-09-13' '2021-09-14' '2021-09-15' '2021-09-16' '2021-09-17'\n",
      " '2021-09-23' '2021-09-24' '2021-09-27' '2021-09-28' '2021-09-29'\n",
      " '2021-09-30' '2021-10-01' '2021-10-05' '2021-10-06' '2021-10-07'\n",
      " '2021-10-08' '2021-10-12' '2021-10-13' '2021-10-14' '2021-10-15'\n",
      " '2021-10-18' '2021-10-19' '2021-10-20' '2021-10-21' '2021-10-22'\n",
      " '2021-10-25' '2021-10-26' '2021-10-27']\n"
     ]
    }
   ],
   "source": [
    "lot_process_lists = process['LoT'].unique()\n",
    "d_process_lists = process['Date'].unique()\n",
    "print(\"Unique LoT List : \", lot_process_lists)\n",
    "print(\"Unique Date List : \", d_process_lists)"
   ]
  },
  {
   "cell_type": "markdown",
   "metadata": {},
   "source": [
    "### ⑤-5. Train/Test Data Set Make\n",
    "- Training Data를 만들기 위한 DataFrame을 생성한다."
   ]
  },
  {
   "cell_type": "markdown",
   "metadata": {},
   "source": [
    "# Make Training Data Set"
   ]
  },
  {
   "cell_type": "markdown",
   "metadata": {},
   "source": [
    "X_data 중 필요한 컬럼을 "
   ]
  },
  {
   "cell_type": "code",
   "execution_count": 25,
   "metadata": {},
   "outputs": [],
   "source": [
    "X_data = pd.DataFrame(columns={'pH','Temp', 'LoT', 'Process'})"
   ]
  },
  {
   "cell_type": "markdown",
   "metadata": {},
   "source": [
    "- LoT, DTime을 이용하여 dedicated_data frame 데이터와 process frame 데이터를 추출한다.\n",
    "- 두 개의 데이터프레임에서 필요한 부분만 합치는 코드이다.\n",
    "- 참고 : numpy.full 함수는 주어진 형태와 타입을 갖는, 주어진 값으로 채워진 새로운 어레이를 반환한다."
   ]
  },
  {
   "cell_type": "code",
   "execution_count": 26,
   "metadata": {},
   "outputs": [],
   "source": [
    "for d in d_lists:\n",
    "    for lot in lot_lists:\n",
    "        # 정제된 dedicated_data중 d_lists의 날짜(d) & lot_lists의 LoT번호의 일치하는 것을 필터링하여 tmp 데이터프레임에 담는다.\n",
    "        tmp = dedicated_data[(dedicated_data['DTime']==d)&(dedicated_data['LoT']==lot)]\n",
    "        # tmp 데이터프레임에 3가지 컬럼을 사용한다.\n",
    "        tmp = tmp[['pH', 'Temp', 'LoT']]\n",
    "        # 정제된 procees 데이터프레임중 d_lists의 날짜(d) & lot_lists의 LoT번호와 일치하는 것을 찾아 담는다.\n",
    "        process_val = process[(process['Date']==d)&((process['LoT']==lot))]['Process Rate'].values\n",
    "        # tmp데이터 프레임의 'pH'컬럼의 shape(69,)를 갖는 'trr' nparray를 생성하고 process_val를 담는다.\n",
    "        trr = np.full((tmp['pH'].shape), process_val)\n",
    "        # tmp에 'Process' 컬럼을 생성하여 trr를 할당한다.\n",
    "        tmp['Process'] = trr\n",
    "        # X_data라는 새로운 데이터프레임에 해당 tmp 데이터프레임을 append한다.\n",
    "        X_data = X_data.append(tmp)\n",
    "X_data=X_data.apply(pd.to_numeric) #모든 컬럼을 숫자형으로 변환한다.\n",
    "X_data = X_data[['LoT', 'pH', 'Temp', 'Process']] # 컬럼의 순서를 조정한다."
   ]
  },
  {
   "cell_type": "markdown",
   "metadata": {},
   "source": [
    "- 만들어진 Training Data을 확인한다."
   ]
  },
  {
   "cell_type": "code",
   "execution_count": 27,
   "metadata": {},
   "outputs": [
    {
     "data": {
      "text/html": [
       "<div>\n",
       "<style scoped>\n",
       "    .dataframe tbody tr th:only-of-type {\n",
       "        vertical-align: middle;\n",
       "    }\n",
       "\n",
       "    .dataframe tbody tr th {\n",
       "        vertical-align: top;\n",
       "    }\n",
       "\n",
       "    .dataframe thead th {\n",
       "        text-align: right;\n",
       "    }\n",
       "</style>\n",
       "<table border=\"1\" class=\"dataframe\">\n",
       "  <thead>\n",
       "    <tr style=\"text-align: right;\">\n",
       "      <th></th>\n",
       "      <th>LoT</th>\n",
       "      <th>pH</th>\n",
       "      <th>Temp</th>\n",
       "      <th>Process</th>\n",
       "    </tr>\n",
       "  </thead>\n",
       "  <tbody>\n",
       "    <tr>\n",
       "      <th>2021-09-06 09:01:18</th>\n",
       "      <td>1</td>\n",
       "      <td>1.02</td>\n",
       "      <td>47.18</td>\n",
       "      <td>96.38</td>\n",
       "    </tr>\n",
       "    <tr>\n",
       "      <th>2021-09-06 09:01:23</th>\n",
       "      <td>1</td>\n",
       "      <td>1.05</td>\n",
       "      <td>47.34</td>\n",
       "      <td>96.38</td>\n",
       "    </tr>\n",
       "    <tr>\n",
       "      <th>2021-09-06 09:01:28</th>\n",
       "      <td>1</td>\n",
       "      <td>1.09</td>\n",
       "      <td>48.45</td>\n",
       "      <td>96.38</td>\n",
       "    </tr>\n",
       "    <tr>\n",
       "      <th>2021-09-06 09:01:33</th>\n",
       "      <td>1</td>\n",
       "      <td>1.12</td>\n",
       "      <td>48.46</td>\n",
       "      <td>96.38</td>\n",
       "    </tr>\n",
       "    <tr>\n",
       "      <th>2021-09-06 09:01:38</th>\n",
       "      <td>1</td>\n",
       "      <td>1.15</td>\n",
       "      <td>48.47</td>\n",
       "      <td>96.38</td>\n",
       "    </tr>\n",
       "    <tr>\n",
       "      <th>...</th>\n",
       "      <td>...</td>\n",
       "      <td>...</td>\n",
       "      <td>...</td>\n",
       "      <td>...</td>\n",
       "    </tr>\n",
       "    <tr>\n",
       "      <th>2021-10-27 11:14:41</th>\n",
       "      <td>22</td>\n",
       "      <td>2.79</td>\n",
       "      <td>51.83</td>\n",
       "      <td>96.03</td>\n",
       "    </tr>\n",
       "    <tr>\n",
       "      <th>2021-10-27 11:14:46</th>\n",
       "      <td>22</td>\n",
       "      <td>3.62</td>\n",
       "      <td>42.20</td>\n",
       "      <td>96.03</td>\n",
       "    </tr>\n",
       "    <tr>\n",
       "      <th>2021-10-27 11:14:51</th>\n",
       "      <td>22</td>\n",
       "      <td>3.40</td>\n",
       "      <td>41.88</td>\n",
       "      <td>96.03</td>\n",
       "    </tr>\n",
       "    <tr>\n",
       "      <th>2021-10-27 11:14:56</th>\n",
       "      <td>22</td>\n",
       "      <td>3.59</td>\n",
       "      <td>40.62</td>\n",
       "      <td>96.03</td>\n",
       "    </tr>\n",
       "    <tr>\n",
       "      <th>2021-10-27 11:15:01</th>\n",
       "      <td>22</td>\n",
       "      <td>3.82</td>\n",
       "      <td>42.08</td>\n",
       "      <td>96.03</td>\n",
       "    </tr>\n",
       "  </tbody>\n",
       "</table>\n",
       "<p>50094 rows × 4 columns</p>\n",
       "</div>"
      ],
      "text/plain": [
       "                     LoT    pH   Temp  Process\n",
       "2021-09-06 09:01:18    1  1.02  47.18    96.38\n",
       "2021-09-06 09:01:23    1  1.05  47.34    96.38\n",
       "2021-09-06 09:01:28    1  1.09  48.45    96.38\n",
       "2021-09-06 09:01:33    1  1.12  48.46    96.38\n",
       "2021-09-06 09:01:38    1  1.15  48.47    96.38\n",
       "...                  ...   ...    ...      ...\n",
       "2021-10-27 11:14:41   22  2.79  51.83    96.03\n",
       "2021-10-27 11:14:46   22  3.62  42.20    96.03\n",
       "2021-10-27 11:14:51   22  3.40  41.88    96.03\n",
       "2021-10-27 11:14:56   22  3.59  40.62    96.03\n",
       "2021-10-27 11:15:01   22  3.82  42.08    96.03\n",
       "\n",
       "[50094 rows x 4 columns]"
      ]
     },
     "execution_count": 27,
     "metadata": {},
     "output_type": "execute_result"
    }
   ],
   "source": [
    "X_data"
   ]
  },
  {
   "cell_type": "markdown",
   "metadata": {},
   "source": [
    "- 만들어진 Data를 요약을 확인한다."
   ]
  },
  {
   "cell_type": "code",
   "execution_count": 28,
   "metadata": {},
   "outputs": [
    {
     "data": {
      "text/html": [
       "<div>\n",
       "<style scoped>\n",
       "    .dataframe tbody tr th:only-of-type {\n",
       "        vertical-align: middle;\n",
       "    }\n",
       "\n",
       "    .dataframe tbody tr th {\n",
       "        vertical-align: top;\n",
       "    }\n",
       "\n",
       "    .dataframe thead th {\n",
       "        text-align: right;\n",
       "    }\n",
       "</style>\n",
       "<table border=\"1\" class=\"dataframe\">\n",
       "  <thead>\n",
       "    <tr style=\"text-align: right;\">\n",
       "      <th></th>\n",
       "      <th>LoT</th>\n",
       "      <th>pH</th>\n",
       "      <th>Temp</th>\n",
       "      <th>Process</th>\n",
       "    </tr>\n",
       "  </thead>\n",
       "  <tbody>\n",
       "    <tr>\n",
       "      <th>count</th>\n",
       "      <td>50094.000000</td>\n",
       "      <td>50094.000000</td>\n",
       "      <td>50094.000000</td>\n",
       "      <td>50094.000000</td>\n",
       "    </tr>\n",
       "    <tr>\n",
       "      <th>mean</th>\n",
       "      <td>11.500000</td>\n",
       "      <td>2.006488</td>\n",
       "      <td>49.876127</td>\n",
       "      <td>96.064229</td>\n",
       "    </tr>\n",
       "    <tr>\n",
       "      <th>std</th>\n",
       "      <td>6.344352</td>\n",
       "      <td>0.551698</td>\n",
       "      <td>1.345322</td>\n",
       "      <td>3.210621</td>\n",
       "    </tr>\n",
       "    <tr>\n",
       "      <th>min</th>\n",
       "      <td>1.000000</td>\n",
       "      <td>1.010000</td>\n",
       "      <td>38.020000</td>\n",
       "      <td>80.780000</td>\n",
       "    </tr>\n",
       "    <tr>\n",
       "      <th>25%</th>\n",
       "      <td>6.000000</td>\n",
       "      <td>1.560000</td>\n",
       "      <td>49.280000</td>\n",
       "      <td>96.170000</td>\n",
       "    </tr>\n",
       "    <tr>\n",
       "      <th>50%</th>\n",
       "      <td>11.500000</td>\n",
       "      <td>2.000000</td>\n",
       "      <td>49.970000</td>\n",
       "      <td>96.635000</td>\n",
       "    </tr>\n",
       "    <tr>\n",
       "      <th>75%</th>\n",
       "      <td>17.000000</td>\n",
       "      <td>2.440000</td>\n",
       "      <td>50.630000</td>\n",
       "      <td>97.260000</td>\n",
       "    </tr>\n",
       "    <tr>\n",
       "      <th>max</th>\n",
       "      <td>22.000000</td>\n",
       "      <td>3.990000</td>\n",
       "      <td>54.190000</td>\n",
       "      <td>98.450000</td>\n",
       "    </tr>\n",
       "  </tbody>\n",
       "</table>\n",
       "</div>"
      ],
      "text/plain": [
       "                LoT            pH          Temp       Process\n",
       "count  50094.000000  50094.000000  50094.000000  50094.000000\n",
       "mean      11.500000      2.006488     49.876127     96.064229\n",
       "std        6.344352      0.551698      1.345322      3.210621\n",
       "min        1.000000      1.010000     38.020000     80.780000\n",
       "25%        6.000000      1.560000     49.280000     96.170000\n",
       "50%       11.500000      2.000000     49.970000     96.635000\n",
       "75%       17.000000      2.440000     50.630000     97.260000\n",
       "max       22.000000      3.990000     54.190000     98.450000"
      ]
     },
     "execution_count": 28,
     "metadata": {},
     "output_type": "execute_result"
    }
   ],
   "source": [
    "X_data.describe()"
   ]
  },
  {
   "cell_type": "markdown",
   "metadata": {},
   "source": [
    "- X_data로부터 학습용/테스트용 데이터 생성한다.\n",
    "- 학습용/테스트용 데이터셋 비율을 ( 80 : 20 )로 나눈다."
   ]
  },
  {
   "cell_type": "code",
   "execution_count": 29,
   "metadata": {},
   "outputs": [],
   "source": [
    "train_data, test_data = train_test_split(X_data, test_size=0.2)"
   ]
  },
  {
   "cell_type": "markdown",
   "metadata": {},
   "source": [
    "- 학습용 데이터셋 요약을 진행한다."
   ]
  },
  {
   "cell_type": "code",
   "execution_count": 30,
   "metadata": {},
   "outputs": [
    {
     "data": {
      "text/html": [
       "<div>\n",
       "<style scoped>\n",
       "    .dataframe tbody tr th:only-of-type {\n",
       "        vertical-align: middle;\n",
       "    }\n",
       "\n",
       "    .dataframe tbody tr th {\n",
       "        vertical-align: top;\n",
       "    }\n",
       "\n",
       "    .dataframe thead th {\n",
       "        text-align: right;\n",
       "    }\n",
       "</style>\n",
       "<table border=\"1\" class=\"dataframe\">\n",
       "  <thead>\n",
       "    <tr style=\"text-align: right;\">\n",
       "      <th></th>\n",
       "      <th>LoT</th>\n",
       "      <th>pH</th>\n",
       "      <th>Temp</th>\n",
       "      <th>Process</th>\n",
       "    </tr>\n",
       "  </thead>\n",
       "  <tbody>\n",
       "    <tr>\n",
       "      <th>count</th>\n",
       "      <td>40075.000000</td>\n",
       "      <td>40075.000000</td>\n",
       "      <td>40075.000000</td>\n",
       "      <td>40075.000000</td>\n",
       "    </tr>\n",
       "    <tr>\n",
       "      <th>mean</th>\n",
       "      <td>11.509470</td>\n",
       "      <td>2.005322</td>\n",
       "      <td>49.873368</td>\n",
       "      <td>96.069542</td>\n",
       "    </tr>\n",
       "    <tr>\n",
       "      <th>std</th>\n",
       "      <td>6.348592</td>\n",
       "      <td>0.551606</td>\n",
       "      <td>1.348583</td>\n",
       "      <td>3.204515</td>\n",
       "    </tr>\n",
       "    <tr>\n",
       "      <th>min</th>\n",
       "      <td>1.000000</td>\n",
       "      <td>1.010000</td>\n",
       "      <td>38.020000</td>\n",
       "      <td>80.780000</td>\n",
       "    </tr>\n",
       "    <tr>\n",
       "      <th>25%</th>\n",
       "      <td>6.000000</td>\n",
       "      <td>1.560000</td>\n",
       "      <td>49.280000</td>\n",
       "      <td>96.180000</td>\n",
       "    </tr>\n",
       "    <tr>\n",
       "      <th>50%</th>\n",
       "      <td>12.000000</td>\n",
       "      <td>2.000000</td>\n",
       "      <td>49.960000</td>\n",
       "      <td>96.640000</td>\n",
       "    </tr>\n",
       "    <tr>\n",
       "      <th>75%</th>\n",
       "      <td>17.000000</td>\n",
       "      <td>2.440000</td>\n",
       "      <td>50.630000</td>\n",
       "      <td>97.260000</td>\n",
       "    </tr>\n",
       "    <tr>\n",
       "      <th>max</th>\n",
       "      <td>22.000000</td>\n",
       "      <td>3.990000</td>\n",
       "      <td>54.190000</td>\n",
       "      <td>98.450000</td>\n",
       "    </tr>\n",
       "  </tbody>\n",
       "</table>\n",
       "</div>"
      ],
      "text/plain": [
       "                LoT            pH          Temp       Process\n",
       "count  40075.000000  40075.000000  40075.000000  40075.000000\n",
       "mean      11.509470      2.005322     49.873368     96.069542\n",
       "std        6.348592      0.551606      1.348583      3.204515\n",
       "min        1.000000      1.010000     38.020000     80.780000\n",
       "25%        6.000000      1.560000     49.280000     96.180000\n",
       "50%       12.000000      2.000000     49.960000     96.640000\n",
       "75%       17.000000      2.440000     50.630000     97.260000\n",
       "max       22.000000      3.990000     54.190000     98.450000"
      ]
     },
     "execution_count": 30,
     "metadata": {},
     "output_type": "execute_result"
    }
   ],
   "source": [
    "train_data.describe()"
   ]
  },
  {
   "cell_type": "markdown",
   "metadata": {},
   "source": [
    "- 학습용 데이터셋 상관관계 분석을 진행한다."
   ]
  },
  {
   "cell_type": "code",
   "execution_count": 31,
   "metadata": {},
   "outputs": [
    {
     "data": {
      "text/html": [
       "<div>\n",
       "<style scoped>\n",
       "    .dataframe tbody tr th:only-of-type {\n",
       "        vertical-align: middle;\n",
       "    }\n",
       "\n",
       "    .dataframe tbody tr th {\n",
       "        vertical-align: top;\n",
       "    }\n",
       "\n",
       "    .dataframe thead th {\n",
       "        text-align: right;\n",
       "    }\n",
       "</style>\n",
       "<table border=\"1\" class=\"dataframe\">\n",
       "  <thead>\n",
       "    <tr style=\"text-align: right;\">\n",
       "      <th></th>\n",
       "      <th>LoT</th>\n",
       "      <th>pH</th>\n",
       "      <th>Temp</th>\n",
       "      <th>Process</th>\n",
       "    </tr>\n",
       "  </thead>\n",
       "  <tbody>\n",
       "    <tr>\n",
       "      <th>LoT</th>\n",
       "      <td>1.000000</td>\n",
       "      <td>-0.005402</td>\n",
       "      <td>0.010432</td>\n",
       "      <td>0.297467</td>\n",
       "    </tr>\n",
       "    <tr>\n",
       "      <th>pH</th>\n",
       "      <td>-0.005402</td>\n",
       "      <td>1.000000</td>\n",
       "      <td>0.473128</td>\n",
       "      <td>-0.015680</td>\n",
       "    </tr>\n",
       "    <tr>\n",
       "      <th>Temp</th>\n",
       "      <td>0.010432</td>\n",
       "      <td>0.473128</td>\n",
       "      <td>1.000000</td>\n",
       "      <td>0.144999</td>\n",
       "    </tr>\n",
       "    <tr>\n",
       "      <th>Process</th>\n",
       "      <td>0.297467</td>\n",
       "      <td>-0.015680</td>\n",
       "      <td>0.144999</td>\n",
       "      <td>1.000000</td>\n",
       "    </tr>\n",
       "  </tbody>\n",
       "</table>\n",
       "</div>"
      ],
      "text/plain": [
       "              LoT        pH      Temp   Process\n",
       "LoT      1.000000 -0.005402  0.010432  0.297467\n",
       "pH      -0.005402  1.000000  0.473128 -0.015680\n",
       "Temp     0.010432  0.473128  1.000000  0.144999\n",
       "Process  0.297467 -0.015680  0.144999  1.000000"
      ]
     },
     "execution_count": 31,
     "metadata": {},
     "output_type": "execute_result"
    }
   ],
   "source": [
    "train_data.corr()"
   ]
  },
  {
   "cell_type": "markdown",
   "metadata": {},
   "source": [
    "- 학습용 데이터셋 상관관계 결과 시각화를 진행한다.\n",
    "- 상관관계의 경우 값이 클수록 상관관계가 있다고 판단할 수 있는 척도가 되며, 결과를 통해서 알 수 있는 것은 학습용 데이터셋의 상관관계의 경우 pH와 Temp의 상관관계는 <b>0.46</b>로 낮은 상관관계를 보이는 것을 알 수 있다."
   ]
  },
  {
   "cell_type": "code",
   "execution_count": 32,
   "metadata": {},
   "outputs": [
    {
     "data": {
      "image/png": "[encoded data removed]",
      "text/plain": [
       "<Figure size 504x504 with 2 Axes>"
      ]
     },
     "metadata": {
      "needs_background": "light"
     },
     "output_type": "display_data"
    }
   ],
   "source": [
    "fig, ax = plt.subplots(figsize=(7,7))\n",
    "sns.heatmap(train_data.corr(),\n",
    "           cmap='RdYlBu_r',\n",
    "           annot = True,\n",
    "           linewidths=0.5,\n",
    "           cbar_kws={\"shrink\":.5},\n",
    "           vmin=-1, vmax=1)\n",
    "plt.show()"
   ]
  },
  {
   "cell_type": "markdown",
   "metadata": {},
   "source": [
    "- 테스트용 데이터셋 요약을 진행한다."
   ]
  },
  {
   "cell_type": "code",
   "execution_count": 33,
   "metadata": {},
   "outputs": [
    {
     "data": {
      "text/html": [
       "<div>\n",
       "<style scoped>\n",
       "    .dataframe tbody tr th:only-of-type {\n",
       "        vertical-align: middle;\n",
       "    }\n",
       "\n",
       "    .dataframe tbody tr th {\n",
       "        vertical-align: top;\n",
       "    }\n",
       "\n",
       "    .dataframe thead th {\n",
       "        text-align: right;\n",
       "    }\n",
       "</style>\n",
       "<table border=\"1\" class=\"dataframe\">\n",
       "  <thead>\n",
       "    <tr style=\"text-align: right;\">\n",
       "      <th></th>\n",
       "      <th>LoT</th>\n",
       "      <th>pH</th>\n",
       "      <th>Temp</th>\n",
       "      <th>Process</th>\n",
       "    </tr>\n",
       "  </thead>\n",
       "  <tbody>\n",
       "    <tr>\n",
       "      <th>count</th>\n",
       "      <td>10019.000000</td>\n",
       "      <td>10019.000000</td>\n",
       "      <td>10019.000000</td>\n",
       "      <td>10019.000000</td>\n",
       "    </tr>\n",
       "    <tr>\n",
       "      <th>mean</th>\n",
       "      <td>11.462122</td>\n",
       "      <td>2.011151</td>\n",
       "      <td>49.887162</td>\n",
       "      <td>96.042974</td>\n",
       "    </tr>\n",
       "    <tr>\n",
       "      <th>std</th>\n",
       "      <td>6.327541</td>\n",
       "      <td>0.552069</td>\n",
       "      <td>1.332206</td>\n",
       "      <td>3.235001</td>\n",
       "    </tr>\n",
       "    <tr>\n",
       "      <th>min</th>\n",
       "      <td>1.000000</td>\n",
       "      <td>1.010000</td>\n",
       "      <td>38.040000</td>\n",
       "      <td>80.780000</td>\n",
       "    </tr>\n",
       "    <tr>\n",
       "      <th>25%</th>\n",
       "      <td>6.000000</td>\n",
       "      <td>1.565000</td>\n",
       "      <td>49.280000</td>\n",
       "      <td>96.170000</td>\n",
       "    </tr>\n",
       "    <tr>\n",
       "      <th>50%</th>\n",
       "      <td>11.000000</td>\n",
       "      <td>2.010000</td>\n",
       "      <td>49.980000</td>\n",
       "      <td>96.630000</td>\n",
       "    </tr>\n",
       "    <tr>\n",
       "      <th>75%</th>\n",
       "      <td>17.000000</td>\n",
       "      <td>2.440000</td>\n",
       "      <td>50.635000</td>\n",
       "      <td>97.230000</td>\n",
       "    </tr>\n",
       "    <tr>\n",
       "      <th>max</th>\n",
       "      <td>22.000000</td>\n",
       "      <td>3.970000</td>\n",
       "      <td>54.070000</td>\n",
       "      <td>98.450000</td>\n",
       "    </tr>\n",
       "  </tbody>\n",
       "</table>\n",
       "</div>"
      ],
      "text/plain": [
       "                LoT            pH          Temp       Process\n",
       "count  10019.000000  10019.000000  10019.000000  10019.000000\n",
       "mean      11.462122      2.011151     49.887162     96.042974\n",
       "std        6.327541      0.552069      1.332206      3.235001\n",
       "min        1.000000      1.010000     38.040000     80.780000\n",
       "25%        6.000000      1.565000     49.280000     96.170000\n",
       "50%       11.000000      2.010000     49.980000     96.630000\n",
       "75%       17.000000      2.440000     50.635000     97.230000\n",
       "max       22.000000      3.970000     54.070000     98.450000"
      ]
     },
     "execution_count": 33,
     "metadata": {},
     "output_type": "execute_result"
    }
   ],
   "source": [
    "test_data.describe()"
   ]
  },
  {
   "cell_type": "markdown",
   "metadata": {},
   "source": [
    "- 테스트용 데이터셋 상관관계 분석을 진행한다."
   ]
  },
  {
   "cell_type": "code",
   "execution_count": 34,
   "metadata": {},
   "outputs": [
    {
     "data": {
      "text/html": [
       "<div>\n",
       "<style scoped>\n",
       "    .dataframe tbody tr th:only-of-type {\n",
       "        vertical-align: middle;\n",
       "    }\n",
       "\n",
       "    .dataframe tbody tr th {\n",
       "        vertical-align: top;\n",
       "    }\n",
       "\n",
       "    .dataframe thead th {\n",
       "        text-align: right;\n",
       "    }\n",
       "</style>\n",
       "<table border=\"1\" class=\"dataframe\">\n",
       "  <thead>\n",
       "    <tr style=\"text-align: right;\">\n",
       "      <th></th>\n",
       "      <th>LoT</th>\n",
       "      <th>pH</th>\n",
       "      <th>Temp</th>\n",
       "      <th>Process</th>\n",
       "    </tr>\n",
       "  </thead>\n",
       "  <tbody>\n",
       "    <tr>\n",
       "      <th>LoT</th>\n",
       "      <td>1.000000</td>\n",
       "      <td>0.011992</td>\n",
       "      <td>0.016211</td>\n",
       "      <td>0.287711</td>\n",
       "    </tr>\n",
       "    <tr>\n",
       "      <th>pH</th>\n",
       "      <td>0.011992</td>\n",
       "      <td>1.000000</td>\n",
       "      <td>0.482154</td>\n",
       "      <td>-0.017719</td>\n",
       "    </tr>\n",
       "    <tr>\n",
       "      <th>Temp</th>\n",
       "      <td>0.016211</td>\n",
       "      <td>0.482154</td>\n",
       "      <td>1.000000</td>\n",
       "      <td>0.133001</td>\n",
       "    </tr>\n",
       "    <tr>\n",
       "      <th>Process</th>\n",
       "      <td>0.287711</td>\n",
       "      <td>-0.017719</td>\n",
       "      <td>0.133001</td>\n",
       "      <td>1.000000</td>\n",
       "    </tr>\n",
       "  </tbody>\n",
       "</table>\n",
       "</div>"
      ],
      "text/plain": [
       "              LoT        pH      Temp   Process\n",
       "LoT      1.000000  0.011992  0.016211  0.287711\n",
       "pH       0.011992  1.000000  0.482154 -0.017719\n",
       "Temp     0.016211  0.482154  1.000000  0.133001\n",
       "Process  0.287711 -0.017719  0.133001  1.000000"
      ]
     },
     "execution_count": 34,
     "metadata": {},
     "output_type": "execute_result"
    }
   ],
   "source": [
    "test_data.corr()"
   ]
  },
  {
   "cell_type": "markdown",
   "metadata": {},
   "source": [
    "- 테스트용 데이터셋 상관관계 결과 시각화를 진행한다.\n",
    "- 상관관계의 경우 값이 클수록 상관관계가 있다고 판단할 수 있는 척도가 되며, 결과를 통해서 알 수 있는 것은 테스트용 데이터셋의 상관관계의 경우 pH와 Temp의 상관관계는 <b>0.51</b>로 낮은 상관관계를 보이는 것을 알 수 있다."
   ]
  },
  {
   "cell_type": "code",
   "execution_count": 35,
   "metadata": {
    "scrolled": true
   },
   "outputs": [
    {
     "data": {
      "image/png": "[encoded data removed]",
      "text/plain": [
       "<Figure size 504x504 with 2 Axes>"
      ]
     },
     "metadata": {
      "needs_background": "light"
     },
     "output_type": "display_data"
    }
   ],
   "source": [
    "fig, ax = plt.subplots(figsize=(7,7))\n",
    "sns.heatmap(test_data.corr(),\n",
    "           cmap='RdYlBu_r',\n",
    "           annot = True,\n",
    "           linewidths=0.5,\n",
    "           cbar_kws={\"shrink\":.5},\n",
    "           vmin=-1, vmax=1)\n",
    "plt.show()"
   ]
  },
  {
   "cell_type": "markdown",
   "metadata": {},
   "source": [
    "# Decision Tree Regressor Model"
   ]
  },
  {
   "cell_type": "markdown",
   "metadata": {},
   "source": [
    "### [단계 ⑥] 모델링\n",
    "#### ⑥-1. Decision Tree 모델 모델링"
   ]
  },
  {
   "cell_type": "markdown",
   "metadata": {},
   "source": [
    "- 가장 기본적인 Decision Tree 모델을 사용하였으며, 별다른 Hyper-Parameter를 사용하지 않았다. 이는 최대의 결과가 나올 수 있도록 모든 제한을 풀어둔 모델이 생성될 것이다."
   ]
  },
  {
   "cell_type": "code",
   "execution_count": 39,
   "metadata": {},
   "outputs": [],
   "source": [
    "clf = tree.DecisionTreeRegressor()"
   ]
  },
  {
   "cell_type": "markdown",
   "metadata": {},
   "source": [
    "### [단계 ⑦] 모델 훈련\n",
    "#### ⑦-1. Decision Tree 모델 학습"
   ]
  },
  {
   "cell_type": "markdown",
   "metadata": {},
   "source": [
    "- 학습은 fit() 함수를 통해 진행하며, Input Data, Output Data 순으로 인자를 넣는다.\n",
    "- 학습 시 따로 출력되는 결과물이 없다."
   ]
  },
  {
   "cell_type": "code",
   "execution_count": 40,
   "metadata": {},
   "outputs": [],
   "source": [
    "clf = clf.fit(train_data[['pH','Temp']], train_data[['Process']])"
   ]
  },
  {
   "cell_type": "markdown",
   "metadata": {},
   "source": [
    "#### ⑦-2. Dcision Tree 모델 시각화"
   ]
  },
  {
   "cell_type": "markdown",
   "metadata": {},
   "source": [
    "vis : Model 시각화 진행 유무에 대한 trigger 역할\n",
    "\n",
    "* 모델을 시각화하여 보고 싶으면 vis = True로 진행\n",
    "* 모델을 시각화하고 싶지 않으면 vis = False로 진행\n",
    "\n",
    "기본적인 Decision Tree Regressor Model의 경우 Tree Depth가 정해져있지 않기 때문에 깊은 모델이 만들어지며, 이에 따라 시각화하는데 시간이 오래 걸릴 수 있음."
   ]
  },
  {
   "cell_type": "code",
   "execution_count": 41,
   "metadata": {},
   "outputs": [],
   "source": [
    "vis = True"
   ]
  },
  {
   "cell_type": "markdown",
   "metadata": {},
   "source": [
    "- Decision Tree 모델을 tree.plot_tree() 함수를 통해 시각화 진행하였으나, 복잡한 모델이 생성된 것을 확인할 수 있다."
   ]
  },
  {
   "cell_type": "code",
   "execution_count": 42,
   "metadata": {},
   "outputs": [
    {
     "data": {
      "image/png": "[encoded data removed]",
      "text/plain": [
       "<Figure size 720x2160 with 1 Axes>"
      ]
     },
     "metadata": {
      "needs_background": "light"
     },
     "output_type": "display_data"
    }
   ],
   "source": [
    "if vis:\n",
    "    plt.figure(figsize=(10, 30))\n",
    "    tree.plot_tree(clf)\n",
    "    plt.show()"
   ]
  },
  {
   "cell_type": "markdown",
   "metadata": {},
   "source": [
    "### [단계 ⑧] 모델 튜닝\n",
    "#### ⑧-1. Decision Tree 모델 튜닝"
   ]
  },
  {
   "cell_type": "markdown",
   "metadata": {},
   "source": [
    "- Decision Tree 모델 튜닝 시 사용할 수 있는 Hyper-Parameter에는 max_depth, min_samples_split, max_leaf_nodes가 있다. 이를 사용자가 원하는대로 수정 가능하며, 가장 좋은 파라미터를 찾기 위해서는 많은 시도와 노력이 필요하다."
   ]
  },
  {
   "cell_type": "markdown",
   "metadata": {},
   "source": [
    "# Decision Tree Regressor Model Tuning"
   ]
  },
  {
   "cell_type": "markdown",
   "metadata": {},
   "source": [
    "- max_depth를 3으로 변경하여 튜닝 및 학습을 진행한다."
   ]
  },
  {
   "cell_type": "code",
   "execution_count": 43,
   "metadata": {},
   "outputs": [],
   "source": [
    "new_clf = tree.DecisionTreeRegressor(max_depth=3)"
   ]
  },
  {
   "cell_type": "code",
   "execution_count": 44,
   "metadata": {},
   "outputs": [],
   "source": [
    "new_clf = new_clf.fit(train_data[['pH','Temp']], train_data[['Process']])"
   ]
  },
  {
   "cell_type": "markdown",
   "metadata": {},
   "source": [
    "- plot_model() 함수를 통해 max_depth가 3인 모델 시각화를 진행한다."
   ]
  },
  {
   "cell_type": "code",
   "execution_count": 45,
   "metadata": {},
   "outputs": [
    {
     "data": {
      "image/png": "[encoded data removed]",
      "text/plain": [
       "<Figure size 720x720 with 1 Axes>"
      ]
     },
     "metadata": {
      "needs_background": "light"
     },
     "output_type": "display_data"
    }
   ],
   "source": [
    "plt.figure(figsize=(10, 10))\n",
    "tree.plot_tree(new_clf)\n",
    "plt.show()"
   ]
  },
  {
   "cell_type": "markdown",
   "metadata": {},
   "source": [
    "### [단계 ⑨] 모델 평가 및 해석\n",
    "#### ⑨-1. Decision Tree 모델 평가"
   ]
  },
  {
   "cell_type": "markdown",
   "metadata": {},
   "source": [
    "# Test two Models"
   ]
  },
  {
   "cell_type": "markdown",
   "metadata": {},
   "source": [
    "- Decision Tree Regressor Model의 평가를 위해 테스트 데이터셋을 사용하여 Predict 함수를 통해 예측함.\n",
    "- 테스트 데이터셋 target 데이터와 비교하여 RMSE 계산 결과 약 3.91로 나타난다."
   ]
  },
  {
   "cell_type": "code",
   "execution_count": 46,
   "metadata": {},
   "outputs": [
    {
     "name": "stdout",
     "output_type": "stream",
     "text": [
      "Decision Tree Model Predict :  [96.805      96.6525     96.31       ... 96.71333333 96.21\n",
      " 97.28      ]\n",
      "Decision Tree Model RMSE :  3.9712715321327163\n"
     ]
    }
   ],
   "source": [
    "predicted_data = clf.predict(test_data[['pH', 'Temp']])\n",
    "print('Decision Tree Model Predict : ', predicted_data)\n",
    "rmse = sqrt(mean_squared_error(test_data['Process'], predicted_data))\n",
    "print('Decision Tree Model RMSE : ',rmse)"
   ]
  },
  {
   "cell_type": "markdown",
   "metadata": {},
   "source": [
    "- accuracy_score 함수를 이용하여 accuracy 값을 도출한다.\n",
    "- 이를 통해 확인할 수 있는 것은 해당 모델의 경우 정확도가 낮다는 것이다.\n",
    "- RMSE와 비교하였을 때, 알 수 있는 점은 Output Data의 분포가 크지 않아서 일정 범위에서 예측했기 때문에 RMSE는 작지만, 정확한 값을 예측하지는 않는다는 것이다."
   ]
  },
  {
   "cell_type": "code",
   "execution_count": 47,
   "metadata": {},
   "outputs": [
    {
     "name": "stdout",
     "output_type": "stream",
     "text": [
      "accuracy  =  0.32947399940113786\n"
     ]
    }
   ],
   "source": [
    "y_test = test_data['Process']\n",
    "y_test = [round(y, 0) for y in y_test]\n",
    "y_pred = [round(y, 0) for y in predicted_data]\n",
    "print(\"accuracy  = \", accuracy_score(y_test, y_pred))"
   ]
  },
  {
   "cell_type": "markdown",
   "metadata": {},
   "source": [
    "- classification_report 함수를 이용하여 각 target value에 따른 결과값을 도출한다. 해당 모델의 경우 데이터 예측을 위한 것이기 때문에 계산되는 결과의 범위가 넓어 float -> int로 변형하여 해당 과정을 진행하였다."
   ]
  },
  {
   "cell_type": "code",
   "execution_count": 48,
   "metadata": {},
   "outputs": [
    {
     "name": "stdout",
     "output_type": "stream",
     "text": [
      "              precision    recall  f1-score   support\n",
      "\n",
      "        81.0       0.00      0.00      0.00        57\n",
      "        82.0       0.08      0.03      0.05       122\n",
      "        83.0       0.04      0.02      0.03       216\n",
      "        84.0       0.08      0.04      0.05       140\n",
      "        87.0       0.00      0.00      0.00         0\n",
      "        88.0       0.00      0.00      0.00         0\n",
      "        89.0       0.00      0.00      0.00         0\n",
      "        90.0       0.00      0.00      0.00         0\n",
      "        91.0       0.00      0.00      0.00         0\n",
      "        92.0       0.00      0.00      0.00         0\n",
      "        93.0       0.00      0.00      0.00         0\n",
      "        94.0       0.00      0.00      0.00         0\n",
      "        95.0       0.01      0.03      0.01        36\n",
      "        96.0       0.38      0.26      0.31      3650\n",
      "        97.0       0.41      0.52      0.46      4135\n",
      "        98.0       0.20      0.11      0.14      1663\n",
      "\n",
      "    accuracy                           0.33     10019\n",
      "   macro avg       0.08      0.06      0.07     10019\n",
      "weighted avg       0.34      0.33      0.33     10019\n",
      "\n"
     ]
    },
    {
     "name": "stderr",
     "output_type": "stream",
     "text": [
      "C:\\Users\\K10545\\Anaconda3\\lib\\site-packages\\sklearn\\metrics\\_classification.py:1272: UndefinedMetricWarning: Recall and F-score are ill-defined and being set to 0.0 in labels with no true samples. Use `zero_division` parameter to control this behavior.\n",
      "  _warn_prf(average, modifier, msg_start, len(result))\n"
     ]
    }
   ],
   "source": [
    "print(classification_report(y_test, y_pred))"
   ]
  },
  {
   "cell_type": "markdown",
   "metadata": {},
   "source": [
    "- 모델의 결과를 3D로 표현 결과 위와 같이 시각화할 수 있다."
   ]
  },
  {
   "cell_type": "code",
   "execution_count": 49,
   "metadata": {},
   "outputs": [
    {
     "data": {
      "image/png": "[encoded data removed]",
      "text/plain": [
       "<Figure size 432x288 with 1 Axes>"
      ]
     },
     "metadata": {
      "needs_background": "light"
     },
     "output_type": "display_data"
    }
   ],
   "source": [
    "fig = plt.figure()\n",
    "ax = fig.gca(projection='3d')\n",
    "ax.scatter(test_data['pH'], test_data['Temp'], predicted_data)\n",
    "ax.set_xlabel('pH Test Data')\n",
    "ax.set_ylabel('Temp Test Data')\n",
    "ax.set_zlabel('Estimated Process Data')\n",
    "plt.show()"
   ]
  },
  {
   "cell_type": "markdown",
   "metadata": {},
   "source": [
    "#### ⑨-2. Decision Tree 모델 해석\n",
    "- Target Value가 약 90대로 나타나기 때문에 오차율은 약 3% 정도로 볼 수 있다.\n",
    "- Input Data로 특정 pH, 온도를 입력하였을 때, 나오는 출력값을 통해 해당 pH와 온도에서 어떠한 품질 결과가 나타나는지 확인할 수 있다.\n",
    "- 이를 통해, 사용자가 원하는 품질을 얻기 위한 최적 공정을 역산으로 얻을 수 있다."
   ]
  },
  {
   "cell_type": "markdown",
   "metadata": {},
   "source": [
    "- Decision Tree Regressor Model의 평가를 위해 테스트 데이터셋을 사용하여 Predict 함수를 통해 예측하고, 테스트 데이터셋 target 데이터와 비교하여 RMSE 계산 결과 약 3.16로 나타난다."
   ]
  },
  {
   "cell_type": "markdown",
   "metadata": {},
   "source": [
    "#### ⑨-3. 튜닝한 Decision Tree 모델 평가"
   ]
  },
  {
   "cell_type": "code",
   "execution_count": 50,
   "metadata": {},
   "outputs": [
    {
     "name": "stdout",
     "output_type": "stream",
     "text": [
      "Decision Tree Model Predict :  [96.08707447 96.57043411 96.08707447 ... 96.08707447 96.08707447\n",
      " 96.08707447]\n",
      "Decision Tree Model RMSE :  3.1989508064514167\n"
     ]
    }
   ],
   "source": [
    "predicted_data = new_clf.predict(test_data[['pH', 'Temp']])\n",
    "print('Decision Tree Model Predict : ', predicted_data)\n",
    "rmse = sqrt(mean_squared_error(test_data['Process'], predicted_data))\n",
    "print('Decision Tree Model RMSE : ',rmse)"
   ]
  },
  {
   "cell_type": "markdown",
   "metadata": {},
   "source": [
    "- accuracy_score 함수를 이용하여 accuracy 값을 도출한다.\n",
    "- 이를 통해 확인할 수 있는 것은 해당 모델의 경우 정확도가 낮다는 것이다.\n",
    "- RMSE와 비교하였을 때, 알 수 있는 점은 Output Data의 분포가 크지 않아서 일정 범위에서 예측했기 때문에 RMSE는 작지만, 정확한 값을 예측하지는 않는다는 것이다."
   ]
  },
  {
   "cell_type": "code",
   "execution_count": 51,
   "metadata": {},
   "outputs": [
    {
     "name": "stdout",
     "output_type": "stream",
     "text": [
      "accuracy  =  0.3636091426290049\n"
     ]
    }
   ],
   "source": [
    "y_test = test_data['Process']\n",
    "y_test = [round(y, 0) for y in y_test]\n",
    "y_pred = [round(y, 0) for y in predicted_data]\n",
    "print(\"accuracy  = \", accuracy_score(y_test, y_pred))"
   ]
  },
  {
   "cell_type": "markdown",
   "metadata": {},
   "source": [
    "- classification_report 함수를 이용하여 각 target value에 따른 결과값을 도출한다. 해당 모델의 경우 데이터 예측을 위한 것이기 때문에 계산되는 결과의 범위가 넓어 float -> int로 변형하여 해당 과정을 진행하였다."
   ]
  },
  {
   "cell_type": "code",
   "execution_count": 52,
   "metadata": {},
   "outputs": [
    {
     "name": "stdout",
     "output_type": "stream",
     "text": [
      "              precision    recall  f1-score   support\n",
      "\n",
      "        81.0       0.00      0.00      0.00        57\n",
      "        82.0       0.00      0.00      0.00       122\n",
      "        83.0       0.00      0.00      0.00       216\n",
      "        84.0       0.00      0.00      0.00       140\n",
      "        88.0       0.00      0.00      0.00         0\n",
      "        91.0       0.00      0.00      0.00         0\n",
      "        94.0       0.00      0.00      0.00         0\n",
      "        95.0       0.00      0.00      0.00        36\n",
      "        96.0       0.36      0.92      0.52      3650\n",
      "        97.0       0.41      0.07      0.12      4135\n",
      "        98.0       0.00      0.00      0.00      1663\n",
      "\n",
      "    accuracy                           0.36     10019\n",
      "   macro avg       0.07      0.09      0.06     10019\n",
      "weighted avg       0.30      0.36      0.24     10019\n",
      "\n"
     ]
    },
    {
     "name": "stderr",
     "output_type": "stream",
     "text": [
      "C:\\Users\\K10545\\Anaconda3\\lib\\site-packages\\sklearn\\metrics\\_classification.py:1272: UndefinedMetricWarning: Precision and F-score are ill-defined and being set to 0.0 in labels with no predicted samples. Use `zero_division` parameter to control this behavior.\n",
      "  _warn_prf(average, modifier, msg_start, len(result))\n",
      "C:\\Users\\K10545\\Anaconda3\\lib\\site-packages\\sklearn\\metrics\\_classification.py:1272: UndefinedMetricWarning: Recall and F-score are ill-defined and being set to 0.0 in labels with no true samples. Use `zero_division` parameter to control this behavior.\n",
      "  _warn_prf(average, modifier, msg_start, len(result))\n"
     ]
    }
   ],
   "source": [
    "print(classification_report(y_test, y_pred))"
   ]
  },
  {
   "cell_type": "markdown",
   "metadata": {},
   "source": [
    "- 모델의 결과를 3D로 시각화할 수 있다."
   ]
  },
  {
   "cell_type": "code",
   "execution_count": 53,
   "metadata": {},
   "outputs": [
    {
     "data": {
      "image/png": "[encoded data removed]",
      "text/plain": [
       "<Figure size 432x288 with 1 Axes>"
      ]
     },
     "metadata": {
      "needs_background": "light"
     },
     "output_type": "display_data"
    }
   ],
   "source": [
    "fig = plt.figure()\n",
    "ax = fig.gca(projection='3d')\n",
    "ax.scatter(test_data['pH'], test_data['Temp'], predicted_data)\n",
    "ax.set_xlabel('pH Test Data')\n",
    "ax.set_ylabel('Temp Test Data')\n",
    "ax.set_zlabel('Estimated Process Data')\n",
    "plt.show()"
   ]
  },
  {
   "cell_type": "markdown",
   "metadata": {},
   "source": [
    "#### ⑨-4. Tuned Decision Tree 모델 해석\n",
    "- Target Value가 약 90대로 나타나기 때문에 오차율은 약 3% 정도로 볼 수 있다.\n",
    "- 하지만 정확도가 0.37 정도로 나타나기 때문에 제대로 학습이 진행되었다고는 볼수 없는 모델로 나타났다.\n",
    "- Input Data로 특정 pH, 온도를 입력하였을 때, 나오는 출력값을 통해 해당 pH와 온도에서 어떠한 품질 결과가 나타나는지 확인할 수 있다.\n",
    "- 이를 통해, 사용자가 원하는 품질을 얻기 위한 최적 공정을 역산으로 얻을 수 있다."
   ]
  },
  {
   "cell_type": "markdown",
   "metadata": {},
   "source": [
    "# SVM(Support Vector Machine) Model"
   ]
  },
  {
   "cell_type": "markdown",
   "metadata": {},
   "source": [
    "### [단계 ⑥'] 모델링\n",
    "#### ⑥-1'. SVM 모델링"
   ]
  },
  {
   "cell_type": "markdown",
   "metadata": {},
   "source": [
    "- 가장 기본적인 Decision Tree 모델을 사용하였으며, 별다른 Hyper-Parameter를 사용하지 않았다."
   ]
  },
  {
   "cell_type": "code",
   "execution_count": 55,
   "metadata": {},
   "outputs": [],
   "source": [
    "sv = SVC()"
   ]
  },
  {
   "cell_type": "markdown",
   "metadata": {},
   "source": [
    "### [단계 ⑦'] 모델 훈련\n",
    "#### ⑦-1'. Decision Tree 모델 학습"
   ]
  },
  {
   "cell_type": "markdown",
   "metadata": {},
   "source": [
    "- classification을 진행할때 label이 int 타입이 되어야하는데 y_train이 float 타입 데이터인 경우 오류가 발생한다.\n",
    "- 다만 연속형이기때문에 label이 너무 많아 정확한 예측이 힘들기 때문에 accuracy가 굉장히 낮게 나오는 문제가 생길수 있다.\n",
    "- 이 경우에는 가격 부분을 범주형으로 쪼개는 방법을 사용한다. 가령 0~10은 1, 10~20은 2, 20~30은 3 등 과 같이 변경해야 더 정확한 모델이 나오게 된다."
   ]
  },
  {
   "cell_type": "code",
   "execution_count": 69,
   "metadata": {},
   "outputs": [],
   "source": [
    "X_train = train_data[['pH','Temp']]\n",
    "X_test = test_data[['pH','Temp']]\n",
    "\n",
    "y_train = train_data[['Process']].apply(lambda x : round(x))\n",
    "y_test = test_data[['Process']].apply(lambda x : round(x))"
   ]
  },
  {
   "cell_type": "code",
   "execution_count": 66,
   "metadata": {},
   "outputs": [
    {
     "name": "stderr",
     "output_type": "stream",
     "text": [
      "C:\\Users\\K10545\\Anaconda3\\lib\\site-packages\\sklearn\\utils\\validation.py:760: DataConversionWarning: A column-vector y was passed when a 1d array was expected. Please change the shape of y to (n_samples, ), for example using ravel().\n",
      "  y = column_or_1d(y, warn=True)\n"
     ]
    }
   ],
   "source": [
    "# sv = sv.fit(train_data[['pH','Temp']], y_train)\n",
    "sv = sv.fit(X_train, y_train)"
   ]
  },
  {
   "cell_type": "code",
   "execution_count": 67,
   "metadata": {},
   "outputs": [],
   "source": [
    "predicted_data = sv.predict(test_data[['pH', 'Temp']])"
   ]
  },
  {
   "cell_type": "code",
   "execution_count": 68,
   "metadata": {},
   "outputs": [
    {
     "name": "stdout",
     "output_type": "stream",
     "text": [
      "SVM Model Predict :  [97. 97. 97. ... 97. 97. 97.]\n",
      "SVM Model RMSE :  3.365705994883749\n"
     ]
    }
   ],
   "source": [
    "print('SVM Model Predict : ', predicted_data)\n",
    "rmse = sqrt(mean_squared_error(y_test, predicted_data))\n",
    "print('SVM Model RMSE : ',rmse)"
   ]
  },
  {
   "cell_type": "markdown",
   "metadata": {},
   "source": [
    "- 훈련셋 정확도는 40.82%, 테스트셋 정확도는 약 41.27%가 나온다."
   ]
  },
  {
   "cell_type": "code",
   "execution_count": 70,
   "metadata": {},
   "outputs": [
    {
     "name": "stdout",
     "output_type": "stream",
     "text": [
      "훈련 정확도: 0.4081846537741734\n",
      "테스트 정확도: 0.41271583990418204\n"
     ]
    }
   ],
   "source": [
    "print(\"훈련 정확도:\", sv.score(X_train, y_train))\n",
    "print(\"테스트 정확도:\", sv.score(X_test, y_test))\n",
    "# 훈련 정확도: 0.4081846537741734\n",
    "# 테스트 정확도: 0.41271583990418204"
   ]
  },
  {
   "cell_type": "markdown",
   "metadata": {},
   "source": [
    "- SVM은 스케일링에 민감하기 때문에 scaling을 진행하고 확인한다. 현재 사용한 scaling 기법은 MinMaxScaler는 모든 데이터가 0과 1 사이의 값을 갖도록 해주는 함수이다. "
   ]
  },
  {
   "cell_type": "code",
   "execution_count": 87,
   "metadata": {},
   "outputs": [
    {
     "data": {
      "image/png": "[encoded data removed]",
      "text/plain": [
       "<Figure size 1080x576 with 5 Axes>"
      ]
     },
     "metadata": {
      "needs_background": "light"
     },
     "output_type": "display_data"
    }
   ],
   "source": [
    "import mglearn\n",
    "mglearn.plots.plot_scaling()"
   ]
  },
  {
   "cell_type": "code",
   "execution_count": 81,
   "metadata": {},
   "outputs": [],
   "source": [
    "from sklearn.preprocessing import StandardScaler\n",
    "from sklearn.preprocessing import MinMaxScaler\n",
    "scaler = MinMaxScaler()"
   ]
  },
  {
   "cell_type": "code",
   "execution_count": 82,
   "metadata": {},
   "outputs": [
    {
     "data": {
      "text/plain": [
       "MinMaxScaler(copy=True, feature_range=(0, 1))"
      ]
     },
     "execution_count": 82,
     "metadata": {},
     "output_type": "execute_result"
    }
   ],
   "source": [
    "scaler.fit(X_train)"
   ]
  },
  {
   "cell_type": "code",
   "execution_count": 83,
   "metadata": {},
   "outputs": [],
   "source": [
    "X_train_scaled = scaler.transform(X_train)\n",
    "X_test_scaled = scaler.transform(X_test)"
   ]
  },
  {
   "cell_type": "code",
   "execution_count": 84,
   "metadata": {},
   "outputs": [
    {
     "name": "stderr",
     "output_type": "stream",
     "text": [
      "C:\\Users\\K10545\\Anaconda3\\lib\\site-packages\\sklearn\\utils\\validation.py:760: DataConversionWarning: A column-vector y was passed when a 1d array was expected. Please change the shape of y to (n_samples, ), for example using ravel().\n",
      "  y = column_or_1d(y, warn=True)\n"
     ]
    }
   ],
   "source": [
    "# sv = sv.fit(train_data[['pH','Temp']], y_train)\n",
    "sv_scaled = sv.fit(X_train_scaled, y_train)"
   ]
  },
  {
   "cell_type": "code",
   "execution_count": 85,
   "metadata": {},
   "outputs": [],
   "source": [
    "predicted_data_scaled = sv_scaled.predict(X_test_scaled)"
   ]
  },
  {
   "cell_type": "markdown",
   "metadata": {},
   "source": [
    "- SVM Model의 평가를 위해 테스트 데이터셋을 사용하여 Predict 함수를 통해 예측하고, 테스트 데이터셋 target 데이터와 비교하여 RMSE 계산 결과 약 3.359로 나타난다."
   ]
  },
  {
   "cell_type": "code",
   "execution_count": 86,
   "metadata": {},
   "outputs": [
    {
     "name": "stdout",
     "output_type": "stream",
     "text": [
      "SVM Model Predict :  [97. 97. 97. ... 97. 97. 97.]\n",
      "SVM Model RMSE :  3.3593835194127575\n"
     ]
    }
   ],
   "source": [
    "print('SVM Model Predict : ', predicted_data_scaled)\n",
    "rmse = sqrt(mean_squared_error(y_test, predicted_data_scaled))\n",
    "print('SVM Model RMSE : ',rmse)"
   ]
  },
  {
   "cell_type": "markdown",
   "metadata": {},
   "source": [
    "- scaling 후 훈련셋 정확도는 40.82%, 테스트셋 정확도는 약 41.27%가 나온다.\n",
    "- Decision Tree 대비 RMSE는 3.1989508064514167 -> 3.3593835194127575, 정확도는 0.3636091426290049 -> 0.41271583990418204"
   ]
  },
  {
   "cell_type": "code",
   "execution_count": 89,
   "metadata": {},
   "outputs": [
    {
     "name": "stdout",
     "output_type": "stream",
     "text": [
      "훈련 정확도: 0.4081846537741734\n",
      "테스트 정확도: 0.41271583990418204\n"
     ]
    }
   ],
   "source": [
    "print(\"훈련 정확도:\", sv_scaled.score(X_train, y_train))\n",
    "print(\"테스트 정확도:\", sv_scaled.score(X_test, y_test))\n",
    "# 훈련 정확도: 0.4081846537741734\n",
    "# 테스트 정확도: 0.41271583990418204"
   ]
  },
  {
   "cell_type": "markdown",
   "metadata": {},
   "source": [
    "# Appendix. 데이터 품질 전처리"
   ]
  },
  {
   "cell_type": "code",
   "execution_count": 51,
   "metadata": {
    "scrolled": true
   },
   "outputs": [
    {
     "name": "stdout",
     "output_type": "stream",
     "text": [
      "DataFrame name: pH\n",
      "[step 1-1]\n",
      "0.0\n",
      "[step 1-2]\n",
      "False\n",
      "[step 2-1]\n",
      "Time\n",
      "2021-09-06 09:01:18    False\n",
      "2021-09-06 09:01:23    False\n",
      "2021-09-06 09:01:28    False\n",
      "2021-09-06 09:01:33    False\n",
      "2021-09-06 09:01:38    False\n",
      "Name: pH, dtype: bool\n",
      "[step 2-2]\n",
      "0\n",
      "[step 2-3]\n",
      "0\n",
      "결측치 = 0개 \n",
      "완전성 지수 : 100.00% \n",
      "\n",
      "\n",
      "\n",
      "DataFrame name: Temp\n",
      "[step 1-1]\n",
      "0.0\n",
      "[step 1-2]\n",
      "False\n",
      "[step 2-1]\n",
      "Time\n",
      "2021-09-06 09:01:18    False\n",
      "2021-09-06 09:01:23    False\n",
      "2021-09-06 09:01:28    False\n",
      "2021-09-06 09:01:33    False\n",
      "2021-09-06 09:01:38    False\n",
      "Name: Temp, dtype: bool\n",
      "[step 2-2]\n",
      "0\n",
      "[step 2-3]\n",
      "0\n",
      "결측치 = 0개 \n",
      "완전성 지수 : 100.00% \n",
      "\n",
      "\n",
      "\n"
     ]
    }
   ],
   "source": [
    "perc =30\n",
    "data_columns = ['pH', 'Temp']\n",
    "for df_name in list(data_columns):\n",
    "    print(f'DataFrame name: {df_name}')\n",
    "    df = dedicated_data[df_name]\n",
    "    print('[step 1-1]')\n",
    "    print(round(df.isnull().sum()/len(df)*100,2))\n",
    "    print('[step 1-2]')\n",
    "    print(df.isnull().sum()/len(df)*100>perc)\n",
    "    print('[step 2-1]')\n",
    "    print(df.isnull().head())\n",
    "    print('[step 2-2]')\n",
    "    print(df.isnull().sum())\n",
    "    print('[step 2-3]')\n",
    "    cmpt_len =df.isnull().sum().sum()\n",
    "    print(cmpt_len)\n",
    "    print(\"결측치 = %d개 \\n완전성 지수 : %.2f%% \"%(cmpt_len,(1-cmpt_len/len(df))*100))\n",
    "    print('\\n\\n')"
   ]
  },
  {
   "cell_type": "code",
   "execution_count": 52,
   "metadata": {},
   "outputs": [
    {
     "name": "stdout",
     "output_type": "stream",
     "text": [
      "The percentage of uniqueness for pH<->Temp : 37.55\n",
      "유일성 지수 : 37.55% \n"
     ]
    }
   ],
   "source": [
    "check_unique =dedicated_data[\n",
    "    ['pH','Temp']\n",
    "    ].value_counts().reset_index()\n",
    "perc_check_unique_item_urgent_info =round(\n",
    "    (len(check_unique)-len(check_unique[check_unique[0]>1]))\n",
    "    /len(check_unique)*100,2)\n",
    "\n",
    "print(f'The percentage of uniqueness for pH<->Temp : {perc_check_unique_item_urgent_info}')\n",
    "print(\"유일성 지수 : %.2f%% \"%(perc_check_unique_item_urgent_info))"
   ]
  },
  {
   "cell_type": "code",
   "execution_count": 53,
   "metadata": {},
   "outputs": [
    {
     "name": "stderr",
     "output_type": "stream",
     "text": [
      "C:\\Users\\user\\anaconda3\\envs\\auto\\lib\\site-packages\\ipykernel_launcher.py:11: FutureWarning: Value based partial slicing on non-monotonic DatetimeIndexes with non-existing keys is deprecated and will raise a KeyError in a future Version.\n",
      "  # This is added back by InteractiveShellApp.init_path()\n"
     ]
    },
    {
     "name": "stdout",
     "output_type": "stream",
     "text": [
      "[Step 1] 데이터 범위를 벗어난 데이터 수: 0\n",
      "[Step 2] 수집된 날짜를 벗어나는 데이터 수: 0\n",
      "[Step 3] 데이터 형식을 벗어나는 데이터 수: 0\n",
      "유효성 지수 : 100.00% \n"
     ]
    }
   ],
   "source": [
    "df = dedicated_data\n",
    "pH_lb =df['pH']>=1\n",
    "pH_ub =df['pH']<=4\n",
    "temp_lb =df['Temp']>=35\n",
    "temp_ub =df['Temp']<=65\n",
    "vald_df =df[pH_lb &pH_ub &temp_lb &temp_ub]\n",
    "print(f'[Step 1] 데이터 범위를 벗어난 데이터 수: {len(df)-len(vald_df)}')\n",
    "\n",
    "d0 = '2021-09-06'\n",
    "d1 = '2021-10-27'\n",
    "vald_df =vald_df.loc[d0:d1]\n",
    "print(f'[Step 2] 수집된 날짜를 벗어나는 데이터 수: {len(df)-len(vald_df)}')\n",
    "\n",
    "vald_df['DTime']=vald_df['DTime'].apply(lambda x:isinstance(x,datetime.datetime))\n",
    "vald_df['pH']=vald_df['pH'].apply(lambda x:isinstance(x,float))\n",
    "vald_df['Temp']=vald_df['Temp'].apply(lambda x:isinstance(x,float))\n",
    "print(f'[Step 3] 데이터 형식을 벗어나는 데이터 수: {len(df)-len(vald_df)}')\n",
    "\n",
    "vald_df[\n",
    "    (vald_df['pH']==True)\n",
    "    &(vald_df['Temp']==True)\n",
    "    ]\n",
    "vald_len =len(vald_df)\n",
    "item_vald =vald_len/len(df)*100\n",
    "print(\"유효성 지수 : %.2f%% \"%(item_vald)) "
   ]
  }
 ],
 "metadata": {
  "kernelspec": {
   "display_name": "KAMP",
   "language": "python",
   "name": "kamp"
  },
  "language_info": {
   "codemirror_mode": {
    "name": "ipython",
    "version": 3
   },
   "file_extension": ".py",
   "mimetype": "text/x-python",
   "name": "python",
   "nbconvert_exporter": "python",
   "pygments_lexer": "ipython3",
   "version": "3.8.5"
  }
 },
 "nbformat": 4,
 "nbformat_minor": 5
}
